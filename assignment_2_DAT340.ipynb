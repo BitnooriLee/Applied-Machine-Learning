{
  "nbformat": 4,
  "nbformat_minor": 0,
  "metadata": {
    "colab": {
      "provenance": [],
      "collapsed_sections": [],
      "include_colab_link": true
    },
    "kernelspec": {
      "name": "python3",
      "display_name": "Python 3"
    },
    "language_info": {
      "name": "python"
    },
    "accelerator": "GPU"
  },
  "cells": [
    {
      "cell_type": "markdown",
      "metadata": {
        "id": "view-in-github",
        "colab_type": "text"
      },
      "source": [
        "<a href=\"https://colab.research.google.com/github/BitnooriLee/Applied-Machine-Learning/blob/main/assignment_2_DAT340.ipynb\" target=\"_parent\"><img src=\"https://colab.research.google.com/assets/colab-badge.svg\" alt=\"Open In Colab\"/></a>"
      ]
    },
    {
      "cell_type": "markdown",
      "source": [
        "# **Programming assignment 2: Random forests**\n",
        "\n",
        "Bitnoori Lee\n",
        "\n",
        "Sena Bayraktaroglu"
      ],
      "metadata": {
        "id": "bn3R06BGo_z5"
      }
    },
    {
      "cell_type": "code",
      "execution_count": null,
      "metadata": {
        "id": "N6GUNu7cn13N",
        "colab": {
          "base_uri": "https://localhost:8080/"
        },
        "outputId": "0ca62961-e65d-4d2f-c0f6-6a6481fb6443"
      },
      "outputs": [
        {
          "output_type": "stream",
          "name": "stdout",
          "text": [
            "Mounted at /content/gdrive\n"
          ]
        }
      ],
      "source": [
        "# Import Data set\n",
        "from google.colab import drive\n",
        "drive.mount('/content/gdrive')\n",
        "\n",
        "root = '/content/gdrive/My Drive/DAT340/'\n",
        "\n",
        "import pandas as pd\n",
        "import matplotlib.pyplot as plt\n",
        "import numpy as np\n",
        "\n",
        "#from sklearn.model_selection import train_test_split\n",
        "\n",
        "testdata = pd.read_csv(root+\"adult_test.csv\")\n",
        "traindata = pd.read_csv(root+\"adult_train.csv\")"
      ]
    },
    {
      "cell_type": "code",
      "source": [
        "traindata"
      ],
      "metadata": {
        "colab": {
          "base_uri": "https://localhost:8080/",
          "height": 670
        },
        "id": "2yAkv0L5qu4_",
        "outputId": "e0933b11-d4d8-4b1d-89db-6ef143e1b37f"
      },
      "execution_count": null,
      "outputs": [
        {
          "output_type": "execute_result",
          "data": {
            "text/plain": [
              "       age  workclass     education  education-num      marital-status  \\\n",
              "0       27    Private  Some-college             10            Divorced   \n",
              "1       27    Private     Bachelors             13       Never-married   \n",
              "2       25    Private    Assoc-acdm             12  Married-civ-spouse   \n",
              "3       46    Private       5th-6th              3  Married-civ-spouse   \n",
              "4       45    Private          11th              7            Divorced   \n",
              "...    ...        ...           ...            ...                 ...   \n",
              "32556   43  Local-gov       Masters             14  Married-civ-spouse   \n",
              "32557   44    Private          10th              6       Never-married   \n",
              "32558   23    Private  Some-college             10           Separated   \n",
              "32559   45  Local-gov     Doctorate             16  Married-civ-spouse   \n",
              "32560   25    Private  Some-college             10       Never-married   \n",
              "\n",
              "             occupation   relationship                race     sex  \\\n",
              "0          Adm-clerical      Unmarried               White  Female   \n",
              "1        Prof-specialty  Not-in-family               White  Female   \n",
              "2                 Sales        Husband               White    Male   \n",
              "3      Transport-moving        Husband  Amer-Indian-Eskimo    Male   \n",
              "4      Transport-moving  Not-in-family               White    Male   \n",
              "...                 ...            ...                 ...     ...   \n",
              "32556   Exec-managerial        Husband               White    Male   \n",
              "32557   Farming-fishing      Unmarried               White    Male   \n",
              "32558             Sales      Own-child               White  Female   \n",
              "32559   Exec-managerial        Husband               White    Male   \n",
              "32560     Other-service  Not-in-family               White    Male   \n",
              "\n",
              "       capital-gain  capital-loss  hours-per-week native-country target  \n",
              "0                 0             0              44  United-States  <=50K  \n",
              "1                 0             0              40  United-States  <=50K  \n",
              "2                 0             0              40  United-States  <=50K  \n",
              "3                 0          1902              40  United-States  <=50K  \n",
              "4                 0          2824              76  United-States   >50K  \n",
              "...             ...           ...             ...            ...    ...  \n",
              "32556             0             0              40  United-States   >50K  \n",
              "32557             0             0              35  United-States  <=50K  \n",
              "32558             0             0              40  United-States  <=50K  \n",
              "32559          7688             0              45  United-States   >50K  \n",
              "32560          2597             0              48  United-States  <=50K  \n",
              "\n",
              "[32561 rows x 14 columns]"
            ],
            "text/html": [
              "\n",
              "  <div id=\"df-9ce7d476-9f40-43cc-8dca-44b51a130013\">\n",
              "    <div class=\"colab-df-container\">\n",
              "      <div>\n",
              "<style scoped>\n",
              "    .dataframe tbody tr th:only-of-type {\n",
              "        vertical-align: middle;\n",
              "    }\n",
              "\n",
              "    .dataframe tbody tr th {\n",
              "        vertical-align: top;\n",
              "    }\n",
              "\n",
              "    .dataframe thead th {\n",
              "        text-align: right;\n",
              "    }\n",
              "</style>\n",
              "<table border=\"1\" class=\"dataframe\">\n",
              "  <thead>\n",
              "    <tr style=\"text-align: right;\">\n",
              "      <th></th>\n",
              "      <th>age</th>\n",
              "      <th>workclass</th>\n",
              "      <th>education</th>\n",
              "      <th>education-num</th>\n",
              "      <th>marital-status</th>\n",
              "      <th>occupation</th>\n",
              "      <th>relationship</th>\n",
              "      <th>race</th>\n",
              "      <th>sex</th>\n",
              "      <th>capital-gain</th>\n",
              "      <th>capital-loss</th>\n",
              "      <th>hours-per-week</th>\n",
              "      <th>native-country</th>\n",
              "      <th>target</th>\n",
              "    </tr>\n",
              "  </thead>\n",
              "  <tbody>\n",
              "    <tr>\n",
              "      <th>0</th>\n",
              "      <td>27</td>\n",
              "      <td>Private</td>\n",
              "      <td>Some-college</td>\n",
              "      <td>10</td>\n",
              "      <td>Divorced</td>\n",
              "      <td>Adm-clerical</td>\n",
              "      <td>Unmarried</td>\n",
              "      <td>White</td>\n",
              "      <td>Female</td>\n",
              "      <td>0</td>\n",
              "      <td>0</td>\n",
              "      <td>44</td>\n",
              "      <td>United-States</td>\n",
              "      <td>&lt;=50K</td>\n",
              "    </tr>\n",
              "    <tr>\n",
              "      <th>1</th>\n",
              "      <td>27</td>\n",
              "      <td>Private</td>\n",
              "      <td>Bachelors</td>\n",
              "      <td>13</td>\n",
              "      <td>Never-married</td>\n",
              "      <td>Prof-specialty</td>\n",
              "      <td>Not-in-family</td>\n",
              "      <td>White</td>\n",
              "      <td>Female</td>\n",
              "      <td>0</td>\n",
              "      <td>0</td>\n",
              "      <td>40</td>\n",
              "      <td>United-States</td>\n",
              "      <td>&lt;=50K</td>\n",
              "    </tr>\n",
              "    <tr>\n",
              "      <th>2</th>\n",
              "      <td>25</td>\n",
              "      <td>Private</td>\n",
              "      <td>Assoc-acdm</td>\n",
              "      <td>12</td>\n",
              "      <td>Married-civ-spouse</td>\n",
              "      <td>Sales</td>\n",
              "      <td>Husband</td>\n",
              "      <td>White</td>\n",
              "      <td>Male</td>\n",
              "      <td>0</td>\n",
              "      <td>0</td>\n",
              "      <td>40</td>\n",
              "      <td>United-States</td>\n",
              "      <td>&lt;=50K</td>\n",
              "    </tr>\n",
              "    <tr>\n",
              "      <th>3</th>\n",
              "      <td>46</td>\n",
              "      <td>Private</td>\n",
              "      <td>5th-6th</td>\n",
              "      <td>3</td>\n",
              "      <td>Married-civ-spouse</td>\n",
              "      <td>Transport-moving</td>\n",
              "      <td>Husband</td>\n",
              "      <td>Amer-Indian-Eskimo</td>\n",
              "      <td>Male</td>\n",
              "      <td>0</td>\n",
              "      <td>1902</td>\n",
              "      <td>40</td>\n",
              "      <td>United-States</td>\n",
              "      <td>&lt;=50K</td>\n",
              "    </tr>\n",
              "    <tr>\n",
              "      <th>4</th>\n",
              "      <td>45</td>\n",
              "      <td>Private</td>\n",
              "      <td>11th</td>\n",
              "      <td>7</td>\n",
              "      <td>Divorced</td>\n",
              "      <td>Transport-moving</td>\n",
              "      <td>Not-in-family</td>\n",
              "      <td>White</td>\n",
              "      <td>Male</td>\n",
              "      <td>0</td>\n",
              "      <td>2824</td>\n",
              "      <td>76</td>\n",
              "      <td>United-States</td>\n",
              "      <td>&gt;50K</td>\n",
              "    </tr>\n",
              "    <tr>\n",
              "      <th>...</th>\n",
              "      <td>...</td>\n",
              "      <td>...</td>\n",
              "      <td>...</td>\n",
              "      <td>...</td>\n",
              "      <td>...</td>\n",
              "      <td>...</td>\n",
              "      <td>...</td>\n",
              "      <td>...</td>\n",
              "      <td>...</td>\n",
              "      <td>...</td>\n",
              "      <td>...</td>\n",
              "      <td>...</td>\n",
              "      <td>...</td>\n",
              "      <td>...</td>\n",
              "    </tr>\n",
              "    <tr>\n",
              "      <th>32556</th>\n",
              "      <td>43</td>\n",
              "      <td>Local-gov</td>\n",
              "      <td>Masters</td>\n",
              "      <td>14</td>\n",
              "      <td>Married-civ-spouse</td>\n",
              "      <td>Exec-managerial</td>\n",
              "      <td>Husband</td>\n",
              "      <td>White</td>\n",
              "      <td>Male</td>\n",
              "      <td>0</td>\n",
              "      <td>0</td>\n",
              "      <td>40</td>\n",
              "      <td>United-States</td>\n",
              "      <td>&gt;50K</td>\n",
              "    </tr>\n",
              "    <tr>\n",
              "      <th>32557</th>\n",
              "      <td>44</td>\n",
              "      <td>Private</td>\n",
              "      <td>10th</td>\n",
              "      <td>6</td>\n",
              "      <td>Never-married</td>\n",
              "      <td>Farming-fishing</td>\n",
              "      <td>Unmarried</td>\n",
              "      <td>White</td>\n",
              "      <td>Male</td>\n",
              "      <td>0</td>\n",
              "      <td>0</td>\n",
              "      <td>35</td>\n",
              "      <td>United-States</td>\n",
              "      <td>&lt;=50K</td>\n",
              "    </tr>\n",
              "    <tr>\n",
              "      <th>32558</th>\n",
              "      <td>23</td>\n",
              "      <td>Private</td>\n",
              "      <td>Some-college</td>\n",
              "      <td>10</td>\n",
              "      <td>Separated</td>\n",
              "      <td>Sales</td>\n",
              "      <td>Own-child</td>\n",
              "      <td>White</td>\n",
              "      <td>Female</td>\n",
              "      <td>0</td>\n",
              "      <td>0</td>\n",
              "      <td>40</td>\n",
              "      <td>United-States</td>\n",
              "      <td>&lt;=50K</td>\n",
              "    </tr>\n",
              "    <tr>\n",
              "      <th>32559</th>\n",
              "      <td>45</td>\n",
              "      <td>Local-gov</td>\n",
              "      <td>Doctorate</td>\n",
              "      <td>16</td>\n",
              "      <td>Married-civ-spouse</td>\n",
              "      <td>Exec-managerial</td>\n",
              "      <td>Husband</td>\n",
              "      <td>White</td>\n",
              "      <td>Male</td>\n",
              "      <td>7688</td>\n",
              "      <td>0</td>\n",
              "      <td>45</td>\n",
              "      <td>United-States</td>\n",
              "      <td>&gt;50K</td>\n",
              "    </tr>\n",
              "    <tr>\n",
              "      <th>32560</th>\n",
              "      <td>25</td>\n",
              "      <td>Private</td>\n",
              "      <td>Some-college</td>\n",
              "      <td>10</td>\n",
              "      <td>Never-married</td>\n",
              "      <td>Other-service</td>\n",
              "      <td>Not-in-family</td>\n",
              "      <td>White</td>\n",
              "      <td>Male</td>\n",
              "      <td>2597</td>\n",
              "      <td>0</td>\n",
              "      <td>48</td>\n",
              "      <td>United-States</td>\n",
              "      <td>&lt;=50K</td>\n",
              "    </tr>\n",
              "  </tbody>\n",
              "</table>\n",
              "<p>32561 rows × 14 columns</p>\n",
              "</div>\n",
              "      <button class=\"colab-df-convert\" onclick=\"convertToInteractive('df-9ce7d476-9f40-43cc-8dca-44b51a130013')\"\n",
              "              title=\"Convert this dataframe to an interactive table.\"\n",
              "              style=\"display:none;\">\n",
              "        \n",
              "  <svg xmlns=\"http://www.w3.org/2000/svg\" height=\"24px\"viewBox=\"0 0 24 24\"\n",
              "       width=\"24px\">\n",
              "    <path d=\"M0 0h24v24H0V0z\" fill=\"none\"/>\n",
              "    <path d=\"M18.56 5.44l.94 2.06.94-2.06 2.06-.94-2.06-.94-.94-2.06-.94 2.06-2.06.94zm-11 1L8.5 8.5l.94-2.06 2.06-.94-2.06-.94L8.5 2.5l-.94 2.06-2.06.94zm10 10l.94 2.06.94-2.06 2.06-.94-2.06-.94-.94-2.06-.94 2.06-2.06.94z\"/><path d=\"M17.41 7.96l-1.37-1.37c-.4-.4-.92-.59-1.43-.59-.52 0-1.04.2-1.43.59L10.3 9.45l-7.72 7.72c-.78.78-.78 2.05 0 2.83L4 21.41c.39.39.9.59 1.41.59.51 0 1.02-.2 1.41-.59l7.78-7.78 2.81-2.81c.8-.78.8-2.07 0-2.86zM5.41 20L4 18.59l7.72-7.72 1.47 1.35L5.41 20z\"/>\n",
              "  </svg>\n",
              "      </button>\n",
              "      \n",
              "  <style>\n",
              "    .colab-df-container {\n",
              "      display:flex;\n",
              "      flex-wrap:wrap;\n",
              "      gap: 12px;\n",
              "    }\n",
              "\n",
              "    .colab-df-convert {\n",
              "      background-color: #E8F0FE;\n",
              "      border: none;\n",
              "      border-radius: 50%;\n",
              "      cursor: pointer;\n",
              "      display: none;\n",
              "      fill: #1967D2;\n",
              "      height: 32px;\n",
              "      padding: 0 0 0 0;\n",
              "      width: 32px;\n",
              "    }\n",
              "\n",
              "    .colab-df-convert:hover {\n",
              "      background-color: #E2EBFA;\n",
              "      box-shadow: 0px 1px 2px rgba(60, 64, 67, 0.3), 0px 1px 3px 1px rgba(60, 64, 67, 0.15);\n",
              "      fill: #174EA6;\n",
              "    }\n",
              "\n",
              "    [theme=dark] .colab-df-convert {\n",
              "      background-color: #3B4455;\n",
              "      fill: #D2E3FC;\n",
              "    }\n",
              "\n",
              "    [theme=dark] .colab-df-convert:hover {\n",
              "      background-color: #434B5C;\n",
              "      box-shadow: 0px 1px 3px 1px rgba(0, 0, 0, 0.15);\n",
              "      filter: drop-shadow(0px 1px 2px rgba(0, 0, 0, 0.3));\n",
              "      fill: #FFFFFF;\n",
              "    }\n",
              "  </style>\n",
              "\n",
              "      <script>\n",
              "        const buttonEl =\n",
              "          document.querySelector('#df-9ce7d476-9f40-43cc-8dca-44b51a130013 button.colab-df-convert');\n",
              "        buttonEl.style.display =\n",
              "          google.colab.kernel.accessAllowed ? 'block' : 'none';\n",
              "\n",
              "        async function convertToInteractive(key) {\n",
              "          const element = document.querySelector('#df-9ce7d476-9f40-43cc-8dca-44b51a130013');\n",
              "          const dataTable =\n",
              "            await google.colab.kernel.invokeFunction('convertToInteractive',\n",
              "                                                     [key], {});\n",
              "          if (!dataTable) return;\n",
              "\n",
              "          const docLinkHtml = 'Like what you see? Visit the ' +\n",
              "            '<a target=\"_blank\" href=https://colab.research.google.com/notebooks/data_table.ipynb>data table notebook</a>'\n",
              "            + ' to learn more about interactive tables.';\n",
              "          element.innerHTML = '';\n",
              "          dataTable['output_type'] = 'display_data';\n",
              "          await google.colab.output.renderOutput(dataTable, element);\n",
              "          const docLink = document.createElement('div');\n",
              "          docLink.innerHTML = docLinkHtml;\n",
              "          element.appendChild(docLink);\n",
              "        }\n",
              "      </script>\n",
              "    </div>\n",
              "  </div>\n",
              "  "
            ]
          },
          "metadata": {},
          "execution_count": 2
        }
      ]
    },
    {
      "cell_type": "code",
      "source": [
        "X_train = traindata.loc[:,traindata.columns !=\"target\"]\n",
        "Y_train = traindata[\"target\"]\n",
        "\n",
        "X_test = testdata.loc[:,testdata.columns !=\"target\"]\n",
        "Y_test = testdata[\"target\"]"
      ],
      "metadata": {
        "id": "aKJBz15dq_l9"
      },
      "execution_count": null,
      "outputs": []
    },
    {
      "cell_type": "code",
      "source": [
        "from sklearn.feature_extraction import DictVectorizer\n",
        "dicts_for_my_training_data = X_train.to_dict('records')\n",
        "dv = DictVectorizer()\n",
        "X_train_encoded = dv.fit_transform(dicts_for_my_training_data)\n",
        "\n",
        "dicts_for_my_test_data = X_test.to_dict('records')\n",
        "X_test_encoded = dv.transform(dicts_for_my_test_data)"
      ],
      "metadata": {
        "id": "JGZTUZ0orz5h"
      },
      "execution_count": null,
      "outputs": []
    },
    {
      "cell_type": "code",
      "source": [
        "from sklearn.ensemble import GradientBoostingClassifier\n",
        "from sklearn.model_selection import cross_val_score\n",
        "\n",
        "GBC = GradientBoostingClassifier()\n",
        "result =cross_val_score(GBC, X_train_encoded, Y_train)\n",
        "print(\"cross validation GradientBoostingClassifier \",result)\n"
      ],
      "metadata": {
        "colab": {
          "base_uri": "https://localhost:8080/"
        },
        "id": "XQZJT2xAsoLe",
        "outputId": "521d8977-cf70-4501-e36a-7f0ad13e4210"
      },
      "execution_count": null,
      "outputs": [
        {
          "output_type": "stream",
          "name": "stdout",
          "text": [
            "cross validation GradientBoostingClassifier  [0.86427146 0.87208231 0.86624693 0.86210074 0.8634828 ]\n"
          ]
        }
      ]
    },
    {
      "cell_type": "code",
      "source": [
        "from sklearn.metrics import accuracy_score\n",
        "GBC.fit(X_train_encoded, Y_train)\n",
        "Yguess = GBC.predict(X_test_encoded)\n",
        "print(accuracy_score(Y_test, Yguess))"
      ],
      "metadata": {
        "colab": {
          "base_uri": "https://localhost:8080/"
        },
        "id": "_Nt_twkGvBqz",
        "outputId": "5a443a96-ff14-47b7-c886-6263dda8f84a"
      },
      "execution_count": null,
      "outputs": [
        {
          "output_type": "stream",
          "name": "stdout",
          "text": [
            "0.8711381364781033\n"
          ]
        }
      ]
    },
    {
      "cell_type": "code",
      "source": [
        "from sklearn.pipeline import make_pipeline\n",
        "from sklearn.ensemble import GradientBoostingClassifier\n",
        "pipeline = make_pipeline(\n",
        "  DictVectorizer(),\n",
        "  GradientBoostingClassifier()\n",
        ")\n",
        "pipeline.fit(dicts_for_my_training_data,Y_train)\n",
        "Yguess = pipeline.predict(dicts_for_my_test_data)\n",
        "print(accuracy_score(Y_test, Yguess))"
      ],
      "metadata": {
        "colab": {
          "base_uri": "https://localhost:8080/"
        },
        "id": "yPS0kzw3zZqY",
        "outputId": "3348d85a-1e8b-4e18-e35f-818c2b5debcf"
      },
      "execution_count": null,
      "outputs": [
        {
          "output_type": "stream",
          "name": "stdout",
          "text": [
            "0.8711381364781033\n"
          ]
        }
      ]
    },
    {
      "cell_type": "markdown",
      "source": [
        "TASK 2"
      ],
      "metadata": {
        "id": "J9EZ1U4G4Lyx"
      }
    },
    {
      "cell_type": "code",
      "source": [
        "from sklearn.tree import DecisionTreeClassifier\n",
        "from sklearn.metrics import f1_score\n",
        "from sklearn.metrics import log_loss\n",
        "acc_train_dtc = []\n",
        "acc_test_dtc = []\n",
        "for i in range(1,20): \n",
        "  pipeline = make_pipeline(\n",
        "    DictVectorizer(),\n",
        "    DecisionTreeClassifier(max_depth = i)\n",
        "  )\n",
        "  pipeline.fit(dicts_for_my_training_data,Y_train)\n",
        "  print(\"max depth : \",i)\n",
        "  acc_temp_train = accuracy_score(Y_train, pipeline.predict(dicts_for_my_training_data))\n",
        "  acc_train_dtc.append(acc_temp_train)\n",
        "  print(\"train accuracy : \",acc_temp_train)\n",
        "  acc_temp_test = accuracy_score(Y_test, pipeline.predict(dicts_for_my_test_data))\n",
        "  acc_test_dtc.append(acc_temp_test)\n",
        "  print(\"test accuracy : \",acc_temp_test)\n",
        "  #print(f1_score(Y_test, Yguess))"
      ],
      "metadata": {
        "colab": {
          "base_uri": "https://localhost:8080/"
        },
        "id": "hAQutu064Np_",
        "outputId": "4c138ee5-6453-4211-9e13-4039b3bd8f4a"
      },
      "execution_count": null,
      "outputs": [
        {
          "output_type": "stream",
          "name": "stdout",
          "text": [
            "max depth :  1\n",
            "train accuracy :  0.7591904425539756\n",
            "test accuracy :  0.7637737239727289\n",
            "max depth :  2\n",
            "train accuracy :  0.8282300912134148\n",
            "test accuracy :  0.8306615072784227\n",
            "max depth :  3\n",
            "train accuracy :  0.8438930008292128\n",
            "test accuracy :  0.8447884036607088\n",
            "max depth :  4\n",
            "train accuracy :  0.8438930008292128\n",
            "test accuracy :  0.8447884036607088\n",
            "max depth :  5\n",
            "train accuracy :  0.8519701483369675\n",
            "test accuracy :  0.8522818008721823\n",
            "max depth :  6\n",
            "train accuracy :  0.8570989834464543\n",
            "test accuracy :  0.8575640316933849\n",
            "max depth :  7\n",
            "train accuracy :  0.8583888701206965\n",
            "test accuracy :  0.8568269762299613\n",
            "max depth :  8\n",
            "train accuracy :  0.8605386812444336\n",
            "test accuracy :  0.8567655549413427\n",
            "max depth :  9\n",
            "train accuracy :  0.8639476674549308\n",
            "test accuracy :  0.8586696148885203\n",
            "max depth :  10\n",
            "train accuracy :  0.8693529068517551\n",
            "test accuracy :  0.8610036238560285\n",
            "max depth :  11\n",
            "train accuracy :  0.873806087036639\n",
            "test accuracy :  0.8602051471039862\n",
            "max depth :  12\n",
            "train accuracy :  0.877982862934185\n",
            "test accuracy :  0.8584239297340458\n",
            "max depth :  13\n",
            "train accuracy :  0.8838794877307208\n",
            "test accuracy :  0.8517904305632332\n",
            "max depth :  14\n",
            "train accuracy :  0.8899603820521482\n",
            "test accuracy :  0.850991953811191\n",
            "max depth :  15\n",
            "train accuracy :  0.8973618746352999\n",
            "test accuracy :  0.8492721577298692\n",
            "max depth :  16\n",
            "train accuracy :  0.9034120573692455\n",
            "test accuracy :  0.8436828204655734\n",
            "max depth :  17\n",
            "train accuracy :  0.9102607413777218\n",
            "test accuracy :  0.8415944966525398\n",
            "max depth :  18\n",
            "train accuracy :  0.9160038082368478\n",
            "test accuracy :  0.8399975431484552\n",
            "max depth :  19\n",
            "train accuracy :  0.9220847025582752\n",
            "test accuracy :  0.8364351084085744\n"
          ]
        }
      ]
    },
    {
      "cell_type": "code",
      "source": [
        "plt.plot(acc_train_dtc,label=\"train\")\n",
        "plt.plot(acc_test_dtc,label=\"test\")\n",
        "plt.xlabel(\"no of depth\")\n",
        "plt.ylabel(\"accuracy\")\n",
        "plt.legend(loc=\"upper left\")"
      ],
      "metadata": {
        "colab": {
          "base_uri": "https://localhost:8080/",
          "height": 295
        },
        "id": "yJsUJDCB5O9F",
        "outputId": "9e9cfea1-0f72-4d9d-afc7-1c8877023211"
      },
      "execution_count": null,
      "outputs": [
        {
          "output_type": "execute_result",
          "data": {
            "text/plain": [
              "<matplotlib.legend.Legend at 0x7f94a21991d0>"
            ]
          },
          "metadata": {},
          "execution_count": 19
        },
        {
          "output_type": "display_data",
          "data": {
            "text/plain": [
              "<Figure size 432x288 with 1 Axes>"
            ],
            "image/png": "[encoded data removed]"
          },
          "metadata": {
            "needs_background": "light"
          }
        }
      ]
    },
    {
      "cell_type": "code",
      "source": [
        "from sklearn.ensemble import RandomForestClassifier\n",
        "from sklearn.metrics import f1_score\n",
        "from sklearn.metrics import log_loss\n",
        "acc_train_rfc = []\n",
        "acc_test_rfc = []\n",
        "for i in range(1,20): \n",
        "  pipeline = make_pipeline(\n",
        "    DictVectorizer(),\n",
        "    RandomForestClassifier(max_depth= i,n_jobs=-1)\n",
        "  )\n",
        "  pipeline.fit(dicts_for_my_training_data,Y_train)\n",
        "  print(\"max depth : \",i)\n",
        "  acc_temp_train = accuracy_score(Y_train, pipeline.predict(dicts_for_my_training_data))\n",
        "  acc_train_rfc.append(acc_temp_train)\n",
        "  print(\"train accuracy : \",acc_temp_train)\n",
        "  acc_temp_test = accuracy_score(Y_test, pipeline.predict(dicts_for_my_test_data))\n",
        "  acc_test_rfc.append(acc_temp_test)\n",
        "  print(\"test accuracy : \",acc_temp_test)"
      ],
      "metadata": {
        "colab": {
          "base_uri": "https://localhost:8080/"
        },
        "id": "RN0pwtzO1iUw",
        "outputId": "32494713-7b3d-498b-b0df-0dffa5042a24"
      },
      "execution_count": null,
      "outputs": [
        {
          "output_type": "stream",
          "name": "stdout",
          "text": [
            "max depth :  1\n",
            "train accuracy :  0.7591904425539756\n",
            "test accuracy :  0.7637737239727289\n",
            "max depth :  2\n",
            "train accuracy :  0.7643807008384264\n",
            "test accuracy :  0.7680117928874147\n",
            "max depth :  3\n",
            "train accuracy :  0.7895949141611129\n",
            "test accuracy :  0.7925803083348688\n",
            "max depth :  4\n",
            "train accuracy :  0.8268173581892448\n",
            "test accuracy :  0.8256863829003133\n",
            "max depth :  5\n",
            "train accuracy :  0.8413746506556924\n",
            "test accuracy :  0.8408574411891161\n",
            "max depth :  6\n",
            "train accuracy :  0.84730198703971\n",
            "test accuracy :  0.8460168294330815\n",
            "max depth :  7\n",
            "train accuracy :  0.8500353183256043\n",
            "test accuracy :  0.8497021067501996\n",
            "max depth :  8\n",
            "train accuracy :  0.8563926169343693\n",
            "test accuracy :  0.8551686014372581\n",
            "max depth :  9\n",
            "train accuracy :  0.8600780074322042\n",
            "test accuracy :  0.855352865303114\n",
            "max depth :  10\n",
            "train accuracy :  0.8642854949172323\n",
            "test accuracy :  0.8586696148885203\n",
            "max depth :  11\n",
            "train accuracy :  0.8678173274776573\n",
            "test accuracy :  0.8598366193722744\n",
            "max depth :  12\n",
            "train accuracy :  0.8690150793894537\n",
            "test accuracy :  0.859222406486088\n",
            "max depth :  13\n",
            "train accuracy :  0.8754952243481465\n",
            "test accuracy :  0.8608193599901726\n",
            "max depth :  14\n",
            "train accuracy :  0.878781364208716\n",
            "test accuracy :  0.8618635218966894\n",
            "max depth :  15\n",
            "train accuracy :  0.8835416602684193\n",
            "test accuracy :  0.8611264664332657\n",
            "max depth :  16\n",
            "train accuracy :  0.886643530604097\n",
            "test accuracy :  0.8615564154535962\n",
            "max depth :  17\n",
            "train accuracy :  0.8913731150763183\n",
            "test accuracy :  0.8616792580308335\n",
            "max depth :  18\n",
            "train accuracy :  0.9006173029083874\n",
            "test accuracy :  0.8645046373072907\n",
            "max depth :  19\n",
            "train accuracy :  0.9040877122938484\n",
            "test accuracy :  0.8635218966893925\n"
          ]
        }
      ]
    },
    {
      "cell_type": "code",
      "source": [
        "plt.plot(acc_train_dtc,label=\"train_dtc\")\n",
        "plt.plot(acc_test_dtc,label=\"test_dtc\")\n",
        "plt.plot(acc_train_rfc,label=\"train_rfc\")\n",
        "plt.plot(acc_test_rfc,label=\"test_rfc\")\n",
        "plt.xlabel(\"no of depth\")\n",
        "plt.ylabel(\"accuracy\")\n",
        "plt.legend(loc=\"upper left\")"
      ],
      "metadata": {
        "colab": {
          "base_uri": "https://localhost:8080/",
          "height": 295
        },
        "id": "krOFde9p2yY8",
        "outputId": "8d512134-c5d7-4b8c-f20e-90b299520cf6"
      },
      "execution_count": null,
      "outputs": [
        {
          "output_type": "execute_result",
          "data": {
            "text/plain": [
              "<matplotlib.legend.Legend at 0x7f94a1d33650>"
            ]
          },
          "metadata": {},
          "execution_count": 22
        },
        {
          "output_type": "display_data",
          "data": {
            "text/plain": [
              "<Figure size 432x288 with 1 Axes>"
            ],
            "image/png": "[encoded data removed]"
          },
          "metadata": {
            "needs_background": "light"
          }
        }
      ]
    },
    {
      "cell_type": "code",
      "source": [
        "for i in range(1,10,500): \n",
        "  print(i)\n"
      ],
      "metadata": {
        "id": "r9ShJUPE-e5v",
        "outputId": "f77bfbca-50e8-414e-8a48-9d09c5d2a6d5",
        "colab": {
          "base_uri": "https://localhost:8080/"
        }
      },
      "execution_count": null,
      "outputs": [
        {
          "output_type": "stream",
          "name": "stdout",
          "text": [
            "1\n"
          ]
        }
      ]
    },
    {
      "cell_type": "code",
      "source": [
        "from sklearn.ensemble import RandomForestClassifier\n",
        "from sklearn.metrics import f1_score\n",
        "from sklearn.metrics import log_loss\n",
        "from datetime import datetime\n",
        "\n",
        "time_array = []\n",
        "\n",
        "for i in range(1,150,30): \n",
        "  acc_train_rfc = []\n",
        "  acc_test_rfc = []\n",
        "  print(i)\n",
        "  for j in range(1,20):\n",
        "    pipeline = make_pipeline(\n",
        "      DictVectorizer(),\n",
        "      RandomForestClassifier(max_depth= j,n_estimators= i,n_jobs=-1)\n",
        "    )\n",
        "    start = datetime.now()\n",
        "    pipeline.fit(dicts_for_my_training_data,Y_train)\n",
        "    end = datetime.now()\n",
        "    time_array.append(end-start)\n",
        "    #print(end-start)\n",
        "    acc_temp_train = accuracy_score(Y_train, pipeline.predict(dicts_for_my_training_data))\n",
        "    acc_temp_test = accuracy_score(Y_test, pipeline.predict(dicts_for_my_test_data))\n",
        "    acc_test_rfc.append(acc_temp_test)\n",
        "    #print(\"test accuracy : \",acc_temp_test)\n",
        "    acc_train_rfc.append(acc_temp_train)\n",
        "    #print(\"train accuracy : \",acc_temp_train)\n",
        "    x = np.arange(1,500,10)\n",
        "  plt.figure()  \n",
        "  plt.plot(acc_train_rfc ,label=\"train_rfc\")\n",
        "  plt.plot(acc_test_rfc, label=\"test_rfc\")\n",
        "  title_name = \"plot when number of estimators = \" + str(i)\n",
        "  plt.title(title_name)\n",
        "  plt.xlabel(\"no of depths\")\n",
        "  plt.ylabel(\"accuracy\")\n",
        "  plt.legend(loc=\"upper left\")\n"
      ],
      "metadata": {
        "id": "D_suzVqJ-J47",
        "colab": {
          "base_uri": "https://localhost:8080/",
          "height": 1000
        },
        "outputId": "b4efcd72-a85c-40fd-a73a-dc615870f2f5"
      },
      "execution_count": null,
      "outputs": [
        {
          "output_type": "stream",
          "name": "stdout",
          "text": [
            "1\n",
            "31\n",
            "61\n",
            "91\n",
            "121\n"
          ]
        },
        {
          "output_type": "display_data",
          "data": {
            "text/plain": [
              "<Figure size 432x288 with 1 Axes>"
            ],
            "image/png": "[encoded data removed]"
          },
          "metadata": {
            "needs_background": "light"
          }
        },
        {
          "output_type": "display_data",
          "data": {
            "text/plain": [
              "<Figure size 432x288 with 1 Axes>"
            ],
            "image/png": "[encoded data removed]"
          },
          "metadata": {
            "needs_background": "light"
          }
        },
        {
          "output_type": "display_data",
          "data": {
            "text/plain": [
              "<Figure size 432x288 with 1 Axes>"
            ],
            "image/png": "[encoded data removed]"
          },
          "metadata": {
            "needs_background": "light"
          }
        },
        {
          "output_type": "display_data",
          "data": {
            "text/plain": [
              "<Figure size 432x288 with 1 Axes>"
            ],
            "image/png": "[encoded data removed]"
          },
          "metadata": {
            "needs_background": "light"
          }
        },
        {
          "output_type": "display_data",
          "data": {
            "text/plain": [
              "<Figure size 432x288 with 1 Axes>"
            ],
            "image/png": "[encoded data removed]"
          },
          "metadata": {
            "needs_background": "light"
          }
        }
      ]
    },
    {
      "cell_type": "markdown",
      "source": [
        "**QUESTIONS** \n",
        "\n",
        "*   Accuracy for test set in decision tree starts to decrease after the number of depths while accuracy for random forest converges at a value even though the number of depths increases. This difference occurs because the decision tree has more possibility of overfitting due to variance. However since a random forest uses multiple trees, it has a lower chance to overfit.  \n",
        "*   Curve has a jumping behaviour when number of estimators equal to 1 however this jumping behaviour decreases as number of estimators increase.   \n",
        "*   Best accuracy converges at a value as ensemble size grows\n",
        "*   As we increase ensemble size, training time also increases. When ensemble 1 execution time was 00.678524, when ensemble size was 500 execution time was  0:00:16.929996\n"
      ],
      "metadata": {
        "id": "jgsBpw7w3vHC"
      }
    },
    {
      "cell_type": "markdown",
      "source": [
        "TASK 3"
      ],
      "metadata": {
        "id": "K6kuSxUFHa1p"
      }
    },
    {
      "cell_type": "code",
      "source": [
        "pipeline = make_pipeline(\n",
        "  DictVectorizer(),\n",
        "  RandomForestClassifier(max_depth= 11,n_estimators= 100,n_jobs=-1)\n",
        ")\n",
        "start = datetime.now()\n",
        "pipeline.fit(dicts_for_my_training_data,Y_train)\n",
        "importances = pipeline[1].feature_importances_"
      ],
      "metadata": {
        "id": "tz0OoltLIzIG"
      },
      "execution_count": null,
      "outputs": []
    },
    {
      "cell_type": "code",
      "source": [
        "importances_sorted = np.sort(importances)[::-1]\n",
        "importances_indexes = np.argsort(importances)[::-1]\n",
        "print(importances_sorted)\n",
        "print(importances_indexes)"
      ],
      "metadata": {
        "colab": {
          "base_uri": "https://localhost:8080/"
        },
        "id": "Qq-adwlbJa7g",
        "outputId": "1b8193a1-ac38-430e-802b-38e9ede5d9a4"
      },
      "execution_count": null,
      "outputs": [
        {
          "output_type": "stream",
          "name": "stdout",
          "text": [
            "[1.63255953e-01 1.21978483e-01 1.01668896e-01 9.89031563e-02\n",
            " 6.99746809e-02 5.67365028e-02 3.72674117e-02 3.65450648e-02\n",
            " 2.72309801e-02 2.51099585e-02 2.50725068e-02 2.48193719e-02\n",
            " 2.08543884e-02 1.82653832e-02 1.78743134e-02 1.56832927e-02\n",
            " 1.41788100e-02 1.29363682e-02 1.08387692e-02 9.41028459e-03\n",
            " 8.50091960e-03 8.23311686e-03 5.18613695e-03 4.62164824e-03\n",
            " 3.35873333e-03 3.12741289e-03 3.07113537e-03 2.73921202e-03\n",
            " 2.64933887e-03 2.31292329e-03 2.21364302e-03 2.21139426e-03\n",
            " 2.18290051e-03 1.99779554e-03 1.94767980e-03 1.94162733e-03\n",
            " 1.83748392e-03 1.76275852e-03 1.68952905e-03 1.64548640e-03\n",
            " 1.60937410e-03 1.54858411e-03 1.54756504e-03 1.53883235e-03\n",
            " 1.51900385e-03 1.51877944e-03 1.51508329e-03 1.24407393e-03\n",
            " 1.18937912e-03 1.09551518e-03 1.05790463e-03 1.02650096e-03\n",
            " 9.98472388e-04 8.03045240e-04 7.97826935e-04 6.02059972e-04\n",
            " 5.80589189e-04 5.32398290e-04 4.95343031e-04 4.61614747e-04\n",
            " 4.10605844e-04 4.00603228e-04 3.93172478e-04 3.74155845e-04\n",
            " 3.48479176e-04 3.32531202e-04 3.26849196e-04 2.95810939e-04\n",
            " 2.66205632e-04 2.51836930e-04 2.23882531e-04 2.15980034e-04\n",
            " 1.96293591e-04 1.68665299e-04 1.64875561e-04 1.63823126e-04\n",
            " 1.61724980e-04 1.58583916e-04 1.39575343e-04 1.23193670e-04\n",
            " 1.10452239e-04 1.07092703e-04 1.00098715e-04 9.83244532e-05\n",
            " 9.21380715e-05 8.49209650e-05 7.98607063e-05 7.95083672e-05\n",
            " 7.68276731e-05 7.34217102e-05 7.04428094e-05 6.33801016e-05\n",
            " 5.77796113e-05 5.30982296e-05 4.66990591e-05 3.29343089e-05\n",
            " 3.27818535e-05 3.22157192e-05 2.24576702e-05 1.74982238e-05\n",
            " 1.20836393e-05 8.07874440e-06 5.89972067e-06 5.19795043e-06\n",
            " 2.40401953e-06 1.56304928e-07 0.00000000e+00]\n",
            "[  1  23   3  90   0  25  20   2  74  80  91  13  93  95  96  97  16  21\n",
            "  18  15  94  78  14 103 104   9  19 102  75  99  87   5  26  83  89  71\n",
            "  67  76  73  27  54  82  70   4  10 100  77 105  92  98  86  84  12  28\n",
            "  81  11   8  85  24  47  37  30  58  63  39  50  88  31  52  22  33  61\n",
            "   6  38  64  51  59  48   7  60  68  40  69  42  29  32  45  34  41  79\n",
            "  36  46  49  35  55  57  66  17  65  53  62  56  72 106  44 101  43]\n"
          ]
        }
      ]
    },
    {
      "cell_type": "code",
      "source": [
        "names = pipeline[0].get_feature_names_out([importances])\n",
        "print(names)"
      ],
      "metadata": {
        "colab": {
          "base_uri": "https://localhost:8080/"
        },
        "id": "pq4GHfTdJd-I",
        "outputId": "0a05bf56-700c-4152-924b-a3898d68c041"
      },
      "execution_count": null,
      "outputs": [
        {
          "output_type": "stream",
          "name": "stdout",
          "text": [
            "['age' 'capital-gain' 'capital-loss' 'education-num' 'education=10th'\n",
            " 'education=11th' 'education=12th' 'education=1st-4th' 'education=5th-6th'\n",
            " 'education=7th-8th' 'education=9th' 'education=Assoc-acdm'\n",
            " 'education=Assoc-voc' 'education=Bachelors' 'education=Doctorate'\n",
            " 'education=HS-grad' 'education=Masters' 'education=Preschool'\n",
            " 'education=Prof-school' 'education=Some-college' 'hours-per-week'\n",
            " 'marital-status=Divorced' 'marital-status=Married-AF-spouse'\n",
            " 'marital-status=Married-civ-spouse'\n",
            " 'marital-status=Married-spouse-absent' 'marital-status=Never-married'\n",
            " 'marital-status=Separated' 'marital-status=Widowed' 'native-country=?'\n",
            " 'native-country=Cambodia' 'native-country=Canada' 'native-country=China'\n",
            " 'native-country=Columbia' 'native-country=Cuba'\n",
            " 'native-country=Dominican-Republic' 'native-country=Ecuador'\n",
            " 'native-country=El-Salvador' 'native-country=England'\n",
            " 'native-country=France' 'native-country=Germany' 'native-country=Greece'\n",
            " 'native-country=Guatemala' 'native-country=Haiti'\n",
            " 'native-country=Holand-Netherlands' 'native-country=Honduras'\n",
            " 'native-country=Hong' 'native-country=Hungary' 'native-country=India'\n",
            " 'native-country=Iran' 'native-country=Ireland' 'native-country=Italy'\n",
            " 'native-country=Jamaica' 'native-country=Japan' 'native-country=Laos'\n",
            " 'native-country=Mexico' 'native-country=Nicaragua'\n",
            " 'native-country=Outlying-US(Guam-USVI-etc)' 'native-country=Peru'\n",
            " 'native-country=Philippines' 'native-country=Poland'\n",
            " 'native-country=Portugal' 'native-country=Puerto-Rico'\n",
            " 'native-country=Scotland' 'native-country=South' 'native-country=Taiwan'\n",
            " 'native-country=Thailand' 'native-country=Trinadad&Tobago'\n",
            " 'native-country=United-States' 'native-country=Vietnam'\n",
            " 'native-country=Yugoslavia' 'occupation=?' 'occupation=Adm-clerical'\n",
            " 'occupation=Armed-Forces' 'occupation=Craft-repair'\n",
            " 'occupation=Exec-managerial' 'occupation=Farming-fishing'\n",
            " 'occupation=Handlers-cleaners' 'occupation=Machine-op-inspct'\n",
            " 'occupation=Other-service' 'occupation=Priv-house-serv'\n",
            " 'occupation=Prof-specialty' 'occupation=Protective-serv'\n",
            " 'occupation=Sales' 'occupation=Tech-support'\n",
            " 'occupation=Transport-moving' 'race=Amer-Indian-Eskimo'\n",
            " 'race=Asian-Pac-Islander' 'race=Black' 'race=Other' 'race=White'\n",
            " 'relationship=Husband' 'relationship=Not-in-family'\n",
            " 'relationship=Other-relative' 'relationship=Own-child'\n",
            " 'relationship=Unmarried' 'relationship=Wife' 'sex=Female' 'sex=Male'\n",
            " 'workclass=?' 'workclass=Federal-gov' 'workclass=Local-gov'\n",
            " 'workclass=Never-worked' 'workclass=Private' 'workclass=Self-emp-inc'\n",
            " 'workclass=Self-emp-not-inc' 'workclass=State-gov'\n",
            " 'workclass=Without-pay']\n"
          ]
        }
      ]
    },
    {
      "cell_type": "code",
      "source": [
        "names_sorted = names[importances_indexes]\n",
        "print(names_sorted)"
      ],
      "metadata": {
        "colab": {
          "base_uri": "https://localhost:8080/"
        },
        "id": "-e8wnYJPJuJG",
        "outputId": "a5a9974c-d5f2-40bc-fa90-d30f90f1f440"
      },
      "execution_count": null,
      "outputs": [
        {
          "output_type": "stream",
          "name": "stdout",
          "text": [
            "['capital-gain' 'marital-status=Married-civ-spouse' 'education-num'\n",
            " 'relationship=Husband' 'age' 'marital-status=Never-married'\n",
            " 'hours-per-week' 'capital-loss' 'occupation=Exec-managerial'\n",
            " 'occupation=Prof-specialty' 'relationship=Not-in-family'\n",
            " 'education=Bachelors' 'relationship=Own-child' 'relationship=Wife'\n",
            " 'sex=Female' 'sex=Male' 'education=Masters' 'marital-status=Divorced'\n",
            " 'education=Prof-school' 'education=HS-grad' 'relationship=Unmarried'\n",
            " 'occupation=Other-service' 'education=Doctorate' 'workclass=Self-emp-inc'\n",
            " 'workclass=Self-emp-not-inc' 'education=7th-8th' 'education=Some-college'\n",
            " 'workclass=Private' 'occupation=Farming-fishing' 'workclass=Federal-gov'\n",
            " 'race=Black' 'education=11th' 'marital-status=Separated'\n",
            " 'occupation=Tech-support' 'race=White' 'occupation=Adm-clerical'\n",
            " 'native-country=United-States' 'occupation=Handlers-cleaners'\n",
            " 'occupation=Craft-repair' 'marital-status=Widowed'\n",
            " 'native-country=Mexico' 'occupation=Sales' 'occupation=?'\n",
            " 'education=10th' 'education=9th' 'workclass=Local-gov'\n",
            " 'occupation=Machine-op-inspct' 'workclass=State-gov'\n",
            " 'relationship=Other-relative' 'workclass=?' 'race=Asian-Pac-Islander'\n",
            " 'occupation=Transport-moving' 'education=Assoc-voc' 'native-country=?'\n",
            " 'occupation=Protective-serv' 'education=Assoc-acdm' 'education=5th-6th'\n",
            " 'race=Amer-Indian-Eskimo' 'marital-status=Married-spouse-absent'\n",
            " 'native-country=India' 'native-country=England' 'native-country=Canada'\n",
            " 'native-country=Philippines' 'native-country=South'\n",
            " 'native-country=Germany' 'native-country=Italy' 'race=Other'\n",
            " 'native-country=China' 'native-country=Japan'\n",
            " 'marital-status=Married-AF-spouse' 'native-country=Cuba'\n",
            " 'native-country=Puerto-Rico' 'education=12th' 'native-country=France'\n",
            " 'native-country=Taiwan' 'native-country=Jamaica' 'native-country=Poland'\n",
            " 'native-country=Iran' 'education=1st-4th' 'native-country=Portugal'\n",
            " 'native-country=Vietnam' 'native-country=Greece'\n",
            " 'native-country=Yugoslavia' 'native-country=Haiti'\n",
            " 'native-country=Cambodia' 'native-country=Columbia' 'native-country=Hong'\n",
            " 'native-country=Dominican-Republic' 'native-country=Guatemala'\n",
            " 'occupation=Priv-house-serv' 'native-country=El-Salvador'\n",
            " 'native-country=Hungary' 'native-country=Ireland'\n",
            " 'native-country=Ecuador' 'native-country=Nicaragua' 'native-country=Peru'\n",
            " 'native-country=Trinadad&Tobago' 'education=Preschool'\n",
            " 'native-country=Thailand' 'native-country=Laos' 'native-country=Scotland'\n",
            " 'native-country=Outlying-US(Guam-USVI-etc)' 'occupation=Armed-Forces'\n",
            " 'workclass=Without-pay' 'native-country=Honduras'\n",
            " 'workclass=Never-worked' 'native-country=Holand-Netherlands']\n"
          ]
        }
      ]
    },
    {
      "cell_type": "markdown",
      "source": [
        "ALTERNATIVE SOLUTION"
      ],
      "metadata": {
        "id": "F0OmubhGouBa"
      }
    },
    {
      "cell_type": "code",
      "source": [
        "importances = pipeline.steps[1][1].feature_importances_\n",
        "importances_names = pipeline.steps[0][1].feature_names_\n",
        "ranked = sorted(zip(importances, importances_names), reverse=True)[:20]\n",
        "\n",
        "for imp, name in ranked:\n",
        "    print(name, imp)"
      ],
      "metadata": {
        "colab": {
          "base_uri": "https://localhost:8080/"
        },
        "id": "XjOu-xr1otcL",
        "outputId": "b53e5f5c-6dc0-4397-df9f-ad2425cc0e9c"
      },
      "execution_count": null,
      "outputs": [
        {
          "output_type": "stream",
          "name": "stdout",
          "text": [
            "capital-gain 0.14713457915933575\n",
            "marital-status=Married-civ-spouse 0.11343764701398681\n",
            "age 0.10019585822461582\n",
            "education-num 0.09774007423960154\n",
            "relationship=Husband 0.07084599091777989\n",
            "hours-per-week 0.06792528339767225\n",
            "capital-loss 0.04249730486033591\n",
            "marital-status=Never-married 0.032705719368690454\n",
            "occupation=Exec-managerial 0.024109133720143304\n",
            "occupation=Prof-specialty 0.019114609949168568\n",
            "relationship=Not-in-family 0.017171431687904085\n",
            "education=Bachelors 0.016314131876308723\n",
            "relationship=Own-child 0.014781198912392681\n",
            "education=Masters 0.013782513967263441\n",
            "sex=Female 0.013625540831826266\n",
            "relationship=Wife 0.013594831996176495\n",
            "sex=Male 0.011141017451011691\n",
            "marital-status=Divorced 0.009550833636797306\n",
            "occupation=Other-service 0.009505398592626203\n",
            "education=HS-grad 0.00881567116038279\n"
          ]
        }
      ]
    },
    {
      "cell_type": "markdown",
      "source": [
        "We found 3 most important individual features as \"capital gain\" , \"marital-status=Married-civ-spouse\", \"education-num\". The main reason why capital gain shows the highest score among the features is that the profit from selling capital has a larger effect on the model. Because normally, the scale of profit from investment is way more than a regular salary. Marital-status=Married-civ-spouse has the second largest effect on the model, even though it's unclear us to the reason for that. For the education-num, because generally, professionals who got higher education can get more chance to earn more salary. That is why we can understand that this feature affects the model. "
      ],
      "metadata": {
        "id": "DAQ37V1QMyzD"
      }
    },
    {
      "cell_type": "markdown",
      "source": [
        "**COMMENT** Another method that can be used to compute feature importances are permutation importance. Python's random forest importance of feature calculating is biased because it relies on the model's internal parameters. One of the drawbacks of the method is that when for example two features are correlated, it selects one of the features and neglects the importance of the second one. It might bring wrong conclusions. The other method is permutation importance better because it doesn't rely on the internal model parameters instead, it measures variable importance by looking at its effect on the model by randomly selecting variables.   "
      ],
      "metadata": {
        "id": "gsLUIOC3TY-6"
      }
    }
  ]
}