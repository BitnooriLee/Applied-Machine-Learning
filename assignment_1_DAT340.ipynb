{
  "cells": [
    {
      "cell_type": "markdown",
      "metadata": {
        "id": "view-in-github",
        "colab_type": "text"
      },
      "source": [
        "<a href=\"https://colab.research.google.com/github/BitnooriLee/Applied-Machine-Learning/blob/main/assignment_1_DAT340.ipynb\" target=\"_parent\"><img src=\"https://colab.research.google.com/assets/colab-badge.svg\" alt=\"Open In Colab\"/></a>"
      ]
    },
    {
      "cell_type": "markdown",
      "source": [
        "\n",
        "# Programming assignment 1\n",
        "Bitnoori Lee\n",
        "\n",
        "Sena Bayraktaroglu"
      ],
      "metadata": {
        "id": "Z8_KkjvQ91r2"
      }
    },
    {
      "cell_type": "markdown",
      "metadata": {
        "id": "2PpNr1lbA-dc"
      },
      "source": [
        "# Task 1: A classification example: fetal heart condition diagnosis"
      ]
    },
    {
      "cell_type": "markdown",
      "metadata": {
        "id": "ZzH5i0kmBJhT"
      },
      "source": [
        "Step 1. Reading the data"
      ]
    },
    {
      "cell_type": "code",
      "execution_count": null,
      "metadata": {
        "colab": {
          "base_uri": "https://localhost:8080/",
          "height": 253
        },
        "id": "iNRoZbxKzlaY",
        "outputId": "675359a1-a30d-4166-f152-1f65ef4b36bd"
      },
      "outputs": [
        {
          "name": "stdout",
          "output_type": "stream",
          "text": [
            "Drive already mounted at /content/gdrive; to attempt to forcibly remount, call drive.mount(\"/content/gdrive\", force_remount=True).\n"
          ]
        },
        {
          "data": {
            "text/html": [
              "\n",
              "  <div id=\"df-ace1a782-295a-4556-a7a9-b61457f1fc31\">\n",
              "    <div class=\"colab-df-container\">\n",
              "      <div>\n",
              "<style scoped>\n",
              "    .dataframe tbody tr th:only-of-type {\n",
              "        vertical-align: middle;\n",
              "    }\n",
              "\n",
              "    .dataframe tbody tr th {\n",
              "        vertical-align: top;\n",
              "    }\n",
              "\n",
              "    .dataframe thead th {\n",
              "        text-align: right;\n",
              "    }\n",
              "</style>\n",
              "<table border=\"1\" class=\"dataframe\">\n",
              "  <thead>\n",
              "    <tr style=\"text-align: right;\">\n",
              "      <th></th>\n",
              "      <th>LB</th>\n",
              "      <th>AC</th>\n",
              "      <th>FM</th>\n",
              "      <th>UC</th>\n",
              "      <th>DL</th>\n",
              "      <th>DS</th>\n",
              "      <th>DP</th>\n",
              "      <th>ASTV</th>\n",
              "      <th>MSTV</th>\n",
              "      <th>ALTV</th>\n",
              "      <th>...</th>\n",
              "      <th>Width</th>\n",
              "      <th>Min</th>\n",
              "      <th>Max</th>\n",
              "      <th>Nmax</th>\n",
              "      <th>Nzeros</th>\n",
              "      <th>Mode</th>\n",
              "      <th>Mean</th>\n",
              "      <th>Median</th>\n",
              "      <th>Variance</th>\n",
              "      <th>Tendency</th>\n",
              "    </tr>\n",
              "  </thead>\n",
              "  <tbody>\n",
              "    <tr>\n",
              "      <th>658</th>\n",
              "      <td>130.0</td>\n",
              "      <td>1.0</td>\n",
              "      <td>0.0</td>\n",
              "      <td>3.0</td>\n",
              "      <td>0.0</td>\n",
              "      <td>0.0</td>\n",
              "      <td>0.0</td>\n",
              "      <td>24.0</td>\n",
              "      <td>1.2</td>\n",
              "      <td>12.0</td>\n",
              "      <td>...</td>\n",
              "      <td>35.0</td>\n",
              "      <td>120.0</td>\n",
              "      <td>155.0</td>\n",
              "      <td>1.0</td>\n",
              "      <td>0.0</td>\n",
              "      <td>134.0</td>\n",
              "      <td>133.0</td>\n",
              "      <td>135.0</td>\n",
              "      <td>1.0</td>\n",
              "      <td>0.0</td>\n",
              "    </tr>\n",
              "    <tr>\n",
              "      <th>1734</th>\n",
              "      <td>134.0</td>\n",
              "      <td>9.0</td>\n",
              "      <td>1.0</td>\n",
              "      <td>8.0</td>\n",
              "      <td>5.0</td>\n",
              "      <td>0.0</td>\n",
              "      <td>0.0</td>\n",
              "      <td>59.0</td>\n",
              "      <td>1.2</td>\n",
              "      <td>0.0</td>\n",
              "      <td>...</td>\n",
              "      <td>109.0</td>\n",
              "      <td>80.0</td>\n",
              "      <td>189.0</td>\n",
              "      <td>6.0</td>\n",
              "      <td>0.0</td>\n",
              "      <td>150.0</td>\n",
              "      <td>146.0</td>\n",
              "      <td>150.0</td>\n",
              "      <td>33.0</td>\n",
              "      <td>0.0</td>\n",
              "    </tr>\n",
              "    <tr>\n",
              "      <th>1226</th>\n",
              "      <td>125.0</td>\n",
              "      <td>1.0</td>\n",
              "      <td>0.0</td>\n",
              "      <td>4.0</td>\n",
              "      <td>0.0</td>\n",
              "      <td>0.0</td>\n",
              "      <td>0.0</td>\n",
              "      <td>43.0</td>\n",
              "      <td>0.7</td>\n",
              "      <td>31.0</td>\n",
              "      <td>...</td>\n",
              "      <td>21.0</td>\n",
              "      <td>120.0</td>\n",
              "      <td>141.0</td>\n",
              "      <td>0.0</td>\n",
              "      <td>0.0</td>\n",
              "      <td>131.0</td>\n",
              "      <td>130.0</td>\n",
              "      <td>132.0</td>\n",
              "      <td>1.0</td>\n",
              "      <td>0.0</td>\n",
              "    </tr>\n",
              "    <tr>\n",
              "      <th>1808</th>\n",
              "      <td>143.0</td>\n",
              "      <td>0.0</td>\n",
              "      <td>0.0</td>\n",
              "      <td>1.0</td>\n",
              "      <td>0.0</td>\n",
              "      <td>0.0</td>\n",
              "      <td>0.0</td>\n",
              "      <td>69.0</td>\n",
              "      <td>0.3</td>\n",
              "      <td>6.0</td>\n",
              "      <td>...</td>\n",
              "      <td>27.0</td>\n",
              "      <td>132.0</td>\n",
              "      <td>159.0</td>\n",
              "      <td>1.0</td>\n",
              "      <td>0.0</td>\n",
              "      <td>145.0</td>\n",
              "      <td>144.0</td>\n",
              "      <td>146.0</td>\n",
              "      <td>1.0</td>\n",
              "      <td>0.0</td>\n",
              "    </tr>\n",
              "    <tr>\n",
              "      <th>825</th>\n",
              "      <td>152.0</td>\n",
              "      <td>0.0</td>\n",
              "      <td>0.0</td>\n",
              "      <td>4.0</td>\n",
              "      <td>0.0</td>\n",
              "      <td>0.0</td>\n",
              "      <td>0.0</td>\n",
              "      <td>62.0</td>\n",
              "      <td>0.4</td>\n",
              "      <td>59.0</td>\n",
              "      <td>...</td>\n",
              "      <td>25.0</td>\n",
              "      <td>136.0</td>\n",
              "      <td>161.0</td>\n",
              "      <td>0.0</td>\n",
              "      <td>0.0</td>\n",
              "      <td>159.0</td>\n",
              "      <td>156.0</td>\n",
              "      <td>158.0</td>\n",
              "      <td>1.0</td>\n",
              "      <td>1.0</td>\n",
              "    </tr>\n",
              "  </tbody>\n",
              "</table>\n",
              "<p>5 rows × 21 columns</p>\n",
              "</div>\n",
              "      <button class=\"colab-df-convert\" onclick=\"convertToInteractive('df-ace1a782-295a-4556-a7a9-b61457f1fc31')\"\n",
              "              title=\"Convert this dataframe to an interactive table.\"\n",
              "              style=\"display:none;\">\n",
              "        \n",
              "  <svg xmlns=\"http://www.w3.org/2000/svg\" height=\"24px\"viewBox=\"0 0 24 24\"\n",
              "       width=\"24px\">\n",
              "    <path d=\"M0 0h24v24H0V0z\" fill=\"none\"/>\n",
              "    <path d=\"M18.56 5.44l.94 2.06.94-2.06 2.06-.94-2.06-.94-.94-2.06-.94 2.06-2.06.94zm-11 1L8.5 8.5l.94-2.06 2.06-.94-2.06-.94L8.5 2.5l-.94 2.06-2.06.94zm10 10l.94 2.06.94-2.06 2.06-.94-2.06-.94-.94-2.06-.94 2.06-2.06.94z\"/><path d=\"M17.41 7.96l-1.37-1.37c-.4-.4-.92-.59-1.43-.59-.52 0-1.04.2-1.43.59L10.3 9.45l-7.72 7.72c-.78.78-.78 2.05 0 2.83L4 21.41c.39.39.9.59 1.41.59.51 0 1.02-.2 1.41-.59l7.78-7.78 2.81-2.81c.8-.78.8-2.07 0-2.86zM5.41 20L4 18.59l7.72-7.72 1.47 1.35L5.41 20z\"/>\n",
              "  </svg>\n",
              "      </button>\n",
              "      \n",
              "  <style>\n",
              "    .colab-df-container {\n",
              "      display:flex;\n",
              "      flex-wrap:wrap;\n",
              "      gap: 12px;\n",
              "    }\n",
              "\n",
              "    .colab-df-convert {\n",
              "      background-color: #E8F0FE;\n",
              "      border: none;\n",
              "      border-radius: 50%;\n",
              "      cursor: pointer;\n",
              "      display: none;\n",
              "      fill: #1967D2;\n",
              "      height: 32px;\n",
              "      padding: 0 0 0 0;\n",
              "      width: 32px;\n",
              "    }\n",
              "\n",
              "    .colab-df-convert:hover {\n",
              "      background-color: #E2EBFA;\n",
              "      box-shadow: 0px 1px 2px rgba(60, 64, 67, 0.3), 0px 1px 3px 1px rgba(60, 64, 67, 0.15);\n",
              "      fill: #174EA6;\n",
              "    }\n",
              "\n",
              "    [theme=dark] .colab-df-convert {\n",
              "      background-color: #3B4455;\n",
              "      fill: #D2E3FC;\n",
              "    }\n",
              "\n",
              "    [theme=dark] .colab-df-convert:hover {\n",
              "      background-color: #434B5C;\n",
              "      box-shadow: 0px 1px 3px 1px rgba(0, 0, 0, 0.15);\n",
              "      filter: drop-shadow(0px 1px 2px rgba(0, 0, 0, 0.3));\n",
              "      fill: #FFFFFF;\n",
              "    }\n",
              "  </style>\n",
              "\n",
              "      <script>\n",
              "        const buttonEl =\n",
              "          document.querySelector('#df-ace1a782-295a-4556-a7a9-b61457f1fc31 button.colab-df-convert');\n",
              "        buttonEl.style.display =\n",
              "          google.colab.kernel.accessAllowed ? 'block' : 'none';\n",
              "\n",
              "        async function convertToInteractive(key) {\n",
              "          const element = document.querySelector('#df-ace1a782-295a-4556-a7a9-b61457f1fc31');\n",
              "          const dataTable =\n",
              "            await google.colab.kernel.invokeFunction('convertToInteractive',\n",
              "                                                     [key], {});\n",
              "          if (!dataTable) return;\n",
              "\n",
              "          const docLinkHtml = 'Like what you see? Visit the ' +\n",
              "            '<a target=\"_blank\" href=https://colab.research.google.com/notebooks/data_table.ipynb>data table notebook</a>'\n",
              "            + ' to learn more about interactive tables.';\n",
              "          element.innerHTML = '';\n",
              "          dataTable['output_type'] = 'display_data';\n",
              "          await google.colab.output.renderOutput(dataTable, element);\n",
              "          const docLink = document.createElement('div');\n",
              "          docLink.innerHTML = docLinkHtml;\n",
              "          element.appendChild(docLink);\n",
              "        }\n",
              "      </script>\n",
              "    </div>\n",
              "  </div>\n",
              "  "
            ],
            "text/plain": [
              "         LB   AC   FM   UC   DL   DS   DP  ASTV  MSTV  ALTV  ...  Width  \\\n",
              "658   130.0  1.0  0.0  3.0  0.0  0.0  0.0  24.0   1.2  12.0  ...   35.0   \n",
              "1734  134.0  9.0  1.0  8.0  5.0  0.0  0.0  59.0   1.2   0.0  ...  109.0   \n",
              "1226  125.0  1.0  0.0  4.0  0.0  0.0  0.0  43.0   0.7  31.0  ...   21.0   \n",
              "1808  143.0  0.0  0.0  1.0  0.0  0.0  0.0  69.0   0.3   6.0  ...   27.0   \n",
              "825   152.0  0.0  0.0  4.0  0.0  0.0  0.0  62.0   0.4  59.0  ...   25.0   \n",
              "\n",
              "        Min    Max  Nmax  Nzeros   Mode   Mean  Median  Variance  Tendency  \n",
              "658   120.0  155.0   1.0     0.0  134.0  133.0   135.0       1.0       0.0  \n",
              "1734   80.0  189.0   6.0     0.0  150.0  146.0   150.0      33.0       0.0  \n",
              "1226  120.0  141.0   0.0     0.0  131.0  130.0   132.0       1.0       0.0  \n",
              "1808  132.0  159.0   1.0     0.0  145.0  144.0   146.0       1.0       0.0  \n",
              "825   136.0  161.0   0.0     0.0  159.0  156.0   158.0       1.0       1.0  \n",
              "\n",
              "[5 rows x 21 columns]"
            ]
          },
          "execution_count": 30,
          "metadata": {},
          "output_type": "execute_result"
        }
      ],
      "source": [
        "from google.colab import drive\n",
        "drive.mount('/content/gdrive')\n",
        "\n",
        "root = '/content/gdrive/My Drive/DAT340/'\n",
        "\n",
        "import pandas as pd\n",
        "from sklearn.model_selection import train_test_split\n",
        "\n",
        "data = pd.read_csv(root+\"CTG.csv\", skiprows=1)\n",
        "\n",
        "# Select the relevant numerical columns.\n",
        "selected_cols = ['LB', 'AC', 'FM', 'UC', 'DL', 'DS', 'DP', 'ASTV', 'MSTV', 'ALTV',\n",
        "                 'MLTV', 'Width', 'Min', 'Max', 'Nmax', 'Nzeros', 'Mode', 'Mean',\n",
        "                 'Median', 'Variance', 'Tendency', 'NSP']\n",
        "data = data[selected_cols].dropna()\n",
        "\n",
        "# Shuffle the dataset.\n",
        "data_shuffled = data.sample(frac=1.0, random_state=0)\n",
        "\n",
        "# Split into input part X and output part Y.\n",
        "X = data_shuffled.drop('NSP', axis=1)\n",
        "\n",
        "# Map the diagnosis code to a human-readable label.\n",
        "def to_label(y):\n",
        "    return [None, 'normal', 'suspect', 'pathologic'][(int(y))]\n",
        "\n",
        "Y = data_shuffled['NSP'].apply(to_label)\n",
        "\n",
        "# Partition the data into training and test sets.\n",
        "Xtrain, Xtest, Ytrain, Ytest = train_test_split(X, Y, test_size=0.2, random_state=0)\n",
        "\n",
        "X.head() "
      ]
    },
    {
      "cell_type": "markdown",
      "source": [
        "Step 2. Training the baseline classifier"
      ],
      "metadata": {
        "id": "5befWUgn3yDe"
      }
    },
    {
      "cell_type": "code",
      "execution_count": null,
      "metadata": {
        "colab": {
          "base_uri": "https://localhost:8080/"
        },
        "id": "05oUE3wA9C2r",
        "outputId": "23e0fd3c-5a95-42e7-af26-116208404f77"
      },
      "outputs": [
        {
          "data": {
            "text/plain": [
              "array([0.78235294, 0.78235294, 0.77941176, 0.77941176, 0.77941176])"
            ]
          },
          "execution_count": 31,
          "metadata": {},
          "output_type": "execute_result"
        }
      ],
      "source": [
        "from sklearn.dummy import DummyClassifier\n",
        "\n",
        "clf = DummyClassifier(strategy='most_frequent')\n",
        "\n",
        "from sklearn.model_selection import cross_val_score\n",
        "\n",
        "cross_val_score(clf, Xtrain, Ytrain)\n",
        "\n"
      ]
    },
    {
      "cell_type": "markdown",
      "source": [
        "Step 3. Trying out some different classifiers\n"
      ],
      "metadata": {
        "id": "4Xry5LjR3zXz"
      }
    },
    {
      "cell_type": "code",
      "execution_count": null,
      "metadata": {
        "colab": {
          "base_uri": "https://localhost:8080/"
        },
        "id": "Ob5m_VHH__gf",
        "outputId": "1e3a1cb7-db10-426d-9d4c-6eae6d35cebd"
      },
      "outputs": [
        {
          "name": "stdout",
          "output_type": "stream",
          "text": [
            "cross validation DecisionTreeClassifier [0.90882353 0.93529412 0.91764706 0.90588235 0.94411765]\n",
            "cross validation RandomForestClassifier  [0.92941176 0.95294118 0.92941176 0.93235294 0.95294118]\n",
            "cross validation GradientBoostingClassifier  [0.94117647 0.96176471 0.94411765 0.94411765 0.95294118]\n"
          ]
        }
      ],
      "source": [
        "#DecisionTreeClassifier\n",
        "from sklearn.tree import DecisionTreeClassifier\n",
        "from sklearn.model_selection import cross_val_score\n",
        "from sklearn.ensemble import RandomForestClassifier\n",
        "from sklearn.ensemble import GradientBoostingClassifier\n",
        "from sklearn.model_selection import cross_val_score\n",
        "\n",
        "DTC = DecisionTreeClassifier()\n",
        "result = cross_val_score(DTC, Xtrain, Ytrain)\n",
        "print(\"cross validation DecisionTreeClassifier\",result)\n",
        "\n",
        "RFC = RandomForestClassifier()\n",
        "result =cross_val_score(RFC, Xtrain, Ytrain)\n",
        "print(\"cross validation RandomForestClassifier \",result)\n",
        "\n",
        "GBC = GradientBoostingClassifier()\n",
        "result =cross_val_score(GBC, Xtrain, Ytrain)\n",
        "print(\"cross validation GradientBoostingClassifier \",result)"
      ]
    },
    {
      "cell_type": "code",
      "execution_count": null,
      "metadata": {
        "colab": {
          "base_uri": "https://localhost:8080/"
        },
        "id": "ngCyj86lB0RN",
        "outputId": "9bbebc03-ee8c-48b5-908c-83f8366afe57"
      },
      "outputs": [
        {
          "name": "stdout",
          "output_type": "stream",
          "text": [
            "cross validation Perceptron  [0.84705882 0.88529412 0.82941176 0.85294118 0.71176471]\n"
          ]
        },
        {
          "name": "stderr",
          "output_type": "stream",
          "text": [
            "/usr/local/lib/python3.7/dist-packages/sklearn/linear_model/_logistic.py:818: ConvergenceWarning: lbfgs failed to converge (status=1):\n",
            "STOP: TOTAL NO. of f AND g EVALUATIONS EXCEEDS LIMIT.\n",
            "\n",
            "Increase the number of iterations (max_iter) or scale the data as shown in:\n",
            "    https://scikit-learn.org/stable/modules/preprocessing.html\n",
            "Please also refer to the documentation for alternative solver options:\n",
            "    https://scikit-learn.org/stable/modules/linear_model.html#logistic-regression\n",
            "  extra_warning_msg=_LOGISTIC_SOLVER_CONVERGENCE_MSG,\n",
            "/usr/local/lib/python3.7/dist-packages/sklearn/linear_model/_logistic.py:818: ConvergenceWarning: lbfgs failed to converge (status=1):\n",
            "STOP: TOTAL NO. of f AND g EVALUATIONS EXCEEDS LIMIT.\n",
            "\n",
            "Increase the number of iterations (max_iter) or scale the data as shown in:\n",
            "    https://scikit-learn.org/stable/modules/preprocessing.html\n",
            "Please also refer to the documentation for alternative solver options:\n",
            "    https://scikit-learn.org/stable/modules/linear_model.html#logistic-regression\n",
            "  extra_warning_msg=_LOGISTIC_SOLVER_CONVERGENCE_MSG,\n"
          ]
        },
        {
          "name": "stdout",
          "output_type": "stream",
          "text": [
            "cross validation LogisticRegression  [0.88823529 0.9        0.86764706 0.89411765 0.90294118]\n"
          ]
        },
        {
          "name": "stderr",
          "output_type": "stream",
          "text": [
            "/usr/local/lib/python3.7/dist-packages/sklearn/svm/_base.py:1208: ConvergenceWarning: Liblinear failed to converge, increase the number of iterations.\n",
            "  ConvergenceWarning,\n",
            "/usr/local/lib/python3.7/dist-packages/sklearn/svm/_base.py:1208: ConvergenceWarning: Liblinear failed to converge, increase the number of iterations.\n",
            "  ConvergenceWarning,\n",
            "/usr/local/lib/python3.7/dist-packages/sklearn/svm/_base.py:1208: ConvergenceWarning: Liblinear failed to converge, increase the number of iterations.\n",
            "  ConvergenceWarning,\n",
            "/usr/local/lib/python3.7/dist-packages/sklearn/svm/_base.py:1208: ConvergenceWarning: Liblinear failed to converge, increase the number of iterations.\n",
            "  ConvergenceWarning,\n"
          ]
        },
        {
          "name": "stdout",
          "output_type": "stream",
          "text": [
            "cross validation LinearSVC  [0.85882353 0.76470588 0.80588235 0.81470588 0.82058824]\n"
          ]
        },
        {
          "name": "stderr",
          "output_type": "stream",
          "text": [
            "/usr/local/lib/python3.7/dist-packages/sklearn/svm/_base.py:1208: ConvergenceWarning: Liblinear failed to converge, increase the number of iterations.\n",
            "  ConvergenceWarning,\n"
          ]
        }
      ],
      "source": [
        "# Linear classifiers\n",
        "from sklearn.linear_model import Perceptron\n",
        "from sklearn.linear_model import LogisticRegression\n",
        "from sklearn.svm import LinearSVC\n",
        "from sklearn.model_selection import cross_val_score\n",
        "\n",
        "prcptrn = Perceptron()\n",
        "result =cross_val_score(prcptrn, Xtrain, Ytrain)\n",
        "print(\"cross validation Perceptron \",result)\n",
        "\n",
        "logReg = LogisticRegression(max_iter=20000)\n",
        "result =cross_val_score(logReg, Xtrain, Ytrain)\n",
        "print(\"cross validation LogisticRegression \",result)\n",
        "\n",
        "LinearSvc = LinearSVC(max_iter=10000)\n",
        "result =cross_val_score(LinearSvc, Xtrain, Ytrain)\n",
        "print(\"cross validation LinearSVC \",result)"
      ]
    },
    {
      "cell_type": "code",
      "execution_count": null,
      "metadata": {
        "colab": {
          "base_uri": "https://localhost:8080/"
        },
        "id": "eMD9d2wVEWE5",
        "outputId": "c6c2d559-7ac0-479f-d147-b89f10481237"
      },
      "outputs": [
        {
          "name": "stdout",
          "output_type": "stream",
          "text": [
            "cross validation MLPClassifier  [0.82941176 0.89705882 0.85294118 0.89117647 0.87647059]\n"
          ]
        }
      ],
      "source": [
        "# MLPClassifier\n",
        "from sklearn.neural_network import MLPClassifier\n",
        "from sklearn.model_selection import cross_val_score\n",
        "\n",
        "MLP = MLPClassifier()\n",
        "result = cross_val_score(MLP, Xtrain, Ytrain)\n",
        "print(\"cross validation MLPClassifier \",result)\n"
      ]
    },
    {
      "cell_type": "markdown",
      "source": [
        "Step 4. Final evaluation"
      ],
      "metadata": {
        "id": "NGiA46xk3_kU"
      }
    },
    {
      "cell_type": "code",
      "execution_count": null,
      "metadata": {
        "colab": {
          "base_uri": "https://localhost:8080/"
        },
        "id": "a-x02nqm_WYl",
        "outputId": "634213b1-f67b-4418-bf74-5cda1e39dbc3"
      },
      "outputs": [
        {
          "name": "stdout",
          "output_type": "stream",
          "text": [
            "0.9295774647887324\n"
          ]
        }
      ],
      "source": [
        "from sklearn.metrics import accuracy_score\n",
        "  \n",
        "GBC.fit(Xtrain, Ytrain)\n",
        "Yguess = GBC.predict(Xtest)\n",
        "print(accuracy_score(Ytest, Yguess))"
      ]
    },
    {
      "cell_type": "markdown",
      "metadata": {
        "id": "OK88hKOhGx_u"
      },
      "source": [
        "**COMMENT:** We choose GradientBoostingClassifier which using enensemble, from the result of cross validations. As shown above, the accuracy is 0.9295774647887324. As we searched for Gradient Boosting Classifier , we saw that it uses desicion trees as weak learners and adds an additive component to it. It is better than only using desicion tree because it combines tree model with another model too. "
      ]
    },
    {
      "cell_type": "markdown",
      "metadata": {
        "id": "ViwACC7yDIzP"
      },
      "source": [
        "# Task 2: Decision trees for classification"
      ]
    },
    {
      "cell_type": "code",
      "execution_count": null,
      "metadata": {
        "id": "QIC0Hd-PFoKO"
      },
      "outputs": [],
      "source": [
        "import numpy as np\n",
        "class DecisionTreeLeaf:\n",
        "\n",
        "    def __init__(self, value):\n",
        "        self.value = value\n",
        "\n",
        "    # This method computes the prediction for this leaf node. This will just return a constant value.\n",
        "    def predict(self, x):\n",
        "        return self.value\n",
        "\n",
        "    # Utility function to draw a tree visually using graphviz.\n",
        "    def draw_tree(self, graph, node_counter, names):\n",
        "        node_id = str(node_counter)\n",
        "        val_str = f'{self.value:.4g}' if isinstance(self.value, float) else str(self.value)\n",
        "        graph.node(node_id, val_str, style='filled')\n",
        "        return node_counter+1, node_id\n",
        "        \n",
        "    def __eq__(self, other):\n",
        "        if isinstance(other, DecisionTreeLeaf):\n",
        "            return self.value == other.value\n",
        "        else:\n",
        "            return False\n",
        "\n",
        "class DecisionTreeBranch:\n",
        "\n",
        "    def __init__(self, feature, threshold, low_subtree, high_subtree):\n",
        "        self.feature = feature\n",
        "        self.threshold = threshold\n",
        "        self.low_subtree = low_subtree\n",
        "        self.high_subtree = high_subtree\n",
        "\n",
        "    # For a branch node, we compute the prediction by first considering the feature, and then \n",
        "    # calling the upper or lower subtree, depending on whether the feature is or isn't greater\n",
        "    # than the threshold.\n",
        "    def predict(self, x):\n",
        "        if x[self.feature] <= self.threshold:\n",
        "            return self.low_subtree.predict(x)\n",
        "        else:\n",
        "            return self.high_subtree.predict(x)\n",
        "\n",
        "    # Utility function to draw a tree visually using graphviz.\n",
        "    def draw_tree(self, graph, node_counter, names):\n",
        "        node_counter, low_id = self.low_subtree.draw_tree(graph, node_counter, names)\n",
        "        node_counter, high_id = self.high_subtree.draw_tree(graph, node_counter, names)\n",
        "        node_id = str(node_counter)\n",
        "        fname = f'F{self.feature}' if names is None else names[self.feature]\n",
        "        lbl = f'{fname} > {self.threshold:.4g}?'\n",
        "        graph.node(node_id, lbl, shape='box', fillcolor='yellow', style='filled, rounded')\n",
        "        graph.edge(node_id, low_id, 'False')\n",
        "        graph.edge(node_id, high_id, 'True')\n",
        "        return node_counter+1, node_id\n",
        "from graphviz import Digraph\n",
        "from sklearn.base import BaseEstimator, ClassifierMixin\n",
        "from abc import ABC, abstractmethod\n",
        "\n",
        "class DecisionTree(ABC, BaseEstimator):\n",
        "\n",
        "    def __init__(self, max_depth):\n",
        "        super().__init__()\n",
        "        self.max_depth = max_depth\n",
        "        \n",
        "    # As usual in scikit-learn, the training method is called *fit*. We first process the dataset so that\n",
        "    # we're sure that it's represented as a NumPy matrix. Then we call the recursive tree-building method\n",
        "    # called make_tree (see below).\n",
        "    def fit(self, X, Y):\n",
        "        if isinstance(X, pd.DataFrame):\n",
        "            self.names = X.columns\n",
        "            X = X.to_numpy()\n",
        "        elif isinstance(X, list):\n",
        "            self.names = None\n",
        "            X = np.array(X)\n",
        "        else:\n",
        "            self.names = None\n",
        "        Y = np.array(Y)        \n",
        "        self.root = self.make_tree(X, Y, self.max_depth)\n",
        "        \n",
        "    def draw_tree(self):\n",
        "        graph = Digraph()\n",
        "        self.root.draw_tree(graph, 0, self.names)\n",
        "        return graph\n",
        "    \n",
        "    # By scikit-learn convention, the method *predict* computes the classification or regression output\n",
        "    # for a set of instances.\n",
        "    # To implement it, we call a separate method that carries out the prediction for one instance.\n",
        "    def predict(self, X):\n",
        "        if isinstance(X, pd.DataFrame):\n",
        "            X = X.to_numpy()\n",
        "        return [self.predict_one(x) for x in X]\n",
        "\n",
        "    # Predicting the output for one instance.\n",
        "    def predict_one(self, x):\n",
        "        return self.root.predict(x)        \n",
        "\n",
        "    # This is the recursive training \n",
        "    def make_tree(self, X, Y, max_depth):\n",
        "\n",
        "        # We start by computing the default value that will be used if we'll return a leaf node.\n",
        "        # For classifiers, this will be the most common value in Y.\n",
        "        default_value = self.get_default_value(Y)\n",
        "\n",
        "        # First the two base cases in the recursion: is the training set completely\n",
        "        # homogeneous, or have we reached the maximum depth? Then we need to return a leaf.\n",
        "\n",
        "        # If we have reached the maximum depth, return a leaf with the majority value.\n",
        "        if max_depth == 0:\n",
        "            return DecisionTreeLeaf(default_value)\n",
        "\n",
        "        # If all the instances in the remaining training set have the same output value,\n",
        "        # return a leaf with this value.\n",
        "        if self.is_homogeneous(Y):\n",
        "            return DecisionTreeLeaf(default_value)\n",
        "\n",
        "        # Select the \"most useful\" feature and split threshold. To rank the \"usefulness\" of features,\n",
        "        # we use one of the classification or regression criteria.\n",
        "        # For each feature, we call best_split (defined in a subclass). We then maximize over the features.\n",
        "        n_features = X.shape[1]\n",
        "        _, best_feature, best_threshold = max(self.best_split(X, Y, feature) for feature in range(n_features))\n",
        "        \n",
        "        if best_feature is None:\n",
        "            return DecisionTreeLeaf(default_value)\n",
        "\n",
        "        # Split the training set into subgroups, based on whether the selected feature is greater than\n",
        "        # the threshold or not\n",
        "        X_low, X_high, Y_low, Y_high = self.split_by_feature(X, Y, best_feature, best_threshold)\n",
        "\n",
        "        # Build the subtrees using a recursive call. Each subtree is associated\n",
        "        # with a value of the feature.\n",
        "        low_subtree = self.make_tree(X_low, Y_low, max_depth-1)\n",
        "        high_subtree = self.make_tree(X_high, Y_high, max_depth-1)\n",
        "\n",
        "        if low_subtree == high_subtree:\n",
        "            return low_subtree\n",
        "\n",
        "        # Return a decision tree branch containing the result.\n",
        "        return DecisionTreeBranch(best_feature, best_threshold, low_subtree, high_subtree)\n",
        "    \n",
        "    # Utility method that splits the data into the \"upper\" and \"lower\" part, based on a feature\n",
        "    # and a threshold.\n",
        "    def split_by_feature(self, X, Y, feature, threshold):\n",
        "        low = X[:,feature] <= threshold\n",
        "        high = ~low\n",
        "        return X[low], X[high], Y[low], Y[high]\n",
        "    \n",
        "    # The following three methods need to be implemented by the classification and regression subclasses.\n",
        "    \n",
        "    @abstractmethod\n",
        "    def get_default_value(self, Y):\n",
        "        pass\n",
        "\n",
        "    @abstractmethod\n",
        "    def is_homogeneous(self, Y):\n",
        "        pass\n",
        "\n",
        "    @abstractmethod\n",
        "    def best_split(self, X, Y, feature):\n",
        "        pass             \n",
        "from collections import Counter\n",
        "\n",
        "class TreeClassifier(DecisionTree, ClassifierMixin):\n",
        "\n",
        "    def __init__(self, max_depth=10, criterion='maj_sum'):\n",
        "        super().__init__(max_depth)\n",
        "        self.criterion = criterion\n",
        "        \n",
        "    def fit(self, X, Y):\n",
        "        # For decision tree classifiers, there are some different ways to measure\n",
        "        # the homogeneity of subsets.\n",
        "        if self.criterion == 'maj_sum':\n",
        "            self.criterion_function = majority_sum_scorer\n",
        "        elif self.criterion == 'info_gain':\n",
        "            self.criterion_function = info_gain_scorer\n",
        "        elif self.criterion == 'gini':\n",
        "            self.criterion_function = gini_scorer\n",
        "        else:\n",
        "            raise Exception(f'Unknown criterion: {self.criterion}')\n",
        "        super().fit(X, Y)\n",
        "        self.classes_ = sorted(set(Y))\n",
        "\n",
        "    # Select a default value that is going to be used if we decide to make a leaf.\n",
        "    # We will select the most common value.\n",
        "    def get_default_value(self, Y):\n",
        "        self.class_distribution = Counter(Y)\n",
        "        return self.class_distribution.most_common(1)[0][0]\n",
        "    \n",
        "    # Checks whether a set of output values is homogeneous. In the classification case, \n",
        "    # this means that all output values are identical.\n",
        "    # We assume that we called get_default_value just before, so that we can access\n",
        "    # the class_distribution attribute. If the class distribution contains just one item,\n",
        "    # this means that the set is homogeneous.\n",
        "    def is_homogeneous(self, Y):\n",
        "        return len(self.class_distribution) == 1\n",
        "        \n",
        "    # Finds the best splitting point for a given feature. We'll keep frequency tables (Counters)\n",
        "    # for the upper and lower parts, and then compute the impurity criterion using these tables.\n",
        "    # In the end, we return a triple consisting of\n",
        "    # - the best score we found, according to the criterion we're using\n",
        "    # - the id of the feature\n",
        "    # - the threshold for the best split\n",
        "    def best_split(self, X, Y, feature):\n",
        "\n",
        "        # Create a list of input-output pairs, where we have sorted\n",
        "        # in ascending order by the input feature we're considering.\n",
        "        sorted_indices = np.argsort(X[:, feature])        \n",
        "        X_sorted = list(X[sorted_indices, feature])\n",
        "        Y_sorted = list(Y[sorted_indices])\n",
        "\n",
        "        n = len(Y)\n",
        "\n",
        "        # The frequency tables corresponding to the parts *before and including*\n",
        "        # and *after* the current element.\n",
        "        low_distr = Counter()\n",
        "        high_distr = Counter(Y)\n",
        "\n",
        "        # Keep track of the best result we've seen so far.\n",
        "        max_score = -np.inf\n",
        "        max_i = None\n",
        "\n",
        "        # Go through all the positions (excluding the last position).\n",
        "        for i in range(0, n-1):\n",
        "\n",
        "            # Input and output at the current position.\n",
        "            x_i = X_sorted[i]\n",
        "            y_i = Y_sorted[i]\n",
        "            \n",
        "            # Update the frequency tables.\n",
        "            low_distr[y_i] += 1\n",
        "            high_distr[y_i] -= 1\n",
        "\n",
        "            # If the input is equal to the input at the next position, we will\n",
        "            # not consider a split here.\n",
        "            #x_next = XY[i+1][0]\n",
        "            x_next = X_sorted[i+1]\n",
        "            if x_i == x_next:\n",
        "                continue\n",
        "\n",
        "            # Compute the homogeneity criterion for a split at this position.\n",
        "            score = self.criterion_function(i+1, low_distr, n-i-1, high_distr)\n",
        "\n",
        "            # If this is the best split, remember it.\n",
        "            if score > max_score:\n",
        "                max_score = score\n",
        "                max_i = i\n",
        "\n",
        "        # If we didn't find any split (meaning that all inputs are identical), return\n",
        "        # a dummy value.\n",
        "        if max_i is None:\n",
        "            return -np.inf, None, None\n",
        "\n",
        "        # Otherwise, return the best split we found and its score.\n",
        "        split_point = 0.5*(X_sorted[max_i] + X_sorted[max_i+1])\n",
        "        return max_score, feature, split_point  \n",
        "def majority_sum_scorer(n_low, low_distr, n_high, high_distr):\n",
        "    maj_sum_low = low_distr.most_common(1)[0][1]\n",
        "    maj_sum_high = high_distr.most_common(1)[0][1]\n",
        "    return maj_sum_low + maj_sum_high\n",
        "    \n",
        "#def entropy(distr):\n",
        "#    n = sum(distr.values())\n",
        "#    ps = [n_i/n for n_i in distr.values()]\n",
        "#    return -sum(p*np.log2(p) if p > 0 else 0 for p in ps)\n",
        "\n",
        "#def entropy(distr):\n",
        "#    n = sum(distr)\n",
        "#    ps = [n_i/n for n_i in distr]\n",
        "#    return -sum(p*np.log2(p) if p > 0 else 0 for p in ps)\n",
        "\n",
        "#def info_gain_scorer(n_low, low_distr, n_high, high_distr):\n",
        "#    return -(n_low*entropy(low_distr)+n_high*entropy(high_distr))/(n_low+n_high)\n",
        "def info_gain_scorer(n_low, low_distr, n_high, high_distr):\n",
        "   return -(n_low*low_distr+n_high*high_distr)/(n_low+n_high)\n",
        "def gini_impurity(distr):\n",
        "    n = sum(distr.values())\n",
        "    ps = [n_i/n for n_i in distr.values()]\n",
        "    return 1-sum(p**2 for p in ps)\n",
        "    \n",
        "def gini_scorer(n_low, low_distr, n_high, high_distr):\n",
        "    return -(n_low*gini_impurity(low_distr)+n_high*gini_impurity(high_distr))/(n_low+n_high)                     "
      ]
    },
    {
      "cell_type": "code",
      "execution_count": null,
      "metadata": {
        "colab": {
          "base_uri": "https://localhost:8080/"
        },
        "id": "75vgQHoEGIWC",
        "outputId": "7cbf071c-0b31-47ba-e438-c15576cc51e9"
      },
      "outputs": [
        {
          "name": "stdout",
          "output_type": "stream",
          "text": [
            "cross validation TreeClassifier is [0.91470588 0.92941176 0.90294118 0.89117647 0.91176471] with depth of 7 and the accuracy is 0.9295774647887324\n"
          ]
        }
      ],
      "source": [
        "depth = 1\n",
        "cls = TreeClassifier(max_depth=depth)\n",
        "cls.fit(Xtrain, Ytrain)\n",
        "cross_val_score(cls, Xtrain, Ytrain)\n",
        "\n",
        "\n",
        "depth = 1\n",
        "inc = 10\n",
        "epsilon = 0.001\n",
        "prev_mean = 0\n",
        "while inc > epsilon:\n",
        "  cls = TreeClassifier(max_depth=depth)\n",
        "  cls.fit(Xtrain, Ytrain)\n",
        "  tmp = np.mean(cross_val_score(cls, Xtrain, Ytrain))\n",
        "  inc = tmp-prev_mean\n",
        "  prev_mean = tmp\n",
        "  depth +=1 \n",
        " # print(inc)\n",
        "\n",
        "print(\"cross validation TreeClassifier is\",cross_val_score(cls, Xtrain, Ytrain),\"with depth of\", depth, \"and the accuracy is\", accuracy_score(Ytest, Yguess))\n",
        "\n"
      ]
    },
    {
      "cell_type": "code",
      "execution_count": null,
      "metadata": {
        "colab": {
          "base_uri": "https://localhost:8080/",
          "height": 911
        },
        "id": "xlTuYKHaMSAf",
        "outputId": "3745e4d1-37f6-4cce-f748-23814ca85534"
      },
      "outputs": [
        {
          "data": {
            "image/svg+xml": "<?xml version=\"1.0\" encoding=\"UTF-8\" standalone=\"no\"?>\n<!DOCTYPE svg PUBLIC \"-//W3C//DTD SVG 1.1//EN\"\n \"http://www.w3.org/Graphics/SVG/1.1/DTD/svg11.dtd\">\n<!-- Generated by graphviz version 2.40.1 (20161225.0304)\n -->\n<!-- Title: %3 Pages: 1 -->\n<svg width=\"1487pt\" height=\"653pt\"\n viewBox=\"0.00 0.00 1487.39 653.00\" xmlns=\"http://www.w3.org/2000/svg\" xmlns:xlink=\"http://www.w3.org/1999/xlink\">\n<g id=\"graph0\" class=\"graph\" transform=\"scale(1 1) rotate(0) translate(4 649)\">\n<title>%3</title>\n<polygon fill=\"#ffffff\" stroke=\"transparent\" points=\"-4,4 -4,-649 1483.3933,-649 1483.3933,4 -4,4\"/>\n<!-- 0 -->\n<g id=\"node1\" class=\"node\">\n<title>0</title>\n<ellipse fill=\"#d3d3d3\" stroke=\"#000000\" cx=\"37.6967\" cy=\"-192\" rx=\"37.8943\" ry=\"18\"/>\n<text text-anchor=\"middle\" x=\"37.6967\" y=\"-188.3\" font-family=\"Times,serif\" font-size=\"14.00\" fill=\"#000000\">suspect</text>\n</g>\n<!-- 1 -->\n<g id=\"node2\" class=\"node\">\n<title>1</title>\n<ellipse fill=\"#d3d3d3\" stroke=\"#000000\" cx=\"130.6967\" cy=\"-192\" rx=\"37.0935\" ry=\"18\"/>\n<text text-anchor=\"middle\" x=\"130.6967\" y=\"-188.3\" font-family=\"Times,serif\" font-size=\"14.00\" fill=\"#000000\">normal</text>\n</g>\n<!-- 2 -->\n<g id=\"node3\" class=\"node\">\n<title>2</title>\n<path fill=\"#ffff00\" stroke=\"#000000\" d=\"M162.1967,-297C162.1967,-297 97.1967,-297 97.1967,-297 91.1967,-297 85.1967,-291 85.1967,-285 85.1967,-285 85.1967,-273 85.1967,-273 85.1967,-267 91.1967,-261 97.1967,-261 97.1967,-261 162.1967,-261 162.1967,-261 168.1967,-261 174.1967,-267 174.1967,-273 174.1967,-273 174.1967,-285 174.1967,-285 174.1967,-291 168.1967,-297 162.1967,-297\"/>\n<text text-anchor=\"middle\" x=\"129.6967\" y=\"-275.3\" font-family=\"Times,serif\" font-size=\"14.00\" fill=\"#000000\">Width &gt; 21?</text>\n</g>\n<!-- 2&#45;&gt;0 -->\n<g id=\"edge1\" class=\"edge\">\n<title>2&#45;&gt;0</title>\n<path fill=\"none\" stroke=\"#000000\" d=\"M110.6342,-260.9735C96.6506,-247.75 77.5393,-229.6773 62.3874,-215.3489\"/>\n<polygon fill=\"#000000\" stroke=\"#000000\" points=\"64.5436,-212.5707 54.873,-208.2429 59.734,-217.6568 64.5436,-212.5707\"/>\n<text text-anchor=\"middle\" x=\"104.6967\" y=\"-231.8\" font-family=\"Times,serif\" font-size=\"14.00\" fill=\"#000000\">False</text>\n</g>\n<!-- 2&#45;&gt;1 -->\n<g id=\"edge2\" class=\"edge\">\n<title>2&#45;&gt;1</title>\n<path fill=\"none\" stroke=\"#000000\" d=\"M129.9039,-260.9735C130.0393,-249.1918 130.2189,-233.5607 130.373,-220.1581\"/>\n<polygon fill=\"#000000\" stroke=\"#000000\" points=\"133.8745,-220.043 130.4897,-210.0034 126.8749,-219.9624 133.8745,-220.043\"/>\n<text text-anchor=\"middle\" x=\"144.1967\" y=\"-231.8\" font-family=\"Times,serif\" font-size=\"14.00\" fill=\"#000000\">True</text>\n</g>\n<!-- 3 -->\n<g id=\"node4\" class=\"node\">\n<title>3</title>\n<ellipse fill=\"#d3d3d3\" stroke=\"#000000\" cx=\"155.6967\" cy=\"-105\" rx=\"37.0935\" ry=\"18\"/>\n<text text-anchor=\"middle\" x=\"155.6967\" y=\"-101.3\" font-family=\"Times,serif\" font-size=\"14.00\" fill=\"#000000\">normal</text>\n</g>\n<!-- 4 -->\n<g id=\"node5\" class=\"node\">\n<title>4</title>\n<ellipse fill=\"#d3d3d3\" stroke=\"#000000\" cx=\"248.6967\" cy=\"-105\" rx=\"37.8943\" ry=\"18\"/>\n<text text-anchor=\"middle\" x=\"248.6967\" y=\"-101.3\" font-family=\"Times,serif\" font-size=\"14.00\" fill=\"#000000\">suspect</text>\n</g>\n<!-- 5 -->\n<g id=\"node6\" class=\"node\">\n<title>5</title>\n<path fill=\"#ffff00\" stroke=\"#000000\" d=\"M280.6967,-210C280.6967,-210 200.6967,-210 200.6967,-210 194.6967,-210 188.6967,-204 188.6967,-198 188.6967,-198 188.6967,-186 188.6967,-186 188.6967,-180 194.6967,-174 200.6967,-174 200.6967,-174 280.6967,-174 280.6967,-174 286.6967,-174 292.6967,-180 292.6967,-186 292.6967,-186 292.6967,-198 292.6967,-198 292.6967,-204 286.6967,-210 280.6967,-210\"/>\n<text text-anchor=\"middle\" x=\"240.6967\" y=\"-188.3\" font-family=\"Times,serif\" font-size=\"14.00\" fill=\"#000000\">Median &gt; 154?</text>\n</g>\n<!-- 5&#45;&gt;3 -->\n<g id=\"edge3\" class=\"edge\">\n<title>5&#45;&gt;3</title>\n<path fill=\"none\" stroke=\"#000000\" d=\"M223.0846,-173.9735C210.3656,-160.9553 193.0549,-143.2373 179.1634,-129.0189\"/>\n<polygon fill=\"#000000\" stroke=\"#000000\" points=\"181.3405,-126.2388 171.8486,-121.532 176.3335,-131.1307 181.3405,-126.2388\"/>\n<text text-anchor=\"middle\" x=\"218.6967\" y=\"-144.8\" font-family=\"Times,serif\" font-size=\"14.00\" fill=\"#000000\">False</text>\n</g>\n<!-- 5&#45;&gt;4 -->\n<g id=\"edge4\" class=\"edge\">\n<title>5&#45;&gt;4</title>\n<path fill=\"none\" stroke=\"#000000\" d=\"M242.3543,-173.9735C243.4376,-162.1918 244.875,-146.5607 246.1074,-133.1581\"/>\n<polygon fill=\"#000000\" stroke=\"#000000\" points=\"249.6107,-133.2819 247.0412,-123.0034 242.6401,-132.6408 249.6107,-133.2819\"/>\n<text text-anchor=\"middle\" x=\"259.1967\" y=\"-144.8\" font-family=\"Times,serif\" font-size=\"14.00\" fill=\"#000000\">True</text>\n</g>\n<!-- 6 -->\n<g id=\"node7\" class=\"node\">\n<title>6</title>\n<ellipse fill=\"#d3d3d3\" stroke=\"#000000\" cx=\"307.6967\" cy=\"-18\" rx=\"37.8943\" ry=\"18\"/>\n<text text-anchor=\"middle\" x=\"307.6967\" y=\"-14.3\" font-family=\"Times,serif\" font-size=\"14.00\" fill=\"#000000\">suspect</text>\n</g>\n<!-- 7 -->\n<g id=\"node8\" class=\"node\">\n<title>7</title>\n<ellipse fill=\"#d3d3d3\" stroke=\"#000000\" cx=\"400.6967\" cy=\"-18\" rx=\"37.0935\" ry=\"18\"/>\n<text text-anchor=\"middle\" x=\"400.6967\" y=\"-14.3\" font-family=\"Times,serif\" font-size=\"14.00\" fill=\"#000000\">normal</text>\n</g>\n<!-- 8 -->\n<g id=\"node9\" class=\"node\">\n<title>8</title>\n<path fill=\"#ffff00\" stroke=\"#000000\" d=\"M374.6967,-123C374.6967,-123 332.6967,-123 332.6967,-123 326.6967,-123 320.6967,-117 320.6967,-111 320.6967,-111 320.6967,-99 320.6967,-99 320.6967,-93 326.6967,-87 332.6967,-87 332.6967,-87 374.6967,-87 374.6967,-87 380.6967,-87 386.6967,-93 386.6967,-99 386.6967,-99 386.6967,-111 386.6967,-111 386.6967,-117 380.6967,-123 374.6967,-123\"/>\n<text text-anchor=\"middle\" x=\"353.6967\" y=\"-101.3\" font-family=\"Times,serif\" font-size=\"14.00\" fill=\"#000000\">AC &gt; 2?</text>\n</g>\n<!-- 8&#45;&gt;6 -->\n<g id=\"edge5\" class=\"edge\">\n<title>8&#45;&gt;6</title>\n<path fill=\"none\" stroke=\"#000000\" d=\"M344.1654,-86.9735C337.7082,-74.7609 329.0641,-58.4123 321.8123,-44.697\"/>\n<polygon fill=\"#000000\" stroke=\"#000000\" points=\"324.8267,-42.9101 317.0583,-35.7057 318.6384,-46.182 324.8267,-42.9101\"/>\n<text text-anchor=\"middle\" x=\"348.6967\" y=\"-57.8\" font-family=\"Times,serif\" font-size=\"14.00\" fill=\"#000000\">False</text>\n</g>\n<!-- 8&#45;&gt;7 -->\n<g id=\"edge6\" class=\"edge\">\n<title>8&#45;&gt;7</title>\n<path fill=\"none\" stroke=\"#000000\" d=\"M363.4351,-86.9735C370.0327,-74.7609 378.8647,-58.4123 386.2741,-44.697\"/>\n<polygon fill=\"#000000\" stroke=\"#000000\" points=\"389.4578,-46.1675 391.1315,-35.7057 383.299,-42.8403 389.4578,-46.1675\"/>\n<text text-anchor=\"middle\" x=\"394.1967\" y=\"-57.8\" font-family=\"Times,serif\" font-size=\"14.00\" fill=\"#000000\">True</text>\n</g>\n<!-- 9 -->\n<g id=\"node10\" class=\"node\">\n<title>9</title>\n<ellipse fill=\"#d3d3d3\" stroke=\"#000000\" cx=\"441.6967\" cy=\"-105\" rx=\"37.0935\" ry=\"18\"/>\n<text text-anchor=\"middle\" x=\"441.6967\" y=\"-101.3\" font-family=\"Times,serif\" font-size=\"14.00\" fill=\"#000000\">normal</text>\n</g>\n<!-- 10 -->\n<g id=\"node11\" class=\"node\">\n<title>10</title>\n<path fill=\"#ffff00\" stroke=\"#000000\" d=\"M402.6967,-210C402.6967,-210 322.6967,-210 322.6967,-210 316.6967,-210 310.6967,-204 310.6967,-198 310.6967,-198 310.6967,-186 310.6967,-186 310.6967,-180 316.6967,-174 322.6967,-174 322.6967,-174 402.6967,-174 402.6967,-174 408.6967,-174 414.6967,-180 414.6967,-186 414.6967,-186 414.6967,-198 414.6967,-198 414.6967,-204 408.6967,-210 402.6967,-210\"/>\n<text text-anchor=\"middle\" x=\"362.6967\" y=\"-188.3\" font-family=\"Times,serif\" font-size=\"14.00\" fill=\"#000000\">Median &gt; 165?</text>\n</g>\n<!-- 10&#45;&gt;8 -->\n<g id=\"edge7\" class=\"edge\">\n<title>10&#45;&gt;8</title>\n<path fill=\"none\" stroke=\"#000000\" d=\"M360.8318,-173.9735C359.613,-162.1918 357.996,-146.5607 356.6096,-133.1581\"/>\n<polygon fill=\"#000000\" stroke=\"#000000\" points=\"360.0696,-132.5901 355.5591,-123.0034 353.1067,-133.3105 360.0696,-132.5901\"/>\n<text text-anchor=\"middle\" x=\"374.6967\" y=\"-144.8\" font-family=\"Times,serif\" font-size=\"14.00\" fill=\"#000000\">False</text>\n</g>\n<!-- 10&#45;&gt;9 -->\n<g id=\"edge8\" class=\"edge\">\n<title>10&#45;&gt;9</title>\n<path fill=\"none\" stroke=\"#000000\" d=\"M379.0655,-173.9735C390.8867,-160.9553 406.9755,-143.2373 419.8864,-129.0189\"/>\n<polygon fill=\"#000000\" stroke=\"#000000\" points=\"422.5535,-131.2881 426.6849,-121.532 417.3712,-126.5823 422.5535,-131.2881\"/>\n<text text-anchor=\"middle\" x=\"421.1967\" y=\"-144.8\" font-family=\"Times,serif\" font-size=\"14.00\" fill=\"#000000\">True</text>\n</g>\n<!-- 11 -->\n<g id=\"node12\" class=\"node\">\n<title>11</title>\n<path fill=\"#ffff00\" stroke=\"#000000\" d=\"M283.1967,-297C283.1967,-297 204.1967,-297 204.1967,-297 198.1967,-297 192.1967,-291 192.1967,-285 192.1967,-285 192.1967,-273 192.1967,-273 192.1967,-267 198.1967,-261 204.1967,-261 204.1967,-261 283.1967,-261 283.1967,-261 289.1967,-261 295.1967,-267 295.1967,-273 295.1967,-273 295.1967,-285 295.1967,-285 295.1967,-291 289.1967,-297 283.1967,-297\"/>\n<text text-anchor=\"middle\" x=\"243.6967\" y=\"-275.3\" font-family=\"Times,serif\" font-size=\"14.00\" fill=\"#000000\">ASTV &gt; 59.5?</text>\n</g>\n<!-- 11&#45;&gt;5 -->\n<g id=\"edge9\" class=\"edge\">\n<title>11&#45;&gt;5</title>\n<path fill=\"none\" stroke=\"#000000\" d=\"M243.0751,-260.9735C242.6688,-249.1918 242.1298,-233.5607 241.6676,-220.1581\"/>\n<polygon fill=\"#000000\" stroke=\"#000000\" points=\"245.1601,-219.8768 241.3175,-210.0034 238.1643,-220.1181 245.1601,-219.8768\"/>\n<text text-anchor=\"middle\" x=\"257.6967\" y=\"-231.8\" font-family=\"Times,serif\" font-size=\"14.00\" fill=\"#000000\">False</text>\n</g>\n<!-- 11&#45;&gt;10 -->\n<g id=\"edge10\" class=\"edge\">\n<title>11&#45;&gt;10</title>\n<path fill=\"none\" stroke=\"#000000\" d=\"M268.3535,-260.9735C286.1442,-247.9669 310.3517,-230.269 329.7909,-216.0571\"/>\n<polygon fill=\"#000000\" stroke=\"#000000\" points=\"332.0643,-218.7307 338.0714,-210.0034 327.933,-213.0798 332.0643,-218.7307\"/>\n<text text-anchor=\"middle\" x=\"324.1967\" y=\"-231.8\" font-family=\"Times,serif\" font-size=\"14.00\" fill=\"#000000\">True</text>\n</g>\n<!-- 12 -->\n<g id=\"node13\" class=\"node\">\n<title>12</title>\n<path fill=\"#ffff00\" stroke=\"#000000\" d=\"M244.1967,-384C244.1967,-384 185.1967,-384 185.1967,-384 179.1967,-384 173.1967,-378 173.1967,-372 173.1967,-372 173.1967,-360 173.1967,-360 173.1967,-354 179.1967,-348 185.1967,-348 185.1967,-348 244.1967,-348 244.1967,-348 250.1967,-348 256.1967,-354 256.1967,-360 256.1967,-360 256.1967,-372 256.1967,-372 256.1967,-378 250.1967,-384 244.1967,-384\"/>\n<text text-anchor=\"middle\" x=\"214.6967\" y=\"-362.3\" font-family=\"Times,serif\" font-size=\"14.00\" fill=\"#000000\">ALTV &gt; 7?</text>\n</g>\n<!-- 12&#45;&gt;2 -->\n<g id=\"edge11\" class=\"edge\">\n<title>12&#45;&gt;2</title>\n<path fill=\"none\" stroke=\"#000000\" d=\"M197.0846,-347.9735C184.7759,-335.3752 168.1669,-318.3755 154.5182,-304.4055\"/>\n<polygon fill=\"#000000\" stroke=\"#000000\" points=\"156.778,-301.7103 147.2861,-297.0034 151.7711,-306.6021 156.778,-301.7103\"/>\n<text text-anchor=\"middle\" x=\"192.6967\" y=\"-318.8\" font-family=\"Times,serif\" font-size=\"14.00\" fill=\"#000000\">False</text>\n</g>\n<!-- 12&#45;&gt;11 -->\n<g id=\"edge12\" class=\"edge\">\n<title>12&#45;&gt;11</title>\n<path fill=\"none\" stroke=\"#000000\" d=\"M220.7055,-347.9735C224.6716,-336.0751 229.9464,-320.2508 234.4431,-306.7606\"/>\n<polygon fill=\"#000000\" stroke=\"#000000\" points=\"237.8536,-307.597 237.6955,-297.0034 231.2128,-305.3834 237.8536,-307.597\"/>\n<text text-anchor=\"middle\" x=\"245.1967\" y=\"-318.8\" font-family=\"Times,serif\" font-size=\"14.00\" fill=\"#000000\">True</text>\n</g>\n<!-- 13 -->\n<g id=\"node14\" class=\"node\">\n<title>13</title>\n<ellipse fill=\"#d3d3d3\" stroke=\"#000000\" cx=\"324.6967\" cy=\"-366\" rx=\"50.0912\" ry=\"18\"/>\n<text text-anchor=\"middle\" x=\"324.6967\" y=\"-362.3\" font-family=\"Times,serif\" font-size=\"14.00\" fill=\"#000000\">pathologic</text>\n</g>\n<!-- 14 -->\n<g id=\"node15\" class=\"node\">\n<title>14</title>\n<path fill=\"#ffff00\" stroke=\"#000000\" d=\"M364.1967,-471C364.1967,-471 285.1967,-471 285.1967,-471 279.1967,-471 273.1967,-465 273.1967,-459 273.1967,-459 273.1967,-447 273.1967,-447 273.1967,-441 279.1967,-435 285.1967,-435 285.1967,-435 364.1967,-435 364.1967,-435 370.1967,-435 376.1967,-441 376.1967,-447 376.1967,-447 376.1967,-459 376.1967,-459 376.1967,-465 370.1967,-471 364.1967,-471\"/>\n<text text-anchor=\"middle\" x=\"324.6967\" y=\"-449.3\" font-family=\"Times,serif\" font-size=\"14.00\" fill=\"#000000\">ASTV &gt; 79.5?</text>\n</g>\n<!-- 14&#45;&gt;12 -->\n<g id=\"edge13\" class=\"edge\">\n<title>14&#45;&gt;12</title>\n<path fill=\"none\" stroke=\"#000000\" d=\"M301.9046,-434.9735C285.5332,-422.0253 263.2833,-404.4276 245.3557,-390.2485\"/>\n<polygon fill=\"#000000\" stroke=\"#000000\" points=\"247.4741,-387.4616 237.4595,-384.0034 243.1317,-392.952 247.4741,-387.4616\"/>\n<text text-anchor=\"middle\" x=\"291.6967\" y=\"-405.8\" font-family=\"Times,serif\" font-size=\"14.00\" fill=\"#000000\">False</text>\n</g>\n<!-- 14&#45;&gt;13 -->\n<g id=\"edge14\" class=\"edge\">\n<title>14&#45;&gt;13</title>\n<path fill=\"none\" stroke=\"#000000\" d=\"M324.6967,-434.9735C324.6967,-423.1918 324.6967,-407.5607 324.6967,-394.1581\"/>\n<polygon fill=\"#000000\" stroke=\"#000000\" points=\"328.1968,-394.0033 324.6967,-384.0034 321.1968,-394.0034 328.1968,-394.0033\"/>\n<text text-anchor=\"middle\" x=\"338.1967\" y=\"-405.8\" font-family=\"Times,serif\" font-size=\"14.00\" fill=\"#000000\">True</text>\n</g>\n<!-- 15 -->\n<g id=\"node16\" class=\"node\">\n<title>15</title>\n<ellipse fill=\"#d3d3d3\" stroke=\"#000000\" cx=\"429.6967\" cy=\"-366\" rx=\"37.0935\" ry=\"18\"/>\n<text text-anchor=\"middle\" x=\"429.6967\" y=\"-362.3\" font-family=\"Times,serif\" font-size=\"14.00\" fill=\"#000000\">normal</text>\n</g>\n<!-- 16 -->\n<g id=\"node17\" class=\"node\">\n<title>16</title>\n<ellipse fill=\"#d3d3d3\" stroke=\"#000000\" cx=\"534.6967\" cy=\"-366\" rx=\"50.0912\" ry=\"18\"/>\n<text text-anchor=\"middle\" x=\"534.6967\" y=\"-362.3\" font-family=\"Times,serif\" font-size=\"14.00\" fill=\"#000000\">pathologic</text>\n</g>\n<!-- 17 -->\n<g id=\"node18\" class=\"node\">\n<title>17</title>\n<path fill=\"#ffff00\" stroke=\"#000000\" d=\"M577.6967,-471C577.6967,-471 483.6967,-471 483.6967,-471 477.6967,-471 471.6967,-465 471.6967,-459 471.6967,-459 471.6967,-447 471.6967,-447 471.6967,-441 477.6967,-435 483.6967,-435 483.6967,-435 577.6967,-435 577.6967,-435 583.6967,-435 589.6967,-441 589.6967,-447 589.6967,-447 589.6967,-459 589.6967,-459 589.6967,-465 583.6967,-471 577.6967,-471\"/>\n<text text-anchor=\"middle\" x=\"530.6967\" y=\"-449.3\" font-family=\"Times,serif\" font-size=\"14.00\" fill=\"#000000\">Tendency &gt; &#45;0.5?</text>\n</g>\n<!-- 17&#45;&gt;15 -->\n<g id=\"edge15\" class=\"edge\">\n<title>17&#45;&gt;15</title>\n<path fill=\"none\" stroke=\"#000000\" d=\"M509.7694,-434.9735C494.1777,-421.5431 472.7791,-403.1106 456.0254,-388.6792\"/>\n<polygon fill=\"#000000\" stroke=\"#000000\" points=\"458.0807,-385.8302 448.2198,-381.9556 453.5122,-391.1339 458.0807,-385.8302\"/>\n<text text-anchor=\"middle\" x=\"501.6967\" y=\"-405.8\" font-family=\"Times,serif\" font-size=\"14.00\" fill=\"#000000\">False</text>\n</g>\n<!-- 17&#45;&gt;16 -->\n<g id=\"edge16\" class=\"edge\">\n<title>17&#45;&gt;16</title>\n<path fill=\"none\" stroke=\"#000000\" d=\"M531.5255,-434.9735C532.0671,-423.1918 532.7858,-407.5607 533.402,-394.1581\"/>\n<polygon fill=\"#000000\" stroke=\"#000000\" points=\"536.9058,-394.1536 533.8689,-384.0034 529.9132,-393.832 536.9058,-394.1536\"/>\n<text text-anchor=\"middle\" x=\"547.1967\" y=\"-405.8\" font-family=\"Times,serif\" font-size=\"14.00\" fill=\"#000000\">True</text>\n</g>\n<!-- 18 -->\n<g id=\"node19\" class=\"node\">\n<title>18</title>\n<path fill=\"#ffff00\" stroke=\"#000000\" d=\"M569.6967,-558C569.6967,-558 491.6967,-558 491.6967,-558 485.6967,-558 479.6967,-552 479.6967,-546 479.6967,-546 479.6967,-534 479.6967,-534 479.6967,-528 485.6967,-522 491.6967,-522 491.6967,-522 569.6967,-522 569.6967,-522 575.6967,-522 581.6967,-528 581.6967,-534 581.6967,-534 581.6967,-546 581.6967,-546 581.6967,-552 575.6967,-558 569.6967,-558\"/>\n<text text-anchor=\"middle\" x=\"530.6967\" y=\"-536.3\" font-family=\"Times,serif\" font-size=\"14.00\" fill=\"#000000\">ALTV &gt; 68.5?</text>\n</g>\n<!-- 18&#45;&gt;14 -->\n<g id=\"edge17\" class=\"edge\">\n<title>18&#45;&gt;14</title>\n<path fill=\"none\" stroke=\"#000000\" d=\"M488.0133,-521.9735C455.6969,-508.3254 411.1495,-489.5116 376.7424,-474.9805\"/>\n<polygon fill=\"#000000\" stroke=\"#000000\" points=\"377.8992,-471.6697 367.3253,-471.0034 375.1757,-478.1182 377.8992,-471.6697\"/>\n<text text-anchor=\"middle\" x=\"455.6967\" y=\"-492.8\" font-family=\"Times,serif\" font-size=\"14.00\" fill=\"#000000\">False</text>\n</g>\n<!-- 18&#45;&gt;17 -->\n<g id=\"edge18\" class=\"edge\">\n<title>18&#45;&gt;17</title>\n<path fill=\"none\" stroke=\"#000000\" d=\"M530.6967,-521.9735C530.6967,-510.1918 530.6967,-494.5607 530.6967,-481.1581\"/>\n<polygon fill=\"#000000\" stroke=\"#000000\" points=\"534.1968,-481.0033 530.6967,-471.0034 527.1968,-481.0034 534.1968,-481.0033\"/>\n<text text-anchor=\"middle\" x=\"544.1967\" y=\"-492.8\" font-family=\"Times,serif\" font-size=\"14.00\" fill=\"#000000\">True</text>\n</g>\n<!-- 19 -->\n<g id=\"node20\" class=\"node\">\n<title>19</title>\n<ellipse fill=\"#d3d3d3\" stroke=\"#000000\" cx=\"546.6967\" cy=\"-279\" rx=\"37.8943\" ry=\"18\"/>\n<text text-anchor=\"middle\" x=\"546.6967\" y=\"-275.3\" font-family=\"Times,serif\" font-size=\"14.00\" fill=\"#000000\">suspect</text>\n</g>\n<!-- 20 -->\n<g id=\"node21\" class=\"node\">\n<title>20</title>\n<ellipse fill=\"#d3d3d3\" stroke=\"#000000\" cx=\"652.6967\" cy=\"-279\" rx=\"50.0912\" ry=\"18\"/>\n<text text-anchor=\"middle\" x=\"652.6967\" y=\"-275.3\" font-family=\"Times,serif\" font-size=\"14.00\" fill=\"#000000\">pathologic</text>\n</g>\n<!-- 21 -->\n<g id=\"node22\" class=\"node\">\n<title>21</title>\n<path fill=\"#ffff00\" stroke=\"#000000\" d=\"M690.6967,-384C690.6967,-384 614.6967,-384 614.6967,-384 608.6967,-384 602.6967,-378 602.6967,-372 602.6967,-372 602.6967,-360 602.6967,-360 602.6967,-354 608.6967,-348 614.6967,-348 614.6967,-348 690.6967,-348 690.6967,-348 696.6967,-348 702.6967,-354 702.6967,-360 702.6967,-360 702.6967,-372 702.6967,-372 702.6967,-378 696.6967,-384 690.6967,-384\"/>\n<text text-anchor=\"middle\" x=\"652.6967\" y=\"-362.3\" font-family=\"Times,serif\" font-size=\"14.00\" fill=\"#000000\">Width &gt; 72.5?</text>\n</g>\n<!-- 21&#45;&gt;19 -->\n<g id=\"edge19\" class=\"edge\">\n<title>21&#45;&gt;19</title>\n<path fill=\"none\" stroke=\"#000000\" d=\"M630.7334,-347.9735C614.2656,-334.4576 591.6256,-315.8756 573.9934,-301.4039\"/>\n<polygon fill=\"#000000\" stroke=\"#000000\" points=\"575.7393,-298.3089 565.7889,-294.6701 571.2982,-303.7198 575.7393,-298.3089\"/>\n<text text-anchor=\"middle\" x=\"621.6967\" y=\"-318.8\" font-family=\"Times,serif\" font-size=\"14.00\" fill=\"#000000\">False</text>\n</g>\n<!-- 21&#45;&gt;20 -->\n<g id=\"edge20\" class=\"edge\">\n<title>21&#45;&gt;20</title>\n<path fill=\"none\" stroke=\"#000000\" d=\"M652.6967,-347.9735C652.6967,-336.1918 652.6967,-320.5607 652.6967,-307.1581\"/>\n<polygon fill=\"#000000\" stroke=\"#000000\" points=\"656.1968,-307.0033 652.6967,-297.0034 649.1968,-307.0034 656.1968,-307.0033\"/>\n<text text-anchor=\"middle\" x=\"666.1967\" y=\"-318.8\" font-family=\"Times,serif\" font-size=\"14.00\" fill=\"#000000\">True</text>\n</g>\n<!-- 22 -->\n<g id=\"node23\" class=\"node\">\n<title>22</title>\n<ellipse fill=\"#d3d3d3\" stroke=\"#000000\" cx=\"770.6967\" cy=\"-279\" rx=\"50.0912\" ry=\"18\"/>\n<text text-anchor=\"middle\" x=\"770.6967\" y=\"-275.3\" font-family=\"Times,serif\" font-size=\"14.00\" fill=\"#000000\">pathologic</text>\n</g>\n<!-- 23 -->\n<g id=\"node24\" class=\"node\">\n<title>23</title>\n<ellipse fill=\"#d3d3d3\" stroke=\"#000000\" cx=\"875.6967\" cy=\"-279\" rx=\"37.0935\" ry=\"18\"/>\n<text text-anchor=\"middle\" x=\"875.6967\" y=\"-275.3\" font-family=\"Times,serif\" font-size=\"14.00\" fill=\"#000000\">normal</text>\n</g>\n<!-- 24 -->\n<g id=\"node25\" class=\"node\">\n<title>24</title>\n<path fill=\"#ffff00\" stroke=\"#000000\" d=\"M822.1967,-384C822.1967,-384 733.1967,-384 733.1967,-384 727.1967,-384 721.1967,-378 721.1967,-372 721.1967,-372 721.1967,-360 721.1967,-360 721.1967,-354 727.1967,-348 733.1967,-348 733.1967,-348 822.1967,-348 822.1967,-348 828.1967,-348 834.1967,-354 834.1967,-360 834.1967,-360 834.1967,-372 834.1967,-372 834.1967,-378 828.1967,-384 822.1967,-384\"/>\n<text text-anchor=\"middle\" x=\"777.6967\" y=\"-362.3\" font-family=\"Times,serif\" font-size=\"14.00\" fill=\"#000000\">Variance &gt; 23.5?</text>\n</g>\n<!-- 24&#45;&gt;22 -->\n<g id=\"edge21\" class=\"edge\">\n<title>24&#45;&gt;22</title>\n<path fill=\"none\" stroke=\"#000000\" d=\"M776.2463,-347.9735C775.2983,-336.1918 774.0406,-320.5607 772.9622,-307.1581\"/>\n<polygon fill=\"#000000\" stroke=\"#000000\" points=\"776.436,-306.6904 772.1452,-297.0034 769.4586,-307.2519 776.436,-306.6904\"/>\n<text text-anchor=\"middle\" x=\"789.6967\" y=\"-318.8\" font-family=\"Times,serif\" font-size=\"14.00\" fill=\"#000000\">False</text>\n</g>\n<!-- 24&#45;&gt;23 -->\n<g id=\"edge22\" class=\"edge\">\n<title>24&#45;&gt;23</title>\n<path fill=\"none\" stroke=\"#000000\" d=\"M798.0023,-347.9735C813.1309,-334.5431 833.8939,-316.1106 850.15,-301.6792\"/>\n<polygon fill=\"#000000\" stroke=\"#000000\" points=\"852.569,-304.2119 857.7237,-294.9556 847.9218,-298.9771 852.569,-304.2119\"/>\n<text text-anchor=\"middle\" x=\"846.1967\" y=\"-318.8\" font-family=\"Times,serif\" font-size=\"14.00\" fill=\"#000000\">True</text>\n</g>\n<!-- 25 -->\n<g id=\"node26\" class=\"node\">\n<title>25</title>\n<path fill=\"#ffff00\" stroke=\"#000000\" d=\"M753.6967,-471C753.6967,-471 679.6967,-471 679.6967,-471 673.6967,-471 667.6967,-465 667.6967,-459 667.6967,-459 667.6967,-447 667.6967,-447 667.6967,-441 673.6967,-435 679.6967,-435 679.6967,-435 753.6967,-435 753.6967,-435 759.6967,-435 765.6967,-441 765.6967,-447 765.6967,-447 765.6967,-459 765.6967,-459 765.6967,-465 759.6967,-471 753.6967,-471\"/>\n<text text-anchor=\"middle\" x=\"716.6967\" y=\"-449.3\" font-family=\"Times,serif\" font-size=\"14.00\" fill=\"#000000\">Max &gt; 220.5?</text>\n</g>\n<!-- 25&#45;&gt;21 -->\n<g id=\"edge23\" class=\"edge\">\n<title>25&#45;&gt;21</title>\n<path fill=\"none\" stroke=\"#000000\" d=\"M703.4358,-434.9735C694.3397,-422.6085 682.1246,-406.0036 671.959,-392.1847\"/>\n<polygon fill=\"#000000\" stroke=\"#000000\" points=\"674.6856,-389.9846 665.9405,-384.0034 669.0469,-394.1326 674.6856,-389.9846\"/>\n<text text-anchor=\"middle\" x=\"703.6967\" y=\"-405.8\" font-family=\"Times,serif\" font-size=\"14.00\" fill=\"#000000\">False</text>\n</g>\n<!-- 25&#45;&gt;24 -->\n<g id=\"edge24\" class=\"edge\">\n<title>25&#45;&gt;24</title>\n<path fill=\"none\" stroke=\"#000000\" d=\"M729.3359,-434.9735C737.9238,-422.7252 749.4288,-406.3165 759.0625,-392.5766\"/>\n<polygon fill=\"#000000\" stroke=\"#000000\" points=\"762.1984,-394.2006 765.0736,-384.0034 756.4669,-390.1819 762.1984,-394.2006\"/>\n<text text-anchor=\"middle\" x=\"765.1967\" y=\"-405.8\" font-family=\"Times,serif\" font-size=\"14.00\" fill=\"#000000\">True</text>\n</g>\n<!-- 26 -->\n<g id=\"node27\" class=\"node\">\n<title>26</title>\n<ellipse fill=\"#d3d3d3\" stroke=\"#000000\" cx=\"883.6967\" cy=\"-192\" rx=\"50.0912\" ry=\"18\"/>\n<text text-anchor=\"middle\" x=\"883.6967\" y=\"-188.3\" font-family=\"Times,serif\" font-size=\"14.00\" fill=\"#000000\">pathologic</text>\n</g>\n<!-- 27 -->\n<g id=\"node28\" class=\"node\">\n<title>27</title>\n<ellipse fill=\"#d3d3d3\" stroke=\"#000000\" cx=\"989.6967\" cy=\"-192\" rx=\"37.8943\" ry=\"18\"/>\n<text text-anchor=\"middle\" x=\"989.6967\" y=\"-188.3\" font-family=\"Times,serif\" font-size=\"14.00\" fill=\"#000000\">suspect</text>\n</g>\n<!-- 28 -->\n<g id=\"node29\" class=\"node\">\n<title>28</title>\n<path fill=\"#ffff00\" stroke=\"#000000\" d=\"M1022.6967,-297C1022.6967,-297 942.6967,-297 942.6967,-297 936.6967,-297 930.6967,-291 930.6967,-285 930.6967,-285 930.6967,-273 930.6967,-273 930.6967,-267 936.6967,-261 942.6967,-261 942.6967,-261 1022.6967,-261 1022.6967,-261 1028.6967,-261 1034.6967,-267 1034.6967,-273 1034.6967,-273 1034.6967,-285 1034.6967,-285 1034.6967,-291 1028.6967,-297 1022.6967,-297\"/>\n<text text-anchor=\"middle\" x=\"982.6967\" y=\"-275.3\" font-family=\"Times,serif\" font-size=\"14.00\" fill=\"#000000\">MLTV &gt; 3.95?</text>\n</g>\n<!-- 28&#45;&gt;26 -->\n<g id=\"edge25\" class=\"edge\">\n<title>28&#45;&gt;26</title>\n<path fill=\"none\" stroke=\"#000000\" d=\"M962.1838,-260.9735C947.1929,-247.7997 926.7255,-229.8132 910.4503,-215.5108\"/>\n<polygon fill=\"#000000\" stroke=\"#000000\" points=\"912.6619,-212.7949 902.8398,-208.8228 908.0411,-218.0531 912.6619,-212.7949\"/>\n<text text-anchor=\"middle\" x=\"954.6967\" y=\"-231.8\" font-family=\"Times,serif\" font-size=\"14.00\" fill=\"#000000\">False</text>\n</g>\n<!-- 28&#45;&gt;27 -->\n<g id=\"edge26\" class=\"edge\">\n<title>28&#45;&gt;27</title>\n<path fill=\"none\" stroke=\"#000000\" d=\"M984.1471,-260.9735C985.095,-249.1918 986.3527,-233.5607 987.4311,-220.1581\"/>\n<polygon fill=\"#000000\" stroke=\"#000000\" points=\"990.9347,-220.2519 988.2481,-210.0034 983.9573,-219.6904 990.9347,-220.2519\"/>\n<text text-anchor=\"middle\" x=\"1000.1967\" y=\"-231.8\" font-family=\"Times,serif\" font-size=\"14.00\" fill=\"#000000\">True</text>\n</g>\n<!-- 29 -->\n<g id=\"node30\" class=\"node\">\n<title>29</title>\n<ellipse fill=\"#d3d3d3\" stroke=\"#000000\" cx=\"1044.6967\" cy=\"-105\" rx=\"37.0935\" ry=\"18\"/>\n<text text-anchor=\"middle\" x=\"1044.6967\" y=\"-101.3\" font-family=\"Times,serif\" font-size=\"14.00\" fill=\"#000000\">normal</text>\n</g>\n<!-- 30 -->\n<g id=\"node31\" class=\"node\">\n<title>30</title>\n<ellipse fill=\"#d3d3d3\" stroke=\"#000000\" cx=\"1149.6967\" cy=\"-105\" rx=\"50.0912\" ry=\"18\"/>\n<text text-anchor=\"middle\" x=\"1149.6967\" y=\"-101.3\" font-family=\"Times,serif\" font-size=\"14.00\" fill=\"#000000\">pathologic</text>\n</g>\n<!-- 31 -->\n<g id=\"node32\" class=\"node\">\n<title>31</title>\n<path fill=\"#ffff00\" stroke=\"#000000\" d=\"M1123.6967,-210C1123.6967,-210 1071.6967,-210 1071.6967,-210 1065.6967,-210 1059.6967,-204 1059.6967,-198 1059.6967,-198 1059.6967,-186 1059.6967,-186 1059.6967,-180 1065.6967,-174 1071.6967,-174 1071.6967,-174 1123.6967,-174 1123.6967,-174 1129.6967,-174 1135.6967,-180 1135.6967,-186 1135.6967,-186 1135.6967,-198 1135.6967,-198 1135.6967,-204 1129.6967,-210 1123.6967,-210\"/>\n<text text-anchor=\"middle\" x=\"1097.6967\" y=\"-188.3\" font-family=\"Times,serif\" font-size=\"14.00\" fill=\"#000000\">DS &gt; 0.5?</text>\n</g>\n<!-- 31&#45;&gt;29 -->\n<g id=\"edge27\" class=\"edge\">\n<title>31&#45;&gt;29</title>\n<path fill=\"none\" stroke=\"#000000\" d=\"M1086.715,-173.9735C1079.1539,-161.5619 1068.9903,-144.8782 1060.553,-131.0284\"/>\n<polygon fill=\"#000000\" stroke=\"#000000\" points=\"1063.4942,-129.1289 1055.3026,-122.4097 1057.5162,-132.7707 1063.4942,-129.1289\"/>\n<text text-anchor=\"middle\" x=\"1089.6967\" y=\"-144.8\" font-family=\"Times,serif\" font-size=\"14.00\" fill=\"#000000\">False</text>\n</g>\n<!-- 31&#45;&gt;30 -->\n<g id=\"edge28\" class=\"edge\">\n<title>31&#45;&gt;30</title>\n<path fill=\"none\" stroke=\"#000000\" d=\"M1108.4711,-173.9735C1115.8408,-161.6435 1125.7303,-145.0975 1133.9759,-131.3021\"/>\n<polygon fill=\"#000000\" stroke=\"#000000\" points=\"1136.9877,-133.085 1139.1139,-122.7057 1130.9792,-129.4937 1136.9877,-133.085\"/>\n<text text-anchor=\"middle\" x=\"1141.1967\" y=\"-144.8\" font-family=\"Times,serif\" font-size=\"14.00\" fill=\"#000000\">True</text>\n</g>\n<!-- 32 -->\n<g id=\"node33\" class=\"node\">\n<title>32</title>\n<ellipse fill=\"#d3d3d3\" stroke=\"#000000\" cx=\"1203.6967\" cy=\"-192\" rx=\"50.0912\" ry=\"18\"/>\n<text text-anchor=\"middle\" x=\"1203.6967\" y=\"-188.3\" font-family=\"Times,serif\" font-size=\"14.00\" fill=\"#000000\">pathologic</text>\n</g>\n<!-- 33 -->\n<g id=\"node34\" class=\"node\">\n<title>33</title>\n<path fill=\"#ffff00\" stroke=\"#000000\" d=\"M1144.1967,-297C1144.1967,-297 1065.1967,-297 1065.1967,-297 1059.1967,-297 1053.1967,-291 1053.1967,-285 1053.1967,-285 1053.1967,-273 1053.1967,-273 1053.1967,-267 1059.1967,-261 1065.1967,-261 1065.1967,-261 1144.1967,-261 1144.1967,-261 1150.1967,-261 1156.1967,-267 1156.1967,-273 1156.1967,-273 1156.1967,-285 1156.1967,-285 1156.1967,-291 1150.1967,-297 1144.1967,-297\"/>\n<text text-anchor=\"middle\" x=\"1104.6967\" y=\"-275.3\" font-family=\"Times,serif\" font-size=\"14.00\" fill=\"#000000\">ASTV &gt; 79.5?</text>\n</g>\n<!-- 33&#45;&gt;31 -->\n<g id=\"edge29\" class=\"edge\">\n<title>33&#45;&gt;31</title>\n<path fill=\"none\" stroke=\"#000000\" d=\"M1103.2463,-260.9735C1102.2983,-249.1918 1101.0406,-233.5607 1099.9622,-220.1581\"/>\n<polygon fill=\"#000000\" stroke=\"#000000\" points=\"1103.436,-219.6904 1099.1452,-210.0034 1096.4586,-220.2519 1103.436,-219.6904\"/>\n<text text-anchor=\"middle\" x=\"1116.6967\" y=\"-231.8\" font-family=\"Times,serif\" font-size=\"14.00\" fill=\"#000000\">False</text>\n</g>\n<!-- 33&#45;&gt;32 -->\n<g id=\"edge30\" class=\"edge\">\n<title>33&#45;&gt;32</title>\n<path fill=\"none\" stroke=\"#000000\" d=\"M1125.2095,-260.9735C1140.2004,-247.7997 1160.6678,-229.8132 1176.943,-215.5108\"/>\n<polygon fill=\"#000000\" stroke=\"#000000\" points=\"1179.3522,-218.0531 1184.5535,-208.8228 1174.7314,-212.7949 1179.3522,-218.0531\"/>\n<text text-anchor=\"middle\" x=\"1174.1967\" y=\"-231.8\" font-family=\"Times,serif\" font-size=\"14.00\" fill=\"#000000\">True</text>\n</g>\n<!-- 34 -->\n<g id=\"node35\" class=\"node\">\n<title>34</title>\n<path fill=\"#ffff00\" stroke=\"#000000\" d=\"M1087.1967,-384C1087.1967,-384 1030.1967,-384 1030.1967,-384 1024.1967,-384 1018.1967,-378 1018.1967,-372 1018.1967,-372 1018.1967,-360 1018.1967,-360 1018.1967,-354 1024.1967,-348 1030.1967,-348 1030.1967,-348 1087.1967,-348 1087.1967,-348 1093.1967,-348 1099.1967,-354 1099.1967,-360 1099.1967,-360 1099.1967,-372 1099.1967,-372 1099.1967,-378 1093.1967,-384 1087.1967,-384\"/>\n<text text-anchor=\"middle\" x=\"1058.6967\" y=\"-362.3\" font-family=\"Times,serif\" font-size=\"14.00\" fill=\"#000000\">Width &gt; 9?</text>\n</g>\n<!-- 34&#45;&gt;28 -->\n<g id=\"edge31\" class=\"edge\">\n<title>34&#45;&gt;28</title>\n<path fill=\"none\" stroke=\"#000000\" d=\"M1042.9494,-347.9735C1032.0459,-335.4919 1017.3683,-318.6899 1005.2297,-304.7944\"/>\n<polygon fill=\"#000000\" stroke=\"#000000\" points=\"1007.6386,-302.2319 998.4237,-297.0034 1002.3668,-306.8371 1007.6386,-302.2319\"/>\n<text text-anchor=\"middle\" x=\"1040.6967\" y=\"-318.8\" font-family=\"Times,serif\" font-size=\"14.00\" fill=\"#000000\">False</text>\n</g>\n<!-- 34&#45;&gt;33 -->\n<g id=\"edge32\" class=\"edge\">\n<title>34&#45;&gt;33</title>\n<path fill=\"none\" stroke=\"#000000\" d=\"M1068.2279,-347.9735C1074.6424,-335.8418 1083.2148,-319.6287 1090.4367,-305.9698\"/>\n<polygon fill=\"#000000\" stroke=\"#000000\" points=\"1093.5975,-307.4797 1095.1776,-297.0034 1087.4092,-304.2077 1093.5975,-307.4797\"/>\n<text text-anchor=\"middle\" x=\"1098.1967\" y=\"-318.8\" font-family=\"Times,serif\" font-size=\"14.00\" fill=\"#000000\">True</text>\n</g>\n<!-- 35 -->\n<g id=\"node36\" class=\"node\">\n<title>35</title>\n<ellipse fill=\"#d3d3d3\" stroke=\"#000000\" cx=\"1224.6967\" cy=\"-279\" rx=\"50.0912\" ry=\"18\"/>\n<text text-anchor=\"middle\" x=\"1224.6967\" y=\"-275.3\" font-family=\"Times,serif\" font-size=\"14.00\" fill=\"#000000\">pathologic</text>\n</g>\n<!-- 36 -->\n<g id=\"node37\" class=\"node\">\n<title>36</title>\n<ellipse fill=\"#d3d3d3\" stroke=\"#000000\" cx=\"1335.6967\" cy=\"-192\" rx=\"50.0912\" ry=\"18\"/>\n<text text-anchor=\"middle\" x=\"1335.6967\" y=\"-188.3\" font-family=\"Times,serif\" font-size=\"14.00\" fill=\"#000000\">pathologic</text>\n</g>\n<!-- 37 -->\n<g id=\"node38\" class=\"node\">\n<title>37</title>\n<ellipse fill=\"#d3d3d3\" stroke=\"#000000\" cx=\"1441.6967\" cy=\"-192\" rx=\"37.8943\" ry=\"18\"/>\n<text text-anchor=\"middle\" x=\"1441.6967\" y=\"-188.3\" font-family=\"Times,serif\" font-size=\"14.00\" fill=\"#000000\">suspect</text>\n</g>\n<!-- 38 -->\n<g id=\"node39\" class=\"node\">\n<title>38</title>\n<path fill=\"#ffff00\" stroke=\"#000000\" d=\"M1382.6967,-297C1382.6967,-297 1304.6967,-297 1304.6967,-297 1298.6967,-297 1292.6967,-291 1292.6967,-285 1292.6967,-285 1292.6967,-273 1292.6967,-273 1292.6967,-267 1298.6967,-261 1304.6967,-261 1304.6967,-261 1382.6967,-261 1382.6967,-261 1388.6967,-261 1394.6967,-267 1394.6967,-273 1394.6967,-273 1394.6967,-285 1394.6967,-285 1394.6967,-291 1388.6967,-297 1382.6967,-297\"/>\n<text text-anchor=\"middle\" x=\"1343.6967\" y=\"-275.3\" font-family=\"Times,serif\" font-size=\"14.00\" fill=\"#000000\">Variance &gt; 43?</text>\n</g>\n<!-- 38&#45;&gt;36 -->\n<g id=\"edge33\" class=\"edge\">\n<title>38&#45;&gt;36</title>\n<path fill=\"none\" stroke=\"#000000\" d=\"M1342.039,-260.9735C1340.9557,-249.1918 1339.5183,-233.5607 1338.2859,-220.1581\"/>\n<polygon fill=\"#000000\" stroke=\"#000000\" points=\"1341.7532,-219.6408 1337.3521,-210.0034 1334.7826,-220.2819 1341.7532,-219.6408\"/>\n<text text-anchor=\"middle\" x=\"1355.6967\" y=\"-231.8\" font-family=\"Times,serif\" font-size=\"14.00\" fill=\"#000000\">False</text>\n</g>\n<!-- 38&#45;&gt;37 -->\n<g id=\"edge34\" class=\"edge\">\n<title>38&#45;&gt;37</title>\n<path fill=\"none\" stroke=\"#000000\" d=\"M1364.0023,-260.9735C1379.1309,-247.5431 1399.8939,-229.1106 1416.15,-214.6792\"/>\n<polygon fill=\"#000000\" stroke=\"#000000\" points=\"1418.569,-217.2119 1423.7237,-207.9556 1413.9218,-211.9771 1418.569,-217.2119\"/>\n<text text-anchor=\"middle\" x=\"1411.1967\" y=\"-231.8\" font-family=\"Times,serif\" font-size=\"14.00\" fill=\"#000000\">True</text>\n</g>\n<!-- 39 -->\n<g id=\"node40\" class=\"node\">\n<title>39</title>\n<path fill=\"#ffff00\" stroke=\"#000000\" d=\"M1270.6967,-384C1270.6967,-384 1178.6967,-384 1178.6967,-384 1172.6967,-384 1166.6967,-378 1166.6967,-372 1166.6967,-372 1166.6967,-360 1166.6967,-360 1166.6967,-354 1172.6967,-348 1178.6967,-348 1178.6967,-348 1270.6967,-348 1270.6967,-348 1276.6967,-348 1282.6967,-354 1282.6967,-360 1282.6967,-360 1282.6967,-372 1282.6967,-372 1282.6967,-378 1276.6967,-384 1270.6967,-384\"/>\n<text text-anchor=\"middle\" x=\"1224.6967\" y=\"-362.3\" font-family=\"Times,serif\" font-size=\"14.00\" fill=\"#000000\">Median &gt; 128.5?</text>\n</g>\n<!-- 39&#45;&gt;35 -->\n<g id=\"edge35\" class=\"edge\">\n<title>39&#45;&gt;35</title>\n<path fill=\"none\" stroke=\"#000000\" d=\"M1224.6967,-347.9735C1224.6967,-336.1918 1224.6967,-320.5607 1224.6967,-307.1581\"/>\n<polygon fill=\"#000000\" stroke=\"#000000\" points=\"1228.1968,-307.0033 1224.6967,-297.0034 1221.1968,-307.0034 1228.1968,-307.0033\"/>\n<text text-anchor=\"middle\" x=\"1239.6967\" y=\"-318.8\" font-family=\"Times,serif\" font-size=\"14.00\" fill=\"#000000\">False</text>\n</g>\n<!-- 39&#45;&gt;38 -->\n<g id=\"edge36\" class=\"edge\">\n<title>39&#45;&gt;38</title>\n<path fill=\"none\" stroke=\"#000000\" d=\"M1249.3535,-347.9735C1267.1442,-334.9669 1291.3517,-317.269 1310.7909,-303.0571\"/>\n<polygon fill=\"#000000\" stroke=\"#000000\" points=\"1313.0643,-305.7307 1319.0714,-297.0034 1308.933,-300.0798 1313.0643,-305.7307\"/>\n<text text-anchor=\"middle\" x=\"1305.1967\" y=\"-318.8\" font-family=\"Times,serif\" font-size=\"14.00\" fill=\"#000000\">True</text>\n</g>\n<!-- 40 -->\n<g id=\"node41\" class=\"node\">\n<title>40</title>\n<path fill=\"#ffff00\" stroke=\"#000000\" d=\"M1084.1967,-471C1084.1967,-471 1033.1967,-471 1033.1967,-471 1027.1967,-471 1021.1967,-465 1021.1967,-459 1021.1967,-459 1021.1967,-447 1021.1967,-447 1021.1967,-441 1027.1967,-435 1033.1967,-435 1033.1967,-435 1084.1967,-435 1084.1967,-435 1090.1967,-435 1096.1967,-441 1096.1967,-447 1096.1967,-447 1096.1967,-459 1096.1967,-459 1096.1967,-465 1090.1967,-471 1084.1967,-471\"/>\n<text text-anchor=\"middle\" x=\"1058.6967\" y=\"-449.3\" font-family=\"Times,serif\" font-size=\"14.00\" fill=\"#000000\">DP &gt; 1.5?</text>\n</g>\n<!-- 40&#45;&gt;34 -->\n<g id=\"edge37\" class=\"edge\">\n<title>40&#45;&gt;34</title>\n<path fill=\"none\" stroke=\"#000000\" d=\"M1058.6967,-434.9735C1058.6967,-423.1918 1058.6967,-407.5607 1058.6967,-394.1581\"/>\n<polygon fill=\"#000000\" stroke=\"#000000\" points=\"1062.1968,-394.0033 1058.6967,-384.0034 1055.1968,-394.0034 1062.1968,-394.0033\"/>\n<text text-anchor=\"middle\" x=\"1073.6967\" y=\"-405.8\" font-family=\"Times,serif\" font-size=\"14.00\" fill=\"#000000\">False</text>\n</g>\n<!-- 40&#45;&gt;39 -->\n<g id=\"edge38\" class=\"edge\">\n<title>40&#45;&gt;39</title>\n<path fill=\"none\" stroke=\"#000000\" d=\"M1093.092,-434.9735C1118.6882,-421.5587 1153.8064,-403.1533 1181.328,-388.7294\"/>\n<polygon fill=\"#000000\" stroke=\"#000000\" points=\"1183.1129,-391.7455 1190.3454,-384.0034 1179.8634,-385.5454 1183.1129,-391.7455\"/>\n<text text-anchor=\"middle\" x=\"1165.1967\" y=\"-405.8\" font-family=\"Times,serif\" font-size=\"14.00\" fill=\"#000000\">True</text>\n</g>\n<!-- 41 -->\n<g id=\"node42\" class=\"node\">\n<title>41</title>\n<path fill=\"#ffff00\" stroke=\"#000000\" d=\"M756.6967,-558C756.6967,-558 676.6967,-558 676.6967,-558 670.6967,-558 664.6967,-552 664.6967,-546 664.6967,-546 664.6967,-534 664.6967,-534 664.6967,-528 670.6967,-522 676.6967,-522 676.6967,-522 756.6967,-522 756.6967,-522 762.6967,-522 768.6967,-528 768.6967,-534 768.6967,-534 768.6967,-546 768.6967,-546 768.6967,-552 762.6967,-558 756.6967,-558\"/>\n<text text-anchor=\"middle\" x=\"716.6967\" y=\"-536.3\" font-family=\"Times,serif\" font-size=\"14.00\" fill=\"#000000\">Mean &gt; 107.5?</text>\n</g>\n<!-- 41&#45;&gt;25 -->\n<g id=\"edge39\" class=\"edge\">\n<title>41&#45;&gt;25</title>\n<path fill=\"none\" stroke=\"#000000\" d=\"M716.6967,-521.9735C716.6967,-510.1918 716.6967,-494.5607 716.6967,-481.1581\"/>\n<polygon fill=\"#000000\" stroke=\"#000000\" points=\"720.1968,-481.0033 716.6967,-471.0034 713.1968,-481.0034 720.1968,-481.0033\"/>\n<text text-anchor=\"middle\" x=\"731.6967\" y=\"-492.8\" font-family=\"Times,serif\" font-size=\"14.00\" fill=\"#000000\">False</text>\n</g>\n<!-- 41&#45;&gt;40 -->\n<g id=\"edge40\" class=\"edge\">\n<title>41&#45;&gt;40</title>\n<path fill=\"none\" stroke=\"#000000\" d=\"M769.0114,-526.6919C835.0845,-509.8838 947.8067,-481.2088 1011.4063,-465.03\"/>\n<polygon fill=\"#000000\" stroke=\"#000000\" points=\"1012.3488,-468.4018 1021.1773,-462.5444 1010.623,-461.6179 1012.3488,-468.4018\"/>\n<text text-anchor=\"middle\" x=\"922.1967\" y=\"-492.8\" font-family=\"Times,serif\" font-size=\"14.00\" fill=\"#000000\">True</text>\n</g>\n<!-- 42 -->\n<g id=\"node43\" class=\"node\">\n<title>42</title>\n<path fill=\"#ffff00\" stroke=\"#000000\" d=\"M633.1967,-645C633.1967,-645 552.1967,-645 552.1967,-645 546.1967,-645 540.1967,-639 540.1967,-633 540.1967,-633 540.1967,-621 540.1967,-621 540.1967,-615 546.1967,-609 552.1967,-609 552.1967,-609 633.1967,-609 633.1967,-609 639.1967,-609 645.1967,-615 645.1967,-621 645.1967,-621 645.1967,-633 645.1967,-633 645.1967,-639 639.1967,-645 633.1967,-645\"/>\n<text text-anchor=\"middle\" x=\"592.6967\" y=\"-623.3\" font-family=\"Times,serif\" font-size=\"14.00\" fill=\"#000000\">MSTV &gt; 0.45?</text>\n</g>\n<!-- 42&#45;&gt;18 -->\n<g id=\"edge41\" class=\"edge\">\n<title>42&#45;&gt;18</title>\n<path fill=\"none\" stroke=\"#000000\" d=\"M579.8502,-608.9735C571.0384,-596.6085 559.205,-580.0036 549.357,-566.1847\"/>\n<polygon fill=\"#000000\" stroke=\"#000000\" points=\"552.1805,-564.1158 543.5266,-558.0034 546.4799,-568.1783 552.1805,-564.1158\"/>\n<text text-anchor=\"middle\" x=\"580.6967\" y=\"-579.8\" font-family=\"Times,serif\" font-size=\"14.00\" fill=\"#000000\">False</text>\n</g>\n<!-- 42&#45;&gt;41 -->\n<g id=\"edge42\" class=\"edge\">\n<title>42&#45;&gt;41</title>\n<path fill=\"none\" stroke=\"#000000\" d=\"M618.3895,-608.9735C637.0108,-595.9086 662.3787,-578.1102 682.6805,-563.8662\"/>\n<polygon fill=\"#000000\" stroke=\"#000000\" points=\"684.8608,-566.612 691.0367,-558.0034 680.8403,-560.8817 684.8608,-566.612\"/>\n<text text-anchor=\"middle\" x=\"676.1967\" y=\"-579.8\" font-family=\"Times,serif\" font-size=\"14.00\" fill=\"#000000\">True</text>\n</g>\n</g>\n</svg>\n",
            "text/plain": [
              "<graphviz.dot.Digraph at 0x7f1d30d585d0>"
            ]
          },
          "execution_count": 38,
          "metadata": {},
          "output_type": "execute_result"
        }
      ],
      "source": [
        "cls = TreeClassifier(max_depth=7)\n",
        "cls.fit(Xtrain, Ytrain)\n",
        "cls.draw_tree()"
      ]
    },
    {
      "cell_type": "markdown",
      "metadata": {
        "id": "DZzcBJA1PofR"
      },
      "source": [
        "**COMMENT:** We selected the depth value as 7 by cross validation TreeClassifier, and the accuracy is 0.9295774647887324. Also, we took same depth for the tree visualized above. "
      ]
    },
    {
      "cell_type": "markdown",
      "metadata": {
        "id": "gBjrfFM8RAB_"
      },
      "source": [
        "# Task 3: A regression example: predicting apartment prices"
      ]
    },
    {
      "cell_type": "code",
      "execution_count": null,
      "metadata": {
        "id": "GoImoQh8PIzF"
      },
      "outputs": [],
      "source": [
        "# Read the CSV file using Pandas.\n",
        "alldata = pd.read_csv(root+\"sberbank.csv\")\n",
        "\n",
        "# Convert the timestamp string to an integer representing the year.\n",
        "def get_year(timestamp):\n",
        "    return int(timestamp[:4])\n",
        "alldata['year'] = alldata.timestamp.apply(get_year)\n",
        "\n",
        "# Select the 9 input columns and the output column.\n",
        "selected_columns = ['price_doc', 'year', 'full_sq', 'life_sq', 'floor', 'num_room', 'kitch_sq', 'full_all']\n",
        "alldata = alldata[selected_columns]\n",
        "alldata = alldata.dropna()\n",
        "\n",
        "# Shuffle.\n",
        "alldata_shuffled = alldata.sample(frac=1.0, random_state=0)\n",
        "\n",
        "# Separate the input and output columns.\n",
        "X = alldata_shuffled.drop('price_doc', axis=1)\n",
        "# For the output, we'll use the log of the sales price.\n",
        "Y = alldata_shuffled['price_doc'].apply(np.log)\n",
        "\n",
        "# Split into training and test sets.\n",
        "Xtrain, Xtest, Ytrain, Ytest = train_test_split(X, Y, test_size=0.2, random_state=0)"
      ]
    },
    {
      "cell_type": "code",
      "execution_count": null,
      "metadata": {
        "colab": {
          "base_uri": "https://localhost:8080/"
        },
        "id": "LNfuijDiRT38",
        "outputId": "a2b0748c-8297-4c13-e3ca-668293b82bcf"
      },
      "outputs": [
        {
          "data": {
            "text/plain": [
              "{'fit_time': array([0.00326657, 0.00286746, 0.00127864, 0.00126195, 0.00123596]),\n",
              " 'score_time': array([0.00113106, 0.00044894, 0.00043368, 0.00041842, 0.00042915]),\n",
              " 'test_score': array([-0.39897319, -0.37113485, -0.38083108, -0.39057156, -0.40475168])}"
            ]
          },
          "execution_count": 40,
          "metadata": {},
          "output_type": "execute_result"
        }
      ],
      "source": [
        "from sklearn.dummy import DummyRegressor\n",
        "from sklearn.model_selection import cross_validate\n",
        "m1 = DummyRegressor()\n",
        "cross_validate(m1, Xtrain, Ytrain, scoring='neg_mean_squared_error')"
      ]
    },
    {
      "cell_type": "code",
      "execution_count": null,
      "metadata": {
        "colab": {
          "base_uri": "https://localhost:8080/"
        },
        "id": "ReT664UnRUUQ",
        "outputId": "10456480-718d-45d0-cc01-0841352709b6"
      },
      "outputs": [
        {
          "name": "stdout",
          "output_type": "stream",
          "text": [
            "LinearRegression {'fit_time': array([0.01193142, 0.0343895 , 0.02767611, 0.01120973, 0.00957537]), 'score_time': array([0.02109218, 0.01818371, 0.00467658, 0.00506115, 0.0060451 ]), 'test_score': array([-0.30222063, -0.32537384, -0.29377903, -0.29296258, -0.29265721])}\n",
            "Ridge {'fit_time': array([0.04428172, 0.02788496, 0.01888299, 0.02982616, 0.0264132 ]), 'score_time': array([0.01194239, 0.0093646 , 0.01200795, 0.00488901, 0.01106405]), 'test_score': array([-0.30222063, -0.32537046, -0.29377831, -0.29296256, -0.29265724])}\n",
            "Lasso {'fit_time': array([0.03877544, 0.05378699, 0.0230844 , 0.03905559, 0.03584695]), 'score_time': array([0.01321268, 0.0161078 , 0.00556636, 0.02075315, 0.01208353]), 'test_score': array([-0.31042005, -0.29379119, -0.29803599, -0.30061325, -0.30237486])}\n",
            "DecisionTreeRegressor {'fit_time': array([0.17915654, 0.15199232, 0.10361218, 0.11400151, 0.07773113]), 'score_time': array([0.00869083, 0.01559854, 0.0067718 , 0.02086711, 0.00750065]), 'test_score': array([-0.52899415, -0.53085078, -0.50438614, -0.50852799, -0.54650829])}\n",
            "RandomForestRegressor {'fit_time': array([10.25028658,  5.45341706,  5.32226706,  5.18288183,  5.07562017]), 'score_time': array([0.4607482 , 0.22697139, 0.2320466 , 0.22995639, 0.23003912]), 'test_score': array([-0.29553815, -0.2762106 , -0.27719283, -0.28354407, -0.28723804])}\n",
            "GradientBoostingRegressor {'fit_time': array([0.88110924, 0.84507251, 1.08093119, 1.38336325, 1.16614127]), 'score_time': array([0.00835085, 0.00767326, 0.01335883, 0.01173282, 0.01107883]), 'test_score': array([-0.27659086, -0.2492336 , -0.2629521 , -0.27079364, -0.26331716])}\n",
            "MLPRegressor {'fit_time': array([1.5492754 , 5.75234246, 1.0920732 , 4.3066864 , 1.65566969]), 'score_time': array([0.00718904, 0.00807762, 0.01271939, 0.00924778, 0.006881  ]), 'test_score': array([-1.11368888e+04, -1.76639491e+02, -1.17611338e+04, -1.30626824e+00,\n",
            "       -3.47184492e+03])}\n",
            "selected regression model is GradientBoostingRegressor and the evaluation is 0.2714620671704748\n"
          ]
        }
      ],
      "source": [
        "from sklearn.metrics import mean_squared_error\n",
        "from sklearn.linear_model import LinearRegression \n",
        "from sklearn.linear_model import Ridge \n",
        "from sklearn.linear_model import Lasso \n",
        "from sklearn.tree import DecisionTreeRegressor\n",
        "from sklearn.ensemble import RandomForestRegressor \n",
        "from sklearn.ensemble import GradientBoostingRegressor \n",
        "from sklearn.neural_network import MLPRegressor\n",
        "\n",
        "lnr = LinearRegression()\n",
        "lnr.fit(Xtrain, Ytrain)\n",
        "print(\"LinearRegression\", cross_validate(lnr, Xtrain, Ytrain, scoring='neg_mean_squared_error'))\n",
        "\n",
        "\n",
        "rid = Ridge()\n",
        "rid.fit(Xtrain, Ytrain)\n",
        "mean_squared_error(Ytest, rid.predict(Xtest))\n",
        "print(\"Ridge\", cross_validate(rid, Xtrain, Ytrain, scoring='neg_mean_squared_error'))\n",
        "\n",
        "las = Lasso()\n",
        "las.fit(Xtrain, Ytrain)\n",
        "mean_squared_error(Ytest, las.predict(Xtest))\n",
        "print(\"Lasso\", cross_validate(las, Xtrain, Ytrain, scoring='neg_mean_squared_error'))\n",
        "\n",
        "dtr = DecisionTreeRegressor()\n",
        "dtr.fit(Xtrain, Ytrain)\n",
        "mean_squared_error(Ytest, dtr.predict(Xtest))\n",
        "print(\"DecisionTreeRegressor\", cross_validate(dtr, Xtrain, Ytrain, scoring='neg_mean_squared_error'))\n",
        "\n",
        "rfr = RandomForestRegressor()\n",
        "rfr.fit(Xtrain, Ytrain)\n",
        "mean_squared_error(Ytest, rfr.predict(Xtest))\n",
        "print(\"RandomForestRegressor\", cross_validate(rfr, Xtrain, Ytrain, scoring='neg_mean_squared_error'))\n",
        "\n",
        "\n",
        "gbr = GradientBoostingRegressor()\n",
        "gbr.fit(Xtrain, Ytrain)\n",
        "mean_squared_error(Ytest, gbr.predict(Xtest))\n",
        "print(\"GradientBoostingRegressor\", cross_validate(gbr, Xtrain, Ytrain, scoring='neg_mean_squared_error'))\n",
        "\n",
        "\n",
        "mrg = MLPRegressor()\n",
        "mrg.fit(Xtrain, Ytrain)\n",
        "mean_squared_error(Ytest, mrg.predict(Xtest))\n",
        "print(\"MLPRegressor\", cross_validate(mrg, Xtrain, Ytrain, scoring='neg_mean_squared_error'))\n",
        "\n",
        "\n",
        "  \n",
        "gbr.fit(Xtrain, Ytrain)\n",
        "print(\"selected regression model is GradientBoostingRegressor and the evaluation is\", mean_squared_error(Ytest, gbr.predict(Xtest)))\n",
        "\n"
      ]
    },
    {
      "cell_type": "markdown",
      "metadata": {
        "id": "xBno3FgoTCiR"
      },
      "source": [
        "**COMMENT:** As an evaluation score we used mean squared error, which calculates difference between predicted and real value of label and take square of it. We chosed gradient boosting regressor because it has the smallest value of mean squared error. the evaluated mean_squared_error is 0.2714620671704748.  Gradient boosting regressor is an additive model which in each stage a tree is fitted according to negative gradient of loss function. Default loss function for gradient calculation is squared error so we used squared error as loss function. "
      ]
    },
    {
      "cell_type": "markdown",
      "metadata": {
        "id": "weR21XivZBHJ"
      },
      "source": [
        "# Task 4: Decision trees for regression "
      ]
    },
    {
      "cell_type": "markdown",
      "source": [
        "Step 1. Implementing the regression model"
      ],
      "metadata": {
        "id": "WFv5wSj86BtM"
      }
    },
    {
      "cell_type": "code",
      "execution_count": null,
      "metadata": {
        "id": "63lt-dQRZELC"
      },
      "outputs": [],
      "source": [
        "from collections import Counter\n",
        "from sklearn.base import BaseEstimator, RegressorMixin\n",
        "class TreeRegressor(DecisionTree, RegressorMixin):\n",
        "\n",
        "    def __init__(self, max_depth=90, criterion='info_gain'):\n",
        "        super().__init__(max_depth)\n",
        "        self.criterion = criterion\n",
        "        \n",
        "    def fit(self, X, Y):\n",
        "        # For decision tree classifiers, there are some different ways to measure\n",
        "        # the homogeneity of subsets.\n",
        "        if self.criterion == 'maj_sum':\n",
        "            self.criterion_function = majority_sum_scorer\n",
        "        elif self.criterion == 'info_gain':\n",
        "            self.criterion_function = info_gain_scorer\n",
        "        elif self.criterion == 'gini':\n",
        "            self.criterion_function = gini_scorer\n",
        "        else:\n",
        "            raise Exception(f'Unknown criterion: {self.criterion}')\n",
        "        super().fit(X, Y)\n",
        "        self.classes_ = sorted(set(Y))\n",
        "\n",
        "    # Select a default value that is going to be used if we decide to make a leaf.\n",
        "    # We will select the most common value.\n",
        "    def get_default_value(self, Y):\n",
        "        # self.class_distribution = Counter(Y)\n",
        "        # return self.class_distribution.most_common(1)[0][0]\n",
        "        return np.mean(Y)\n",
        "    \n",
        "    # Checks whether a set of output values is homogeneous. In the classification case, \n",
        "    # this means that all output values are identical.\n",
        "    # We assume that we called get_default_value just before, so that we can access\n",
        "    # the class_distribution attribute. If the class distribution contains just one item,\n",
        "    # this means that the set is homogeneous.\n",
        "    def is_homogeneous(self, Y):\n",
        "        #return len(self.class_distribution) == 1\n",
        "        return np.var(Y) < 0.000001\n",
        "        \n",
        "    # Finds the best splitting point for a given feature. We'll keep frequency tables (Counters)\n",
        "    # for the upper and lower parts, and then compute the impurity criterion using these tables.\n",
        "    # In the end, we return a triple consisting of\n",
        "    # - the best score we found, according to the criterion we're using\n",
        "    # - the id of the feature\n",
        "    # - the threshold for the best split\n",
        "    def best_split(self, X, Y, feature):\n",
        "\n",
        "        # Create a list of input-output pairs, where we have sorted\n",
        "        # in ascending order by the input feature we're considering.\n",
        "        sorted_indices = np.argsort(X[:, feature])        \n",
        "        X_sorted = list(X[sorted_indices, feature])\n",
        "        Y_sorted = list(Y[sorted_indices])\n",
        "\n",
        "        n = len(Y)\n",
        "\n",
        "        # The frequency tables corresponding to the parts *before and including*\n",
        "        # and *after* the current element.\n",
        "        #low_distr = Counter()\n",
        "        #high_distr = Counter(Y)\n",
        "        low_distr = 0\n",
        "        high_distr = 0\n",
        "        # Keep track of the best result we've seen so far.\n",
        "        max_score = -np.inf\n",
        "        max_i = None\n",
        "\n",
        "        # Go through all the positions (excluding the last position).\n",
        "        for i in range(0, n-1):\n",
        "\n",
        "            # Input and output at the current position.\n",
        "            x_i = X_sorted[i]\n",
        "            y_i = Y_sorted[i]\n",
        "            \n",
        "            low_distr = np.var(Y_sorted[0:i+1])\n",
        "            high_distr = np.var(Y_sorted[i+1:len(Y_sorted)-1])\n",
        "\n",
        "            # Update the frequency tables.\n",
        "            # low_distr[y_i] += 1\n",
        "            # high_distr[y_i] -= 1\n",
        "\n",
        "            # If the input is equal to the input at the next position, we will\n",
        "            # not consider a split here.\n",
        "            #x_next = XY[i+1][0]\n",
        "            x_next = X_sorted[i+1]\n",
        "            if x_i == x_next:\n",
        "                continue\n",
        "\n",
        "            # Compute the homogeneity criterion for a split at this position.\n",
        "            #score = self.criterion_function(i+1, low_distr, n-i-1, high_distr)\n",
        "            score = np.var(Y_sorted) - ((n-i-1)/n) *high_distr - ((i+1)/n)*low_distr\n",
        "\n",
        "            # If this is the best split, remember it.\n",
        "            if score > max_score:\n",
        "                max_score = score\n",
        "                max_i = i\n",
        "\n",
        "        # If we didn't find any split (meaning that all inputs are identical), return\n",
        "        # a dummy value.\n",
        "        if max_i is None:\n",
        "            return -np.inf, None, None\n",
        "\n",
        "        # Otherwise, return the best split we found and its score.\n",
        "        split_point = 0.5*(X_sorted[max_i] + X_sorted[max_i+1])\n",
        "        return max_score, feature, split_point\n",
        "\n"
      ]
    },
    {
      "cell_type": "markdown",
      "source": [
        "Step 2. Sanity check"
      ],
      "metadata": {
        "id": "otwNhkjM6Edq"
      }
    },
    {
      "cell_type": "code",
      "execution_count": null,
      "metadata": {
        "colab": {
          "background_save": true
        },
        "id": "GGTEB2podbvl"
      },
      "outputs": [],
      "source": [
        "def make_some_data(n):\n",
        "    x = np.random.uniform(-5, 5, size=n)\n",
        "    Y = (x > 1) + 0.1*np.random.normal(size=n)\n",
        "    X = x.reshape(n, 1) # X needs to be a 2-dimensional matrix\n",
        "    return X, Y\n"
      ]
    },
    {
      "cell_type": "code",
      "execution_count": null,
      "metadata": {
        "colab": {
          "background_save": true,
          "base_uri": "https://localhost:8080/",
          "height": 280
        },
        "id": "k7iiUetGj9yn",
        "outputId": "34e1ced2-14af-4bba-ee08-9fa819aef442"
      },
      "outputs": [
        {
          "data": {
            "text/plain": [
              "<matplotlib.collections.PathCollection at 0x7f1d2eab7ad0>"
            ]
          },
          "execution_count": null,
          "metadata": {},
          "output_type": "execute_result"
        },
        {
          "data": {
            "image/png": "[encoded data removed]",
            "text/plain": [
              "<Figure size 432x288 with 1 Axes>"
            ]
          },
          "metadata": {},
          "output_type": "display_data"
        }
      ],
      "source": [
        "x_dummy,y_dummy = make_some_data(2000)\n",
        "import matplotlib.pyplot as plt\n",
        "plt.scatter(x_dummy,y_dummy)"
      ]
    },
    {
      "cell_type": "code",
      "execution_count": null,
      "metadata": {
        "colab": {
          "base_uri": "https://localhost:8080/",
          "height": 398
        },
        "id": "2HsuKTOCdoJn",
        "outputId": "582c8ef7-a426-40df-edcb-654ca131a47f"
      },
      "outputs": [
        {
          "output_type": "stream",
          "name": "stdout",
          "text": [
            "[-0.0014219136952652452, 1.0018217581892082, 1.0018217581892082, -0.0014219136952652452, -0.0014219136952652452, -0.0014219136952652452, -0.0014219136952652452, 1.0018217581892082, 1.0018217581892082, -0.0014219136952652452, -0.0014219136952652452, -0.0014219136952652452, -0.0014219136952652452, -0.0014219136952652452, 1.0018217581892082, -0.0014219136952652452, 1.0018217581892082, -0.0014219136952652452, -0.0014219136952652452, -0.0014219136952652452, 1.0018217581892082, -0.0014219136952652452, -0.0014219136952652452, -0.0014219136952652452, 1.0018217581892082, -0.0014219136952652452, 1.0018217581892082, -0.0014219136952652452, -0.0014219136952652452, 1.0018217581892082, -0.0014219136952652452, 1.0018217581892082, 1.0018217581892082, -0.0014219136952652452, -0.0014219136952652452, 1.0018217581892082, 1.0018217581892082, 1.0018217581892082, -0.0014219136952652452, -0.0014219136952652452, -0.0014219136952652452, -0.0014219136952652452, 1.0018217581892082, -0.0014219136952652452, 1.0018217581892082, -0.0014219136952652452, 1.0018217581892082, -0.0014219136952652452, 1.0018217581892082, -0.0014219136952652452, 1.0018217581892082, -0.0014219136952652452, -0.0014219136952652452, 1.0018217581892082, -0.0014219136952652452, -0.0014219136952652452, 1.0018217581892082, -0.0014219136952652452, -0.0014219136952652452, 1.0018217581892082, 1.0018217581892082, -0.0014219136952652452, -0.0014219136952652452, -0.0014219136952652452, -0.0014219136952652452, 1.0018217581892082, -0.0014219136952652452, 1.0018217581892082, -0.0014219136952652452, -0.0014219136952652452, 1.0018217581892082, -0.0014219136952652452, 1.0018217581892082, 1.0018217581892082, -0.0014219136952652452, -0.0014219136952652452, -0.0014219136952652452, 1.0018217581892082, -0.0014219136952652452, -0.0014219136952652452, -0.0014219136952652452, -0.0014219136952652452, -0.0014219136952652452, -0.0014219136952652452, 1.0018217581892082, -0.0014219136952652452, 1.0018217581892082, -0.0014219136952652452, -0.0014219136952652452, -0.0014219136952652452, -0.0014219136952652452, 1.0018217581892082, 1.0018217581892082, -0.0014219136952652452, -0.0014219136952652452, -0.0014219136952652452, -0.0014219136952652452, -0.0014219136952652452, -0.0014219136952652452, -0.0014219136952652452, 1.0018217581892082, 1.0018217581892082, -0.0014219136952652452, -0.0014219136952652452, 1.0018217581892082, 1.0018217581892082, -0.0014219136952652452, -0.0014219136952652452, -0.0014219136952652452, -0.0014219136952652452, 1.0018217581892082, -0.0014219136952652452, -0.0014219136952652452, -0.0014219136952652452, -0.0014219136952652452, -0.0014219136952652452, 1.0018217581892082, 1.0018217581892082, -0.0014219136952652452, 1.0018217581892082, 1.0018217581892082, -0.0014219136952652452, 1.0018217581892082, -0.0014219136952652452, -0.0014219136952652452, -0.0014219136952652452, -0.0014219136952652452, 1.0018217581892082, -0.0014219136952652452, -0.0014219136952652452, 1.0018217581892082, -0.0014219136952652452, -0.0014219136952652452, -0.0014219136952652452, 1.0018217581892082, -0.0014219136952652452, -0.0014219136952652452, 1.0018217581892082, -0.0014219136952652452, -0.0014219136952652452, -0.0014219136952652452, 1.0018217581892082, -0.0014219136952652452, -0.0014219136952652452, 1.0018217581892082, -0.0014219136952652452, -0.0014219136952652452, -0.0014219136952652452, 1.0018217581892082, -0.0014219136952652452, -0.0014219136952652452, 1.0018217581892082, -0.0014219136952652452, -0.0014219136952652452, -0.0014219136952652452, -0.0014219136952652452, 1.0018217581892082, 1.0018217581892082, -0.0014219136952652452, 1.0018217581892082, -0.0014219136952652452, -0.0014219136952652452, -0.0014219136952652452, -0.0014219136952652452, -0.0014219136952652452, -0.0014219136952652452, 1.0018217581892082, 1.0018217581892082, -0.0014219136952652452, -0.0014219136952652452, -0.0014219136952652452, -0.0014219136952652452, 1.0018217581892082, -0.0014219136952652452, -0.0014219136952652452, -0.0014219136952652452, -0.0014219136952652452, 1.0018217581892082, -0.0014219136952652452, -0.0014219136952652452, -0.0014219136952652452, -0.0014219136952652452, 1.0018217581892082, -0.0014219136952652452, 1.0018217581892082, 1.0018217581892082, -0.0014219136952652452, -0.0014219136952652452, 1.0018217581892082, 1.0018217581892082, -0.0014219136952652452, -0.0014219136952652452, -0.0014219136952652452, 1.0018217581892082, 1.0018217581892082, -0.0014219136952652452, 1.0018217581892082, -0.0014219136952652452, 1.0018217581892082, -0.0014219136952652452, -0.0014219136952652452, -0.0014219136952652452, -0.0014219136952652452, -0.0014219136952652452, 1.0018217581892082, -0.0014219136952652452, 1.0018217581892082, -0.0014219136952652452, 1.0018217581892082, 1.0018217581892082, -0.0014219136952652452, 1.0018217581892082, -0.0014219136952652452, 1.0018217581892082, -0.0014219136952652452, 1.0018217581892082, 1.0018217581892082, -0.0014219136952652452, -0.0014219136952652452, -0.0014219136952652452, 1.0018217581892082, 1.0018217581892082, -0.0014219136952652452, -0.0014219136952652452, 1.0018217581892082, 1.0018217581892082, -0.0014219136952652452, -0.0014219136952652452, -0.0014219136952652452, -0.0014219136952652452, -0.0014219136952652452, -0.0014219136952652452, -0.0014219136952652452, -0.0014219136952652452, -0.0014219136952652452, 1.0018217581892082, 1.0018217581892082, -0.0014219136952652452, 1.0018217581892082, 1.0018217581892082, -0.0014219136952652452, -0.0014219136952652452, -0.0014219136952652452, -0.0014219136952652452, 1.0018217581892082, 1.0018217581892082, 1.0018217581892082, -0.0014219136952652452, -0.0014219136952652452, -0.0014219136952652452, 1.0018217581892082, 1.0018217581892082, -0.0014219136952652452, -0.0014219136952652452, -0.0014219136952652452, 1.0018217581892082, 1.0018217581892082, -0.0014219136952652452, -0.0014219136952652452, -0.0014219136952652452, 1.0018217581892082, 1.0018217581892082, 1.0018217581892082, 1.0018217581892082, -0.0014219136952652452, -0.0014219136952652452, -0.0014219136952652452, 1.0018217581892082, 1.0018217581892082, -0.0014219136952652452, 1.0018217581892082, 1.0018217581892082, -0.0014219136952652452, -0.0014219136952652452, -0.0014219136952652452, -0.0014219136952652452, -0.0014219136952652452, -0.0014219136952652452, -0.0014219136952652452, 1.0018217581892082, 1.0018217581892082, 1.0018217581892082, 1.0018217581892082, -0.0014219136952652452, 1.0018217581892082, 1.0018217581892082, 1.0018217581892082, -0.0014219136952652452, 1.0018217581892082, -0.0014219136952652452, 1.0018217581892082, 1.0018217581892082, -0.0014219136952652452, 1.0018217581892082, -0.0014219136952652452, 1.0018217581892082, -0.0014219136952652452, 1.0018217581892082, -0.0014219136952652452, -0.0014219136952652452, 1.0018217581892082, -0.0014219136952652452, 1.0018217581892082, -0.0014219136952652452, -0.0014219136952652452, 1.0018217581892082, -0.0014219136952652452, -0.0014219136952652452, -0.0014219136952652452, -0.0014219136952652452, -0.0014219136952652452, -0.0014219136952652452, -0.0014219136952652452, -0.0014219136952652452, -0.0014219136952652452, -0.0014219136952652452, 1.0018217581892082, -0.0014219136952652452, -0.0014219136952652452, -0.0014219136952652452, -0.0014219136952652452, -0.0014219136952652452, 1.0018217581892082, -0.0014219136952652452, 1.0018217581892082, -0.0014219136952652452, -0.0014219136952652452, -0.0014219136952652452, 1.0018217581892082, -0.0014219136952652452, 1.0018217581892082, -0.0014219136952652452, -0.0014219136952652452, -0.0014219136952652452, 1.0018217581892082, -0.0014219136952652452, -0.0014219136952652452, 1.0018217581892082, -0.0014219136952652452, -0.0014219136952652452, 1.0018217581892082, -0.0014219136952652452, -0.0014219136952652452, -0.0014219136952652452, 1.0018217581892082, -0.0014219136952652452, -0.0014219136952652452, -0.0014219136952652452, -0.0014219136952652452, -0.0014219136952652452, 1.0018217581892082, -0.0014219136952652452, -0.0014219136952652452, 1.0018217581892082, -0.0014219136952652452, -0.0014219136952652452, -0.0014219136952652452, -0.0014219136952652452, 1.0018217581892082, 1.0018217581892082, -0.0014219136952652452, -0.0014219136952652452, -0.0014219136952652452, 1.0018217581892082, -0.0014219136952652452, -0.0014219136952652452, -0.0014219136952652452, 1.0018217581892082, 1.0018217581892082, -0.0014219136952652452, 1.0018217581892082, -0.0014219136952652452, 1.0018217581892082, -0.0014219136952652452, -0.0014219136952652452, -0.0014219136952652452, 1.0018217581892082, -0.0014219136952652452, -0.0014219136952652452, 1.0018217581892082, 1.0018217581892082, 1.0018217581892082, 1.0018217581892082, -0.0014219136952652452, 1.0018217581892082, -0.0014219136952652452, -0.0014219136952652452, 1.0018217581892082, 1.0018217581892082, 1.0018217581892082, -0.0014219136952652452, -0.0014219136952652452, -0.0014219136952652452, 1.0018217581892082, -0.0014219136952652452, 1.0018217581892082, -0.0014219136952652452, -0.0014219136952652452, 1.0018217581892082, 1.0018217581892082, -0.0014219136952652452, -0.0014219136952652452, 1.0018217581892082, -0.0014219136952652452, -0.0014219136952652452, -0.0014219136952652452, 1.0018217581892082, 1.0018217581892082, 1.0018217581892082, 1.0018217581892082, -0.0014219136952652452, 1.0018217581892082, -0.0014219136952652452, -0.0014219136952652452, 1.0018217581892082, -0.0014219136952652452, -0.0014219136952652452, 1.0018217581892082, -0.0014219136952652452, -0.0014219136952652452, -0.0014219136952652452, 1.0018217581892082, 1.0018217581892082, -0.0014219136952652452, 1.0018217581892082, 1.0018217581892082, -0.0014219136952652452, -0.0014219136952652452, -0.0014219136952652452, -0.0014219136952652452, 1.0018217581892082, 1.0018217581892082, 1.0018217581892082, -0.0014219136952652452, 1.0018217581892082, -0.0014219136952652452, -0.0014219136952652452, 1.0018217581892082, 1.0018217581892082, 1.0018217581892082, -0.0014219136952652452, -0.0014219136952652452, 1.0018217581892082, 1.0018217581892082, 1.0018217581892082, -0.0014219136952652452, -0.0014219136952652452, -0.0014219136952652452, -0.0014219136952652452, 1.0018217581892082, 1.0018217581892082, 1.0018217581892082, -0.0014219136952652452, -0.0014219136952652452, 1.0018217581892082, -0.0014219136952652452, 1.0018217581892082, 1.0018217581892082, -0.0014219136952652452, 1.0018217581892082, 1.0018217581892082, -0.0014219136952652452, -0.0014219136952652452, -0.0014219136952652452, 1.0018217581892082, 1.0018217581892082, -0.0014219136952652452, 1.0018217581892082, 1.0018217581892082, 1.0018217581892082, 1.0018217581892082, -0.0014219136952652452, -0.0014219136952652452, 1.0018217581892082, -0.0014219136952652452, 1.0018217581892082, -0.0014219136952652452, -0.0014219136952652452, 1.0018217581892082, -0.0014219136952652452, 1.0018217581892082, -0.0014219136952652452, 1.0018217581892082, 1.0018217581892082, -0.0014219136952652452, -0.0014219136952652452, -0.0014219136952652452, 1.0018217581892082, 1.0018217581892082, -0.0014219136952652452, 1.0018217581892082, -0.0014219136952652452, -0.0014219136952652452, -0.0014219136952652452, -0.0014219136952652452, -0.0014219136952652452, 1.0018217581892082, -0.0014219136952652452, -0.0014219136952652452, -0.0014219136952652452, 1.0018217581892082, -0.0014219136952652452, -0.0014219136952652452, -0.0014219136952652452, 1.0018217581892082, 1.0018217581892082, -0.0014219136952652452, 1.0018217581892082, 1.0018217581892082, 1.0018217581892082, -0.0014219136952652452, -0.0014219136952652452, -0.0014219136952652452, -0.0014219136952652452, -0.0014219136952652452, -0.0014219136952652452, -0.0014219136952652452, 1.0018217581892082, -0.0014219136952652452, -0.0014219136952652452, -0.0014219136952652452, 1.0018217581892082, -0.0014219136952652452, 1.0018217581892082, -0.0014219136952652452, -0.0014219136952652452, 1.0018217581892082, 1.0018217581892082, 1.0018217581892082, -0.0014219136952652452, -0.0014219136952652452, 1.0018217581892082, 1.0018217581892082, -0.0014219136952652452, 1.0018217581892082, -0.0014219136952652452, -0.0014219136952652452, 1.0018217581892082, -0.0014219136952652452, -0.0014219136952652452, -0.0014219136952652452, -0.0014219136952652452, 1.0018217581892082, -0.0014219136952652452, -0.0014219136952652452, -0.0014219136952652452, 1.0018217581892082, -0.0014219136952652452, -0.0014219136952652452, -0.0014219136952652452, 1.0018217581892082, -0.0014219136952652452, -0.0014219136952652452, -0.0014219136952652452, 1.0018217581892082, -0.0014219136952652452, -0.0014219136952652452, -0.0014219136952652452, -0.0014219136952652452, 1.0018217581892082, 1.0018217581892082, -0.0014219136952652452, -0.0014219136952652452, -0.0014219136952652452, -0.0014219136952652452, 1.0018217581892082, -0.0014219136952652452, 1.0018217581892082, -0.0014219136952652452, -0.0014219136952652452, 1.0018217581892082, -0.0014219136952652452, -0.0014219136952652452, 1.0018217581892082, -0.0014219136952652452, -0.0014219136952652452, -0.0014219136952652452, -0.0014219136952652452, -0.0014219136952652452, -0.0014219136952652452, 1.0018217581892082, 1.0018217581892082, -0.0014219136952652452, -0.0014219136952652452, -0.0014219136952652452, 1.0018217581892082, 1.0018217581892082, -0.0014219136952652452, -0.0014219136952652452, 1.0018217581892082, -0.0014219136952652452, 1.0018217581892082, -0.0014219136952652452, -0.0014219136952652452, -0.0014219136952652452, 1.0018217581892082, -0.0014219136952652452, -0.0014219136952652452, -0.0014219136952652452, -0.0014219136952652452, -0.0014219136952652452, -0.0014219136952652452, 1.0018217581892082, 1.0018217581892082, 1.0018217581892082, -0.0014219136952652452, -0.0014219136952652452, -0.0014219136952652452, 1.0018217581892082, -0.0014219136952652452, 1.0018217581892082, -0.0014219136952652452, 1.0018217581892082, 1.0018217581892082, 1.0018217581892082, 1.0018217581892082, -0.0014219136952652452, 1.0018217581892082, -0.0014219136952652452, -0.0014219136952652452, -0.0014219136952652452, -0.0014219136952652452, -0.0014219136952652452, -0.0014219136952652452, -0.0014219136952652452, 1.0018217581892082, -0.0014219136952652452, -0.0014219136952652452, -0.0014219136952652452, -0.0014219136952652452, 1.0018217581892082, -0.0014219136952652452, 1.0018217581892082, 1.0018217581892082, -0.0014219136952652452, -0.0014219136952652452, -0.0014219136952652452, 1.0018217581892082, 1.0018217581892082, 1.0018217581892082, 1.0018217581892082, 1.0018217581892082, -0.0014219136952652452, 1.0018217581892082, 1.0018217581892082, -0.0014219136952652452, -0.0014219136952652452, -0.0014219136952652452, 1.0018217581892082, -0.0014219136952652452, 1.0018217581892082, -0.0014219136952652452, 1.0018217581892082, -0.0014219136952652452, -0.0014219136952652452, -0.0014219136952652452, 1.0018217581892082, 1.0018217581892082, -0.0014219136952652452, 1.0018217581892082, -0.0014219136952652452, 1.0018217581892082, -0.0014219136952652452, 1.0018217581892082, 1.0018217581892082, 1.0018217581892082, -0.0014219136952652452, -0.0014219136952652452, -0.0014219136952652452, -0.0014219136952652452, -0.0014219136952652452, -0.0014219136952652452, 1.0018217581892082, 1.0018217581892082, 1.0018217581892082, -0.0014219136952652452, 1.0018217581892082, -0.0014219136952652452, -0.0014219136952652452, -0.0014219136952652452, 1.0018217581892082, -0.0014219136952652452, 1.0018217581892082, -0.0014219136952652452, 1.0018217581892082, -0.0014219136952652452, 1.0018217581892082, 1.0018217581892082, -0.0014219136952652452, -0.0014219136952652452, -0.0014219136952652452, -0.0014219136952652452, -0.0014219136952652452, 1.0018217581892082, -0.0014219136952652452, -0.0014219136952652452, -0.0014219136952652452, 1.0018217581892082, -0.0014219136952652452, -0.0014219136952652452, -0.0014219136952652452, 1.0018217581892082, -0.0014219136952652452, 1.0018217581892082, -0.0014219136952652452, 1.0018217581892082, -0.0014219136952652452, -0.0014219136952652452, -0.0014219136952652452, 1.0018217581892082, 1.0018217581892082, -0.0014219136952652452, 1.0018217581892082, 1.0018217581892082, -0.0014219136952652452, 1.0018217581892082, -0.0014219136952652452, 1.0018217581892082, -0.0014219136952652452, -0.0014219136952652452, -0.0014219136952652452, 1.0018217581892082, -0.0014219136952652452, -0.0014219136952652452, 1.0018217581892082, -0.0014219136952652452, 1.0018217581892082, -0.0014219136952652452, -0.0014219136952652452, -0.0014219136952652452, -0.0014219136952652452, 1.0018217581892082, 1.0018217581892082, -0.0014219136952652452, 1.0018217581892082, -0.0014219136952652452, -0.0014219136952652452, -0.0014219136952652452, 1.0018217581892082, 1.0018217581892082, 1.0018217581892082, 1.0018217581892082, 1.0018217581892082, 1.0018217581892082, 1.0018217581892082, 1.0018217581892082, 1.0018217581892082, -0.0014219136952652452, 1.0018217581892082, -0.0014219136952652452, 1.0018217581892082, 1.0018217581892082, 1.0018217581892082, -0.0014219136952652452, -0.0014219136952652452, 1.0018217581892082, -0.0014219136952652452, -0.0014219136952652452, 1.0018217581892082, -0.0014219136952652452, 1.0018217581892082, -0.0014219136952652452, -0.0014219136952652452, -0.0014219136952652452, -0.0014219136952652452, 1.0018217581892082, -0.0014219136952652452, -0.0014219136952652452, 1.0018217581892082, 1.0018217581892082, 1.0018217581892082, -0.0014219136952652452, 1.0018217581892082, 1.0018217581892082, 1.0018217581892082, -0.0014219136952652452, -0.0014219136952652452, 1.0018217581892082, -0.0014219136952652452, -0.0014219136952652452, 1.0018217581892082, 1.0018217581892082, -0.0014219136952652452, -0.0014219136952652452, -0.0014219136952652452, 1.0018217581892082, -0.0014219136952652452, -0.0014219136952652452, 1.0018217581892082, -0.0014219136952652452, -0.0014219136952652452, 1.0018217581892082, 1.0018217581892082, 1.0018217581892082, 1.0018217581892082, 1.0018217581892082, -0.0014219136952652452, -0.0014219136952652452, 1.0018217581892082, -0.0014219136952652452, -0.0014219136952652452, -0.0014219136952652452, 1.0018217581892082, -0.0014219136952652452, -0.0014219136952652452, -0.0014219136952652452, -0.0014219136952652452, 1.0018217581892082, -0.0014219136952652452, -0.0014219136952652452, -0.0014219136952652452, 1.0018217581892082, 1.0018217581892082, -0.0014219136952652452, 1.0018217581892082, -0.0014219136952652452, -0.0014219136952652452, 1.0018217581892082, -0.0014219136952652452, -0.0014219136952652452, 1.0018217581892082, -0.0014219136952652452, 1.0018217581892082, 1.0018217581892082, -0.0014219136952652452, -0.0014219136952652452, -0.0014219136952652452, -0.0014219136952652452, 1.0018217581892082, -0.0014219136952652452, 1.0018217581892082, -0.0014219136952652452, 1.0018217581892082, 1.0018217581892082, -0.0014219136952652452, 1.0018217581892082, -0.0014219136952652452, -0.0014219136952652452, -0.0014219136952652452, 1.0018217581892082, 1.0018217581892082, -0.0014219136952652452, 1.0018217581892082, 1.0018217581892082, -0.0014219136952652452, 1.0018217581892082, -0.0014219136952652452, 1.0018217581892082, -0.0014219136952652452, -0.0014219136952652452, 1.0018217581892082, -0.0014219136952652452, -0.0014219136952652452, -0.0014219136952652452, -0.0014219136952652452, 1.0018217581892082, -0.0014219136952652452, 1.0018217581892082, -0.0014219136952652452, 1.0018217581892082, 1.0018217581892082, -0.0014219136952652452, -0.0014219136952652452, -0.0014219136952652452, -0.0014219136952652452, 1.0018217581892082, -0.0014219136952652452, -0.0014219136952652452, 1.0018217581892082, 1.0018217581892082, 1.0018217581892082, 1.0018217581892082, 1.0018217581892082, -0.0014219136952652452, -0.0014219136952652452, -0.0014219136952652452, 1.0018217581892082, 1.0018217581892082, -0.0014219136952652452, -0.0014219136952652452, -0.0014219136952652452, -0.0014219136952652452, 1.0018217581892082, -0.0014219136952652452, -0.0014219136952652452, 1.0018217581892082, -0.0014219136952652452, 1.0018217581892082, -0.0014219136952652452, 1.0018217581892082, 1.0018217581892082, 1.0018217581892082, -0.0014219136952652452, -0.0014219136952652452, -0.0014219136952652452, 1.0018217581892082, -0.0014219136952652452, 1.0018217581892082, 1.0018217581892082, -0.0014219136952652452, 1.0018217581892082, -0.0014219136952652452, 1.0018217581892082, -0.0014219136952652452, -0.0014219136952652452, -0.0014219136952652452, 1.0018217581892082, 1.0018217581892082, -0.0014219136952652452, 1.0018217581892082, 1.0018217581892082, -0.0014219136952652452, -0.0014219136952652452, -0.0014219136952652452, -0.0014219136952652452, -0.0014219136952652452, -0.0014219136952652452, -0.0014219136952652452, 1.0018217581892082, -0.0014219136952652452, -0.0014219136952652452, 1.0018217581892082, 1.0018217581892082, -0.0014219136952652452, -0.0014219136952652452, 1.0018217581892082, 1.0018217581892082, -0.0014219136952652452, 1.0018217581892082, 1.0018217581892082, -0.0014219136952652452, -0.0014219136952652452, -0.0014219136952652452, 1.0018217581892082, 1.0018217581892082, 1.0018217581892082, -0.0014219136952652452, -0.0014219136952652452, 1.0018217581892082, -0.0014219136952652452, 1.0018217581892082, 1.0018217581892082, -0.0014219136952652452, -0.0014219136952652452, 1.0018217581892082, 1.0018217581892082, -0.0014219136952652452, 1.0018217581892082, 1.0018217581892082, 1.0018217581892082, -0.0014219136952652452, 1.0018217581892082, -0.0014219136952652452, -0.0014219136952652452, -0.0014219136952652452, -0.0014219136952652452, 1.0018217581892082, -0.0014219136952652452, -0.0014219136952652452, -0.0014219136952652452, 1.0018217581892082, -0.0014219136952652452, -0.0014219136952652452, 1.0018217581892082, -0.0014219136952652452, 1.0018217581892082, -0.0014219136952652452, 1.0018217581892082, -0.0014219136952652452, -0.0014219136952652452, -0.0014219136952652452, -0.0014219136952652452, -0.0014219136952652452, 1.0018217581892082, 1.0018217581892082, 1.0018217581892082, -0.0014219136952652452, 1.0018217581892082, 1.0018217581892082, -0.0014219136952652452, 1.0018217581892082, 1.0018217581892082, -0.0014219136952652452, -0.0014219136952652452, 1.0018217581892082, -0.0014219136952652452, -0.0014219136952652452, -0.0014219136952652452, -0.0014219136952652452, -0.0014219136952652452, -0.0014219136952652452, 1.0018217581892082, 1.0018217581892082, 1.0018217581892082, -0.0014219136952652452, -0.0014219136952652452, -0.0014219136952652452, 1.0018217581892082, 1.0018217581892082, 1.0018217581892082, -0.0014219136952652452, -0.0014219136952652452, -0.0014219136952652452, -0.0014219136952652452, -0.0014219136952652452, 1.0018217581892082, 1.0018217581892082, -0.0014219136952652452, 1.0018217581892082, -0.0014219136952652452, 1.0018217581892082, -0.0014219136952652452, -0.0014219136952652452, -0.0014219136952652452, -0.0014219136952652452, -0.0014219136952652452, -0.0014219136952652452, -0.0014219136952652452, -0.0014219136952652452, 1.0018217581892082, -0.0014219136952652452, 1.0018217581892082, -0.0014219136952652452, 1.0018217581892082, 1.0018217581892082, -0.0014219136952652452, -0.0014219136952652452, -0.0014219136952652452, 1.0018217581892082, -0.0014219136952652452, -0.0014219136952652452, -0.0014219136952652452, 1.0018217581892082, -0.0014219136952652452, -0.0014219136952652452, 1.0018217581892082, -0.0014219136952652452, 1.0018217581892082, -0.0014219136952652452, -0.0014219136952652452, -0.0014219136952652452, 1.0018217581892082, -0.0014219136952652452, -0.0014219136952652452, -0.0014219136952652452, 1.0018217581892082, 1.0018217581892082, -0.0014219136952652452, -0.0014219136952652452, 1.0018217581892082, -0.0014219136952652452, -0.0014219136952652452, -0.0014219136952652452, -0.0014219136952652452, -0.0014219136952652452, 1.0018217581892082, 1.0018217581892082, 1.0018217581892082, -0.0014219136952652452, 1.0018217581892082, 1.0018217581892082, 1.0018217581892082, -0.0014219136952652452, -0.0014219136952652452, -0.0014219136952652452, 1.0018217581892082, -0.0014219136952652452, 1.0018217581892082, 1.0018217581892082, -0.0014219136952652452, -0.0014219136952652452, 1.0018217581892082, -0.0014219136952652452, 1.0018217581892082, -0.0014219136952652452, -0.0014219136952652452, -0.0014219136952652452, -0.0014219136952652452, -0.0014219136952652452, -0.0014219136952652452, -0.0014219136952652452, -0.0014219136952652452, -0.0014219136952652452, -0.0014219136952652452, -0.0014219136952652452, -0.0014219136952652452, 1.0018217581892082, 1.0018217581892082, 1.0018217581892082, -0.0014219136952652452, -0.0014219136952652452, -0.0014219136952652452, -0.0014219136952652452, -0.0014219136952652452, -0.0014219136952652452, 1.0018217581892082, -0.0014219136952652452, -0.0014219136952652452, -0.0014219136952652452, -0.0014219136952652452, 1.0018217581892082, 1.0018217581892082, -0.0014219136952652452, 1.0018217581892082, -0.0014219136952652452, -0.0014219136952652452, -0.0014219136952652452, -0.0014219136952652452, -0.0014219136952652452, 1.0018217581892082, -0.0014219136952652452, -0.0014219136952652452, 1.0018217581892082, 1.0018217581892082, -0.0014219136952652452, 1.0018217581892082, 1.0018217581892082, -0.0014219136952652452, 1.0018217581892082, -0.0014219136952652452, -0.0014219136952652452, -0.0014219136952652452, -0.0014219136952652452, 1.0018217581892082, 1.0018217581892082, 1.0018217581892082, 1.0018217581892082, -0.0014219136952652452, -0.0014219136952652452, -0.0014219136952652452, -0.0014219136952652452, -0.0014219136952652452, 1.0018217581892082, -0.0014219136952652452, -0.0014219136952652452, -0.0014219136952652452, -0.0014219136952652452, 1.0018217581892082, 1.0018217581892082, -0.0014219136952652452, -0.0014219136952652452, 1.0018217581892082, 1.0018217581892082, -0.0014219136952652452, -0.0014219136952652452, -0.0014219136952652452, 1.0018217581892082, 1.0018217581892082, -0.0014219136952652452, 1.0018217581892082, -0.0014219136952652452, -0.0014219136952652452, 1.0018217581892082, 1.0018217581892082, -0.0014219136952652452, 1.0018217581892082, -0.0014219136952652452, 1.0018217581892082, -0.0014219136952652452, -0.0014219136952652452, -0.0014219136952652452, 1.0018217581892082, -0.0014219136952652452, -0.0014219136952652452, -0.0014219136952652452, -0.0014219136952652452, -0.0014219136952652452, -0.0014219136952652452, 1.0018217581892082, -0.0014219136952652452, 1.0018217581892082, 1.0018217581892082, 1.0018217581892082, 1.0018217581892082, 1.0018217581892082, -0.0014219136952652452, -0.0014219136952652452, 1.0018217581892082, -0.0014219136952652452, -0.0014219136952652452, 1.0018217581892082, -0.0014219136952652452, -0.0014219136952652452, -0.0014219136952652452, 1.0018217581892082, -0.0014219136952652452, -0.0014219136952652452, -0.0014219136952652452, -0.0014219136952652452, 1.0018217581892082, 1.0018217581892082, 1.0018217581892082, -0.0014219136952652452, -0.0014219136952652452, -0.0014219136952652452, -0.0014219136952652452, -0.0014219136952652452, -0.0014219136952652452, -0.0014219136952652452, -0.0014219136952652452, -0.0014219136952652452, 1.0018217581892082, -0.0014219136952652452, -0.0014219136952652452, -0.0014219136952652452, -0.0014219136952652452, -0.0014219136952652452, 1.0018217581892082, 1.0018217581892082, -0.0014219136952652452, -0.0014219136952652452, 1.0018217581892082, -0.0014219136952652452, -0.0014219136952652452, -0.0014219136952652452, -0.0014219136952652452, -0.0014219136952652452, 1.0018217581892082, -0.0014219136952652452, 1.0018217581892082, 1.0018217581892082, -0.0014219136952652452, 1.0018217581892082, 1.0018217581892082, -0.0014219136952652452, -0.0014219136952652452, 1.0018217581892082, 1.0018217581892082, -0.0014219136952652452, -0.0014219136952652452, -0.0014219136952652452, 1.0018217581892082, 1.0018217581892082, -0.0014219136952652452, 1.0018217581892082, -0.0014219136952652452, -0.0014219136952652452, -0.0014219136952652452, 1.0018217581892082, -0.0014219136952652452, -0.0014219136952652452, -0.0014219136952652452, -0.0014219136952652452, -0.0014219136952652452, 1.0018217581892082, 1.0018217581892082, -0.0014219136952652452, -0.0014219136952652452, -0.0014219136952652452, -0.0014219136952652452, 1.0018217581892082, -0.0014219136952652452, -0.0014219136952652452, -0.0014219136952652452, 1.0018217581892082, 1.0018217581892082, -0.0014219136952652452, -0.0014219136952652452, -0.0014219136952652452, 1.0018217581892082, -0.0014219136952652452, -0.0014219136952652452, -0.0014219136952652452, -0.0014219136952652452, 1.0018217581892082, -0.0014219136952652452, 1.0018217581892082, -0.0014219136952652452, -0.0014219136952652452, -0.0014219136952652452, -0.0014219136952652452, 1.0018217581892082, -0.0014219136952652452, -0.0014219136952652452, 1.0018217581892082, 1.0018217581892082, -0.0014219136952652452, -0.0014219136952652452, -0.0014219136952652452, -0.0014219136952652452, 1.0018217581892082, -0.0014219136952652452, -0.0014219136952652452, -0.0014219136952652452, -0.0014219136952652452, -0.0014219136952652452, 1.0018217581892082, -0.0014219136952652452, -0.0014219136952652452, -0.0014219136952652452, -0.0014219136952652452, -0.0014219136952652452, -0.0014219136952652452, -0.0014219136952652452, -0.0014219136952652452, -0.0014219136952652452, -0.0014219136952652452, -0.0014219136952652452, -0.0014219136952652452, -0.0014219136952652452, 1.0018217581892082, -0.0014219136952652452, -0.0014219136952652452, 1.0018217581892082, 1.0018217581892082, 1.0018217581892082, -0.0014219136952652452, 1.0018217581892082, -0.0014219136952652452, 1.0018217581892082, -0.0014219136952652452, 1.0018217581892082, -0.0014219136952652452, 1.0018217581892082, -0.0014219136952652452, 1.0018217581892082, -0.0014219136952652452, -0.0014219136952652452, -0.0014219136952652452, 1.0018217581892082, -0.0014219136952652452, -0.0014219136952652452, 1.0018217581892082, -0.0014219136952652452, 1.0018217581892082, -0.0014219136952652452, -0.0014219136952652452, 1.0018217581892082, 1.0018217581892082, 1.0018217581892082, -0.0014219136952652452, -0.0014219136952652452, -0.0014219136952652452, -0.0014219136952652452, -0.0014219136952652452, 1.0018217581892082, -0.0014219136952652452, 1.0018217581892082, 1.0018217581892082, -0.0014219136952652452, -0.0014219136952652452, -0.0014219136952652452, -0.0014219136952652452, -0.0014219136952652452, 1.0018217581892082, -0.0014219136952652452, 1.0018217581892082, -0.0014219136952652452, -0.0014219136952652452, -0.0014219136952652452, -0.0014219136952652452, -0.0014219136952652452, -0.0014219136952652452, -0.0014219136952652452, 1.0018217581892082, 1.0018217581892082, -0.0014219136952652452, 1.0018217581892082, 1.0018217581892082, 1.0018217581892082, -0.0014219136952652452, 1.0018217581892082, 1.0018217581892082, -0.0014219136952652452, -0.0014219136952652452, 1.0018217581892082, 1.0018217581892082, 1.0018217581892082, 1.0018217581892082, -0.0014219136952652452, 1.0018217581892082, -0.0014219136952652452, -0.0014219136952652452, 1.0018217581892082, -0.0014219136952652452, 1.0018217581892082, 1.0018217581892082, 1.0018217581892082, 1.0018217581892082, -0.0014219136952652452, -0.0014219136952652452, -0.0014219136952652452, -0.0014219136952652452, 1.0018217581892082, -0.0014219136952652452, 1.0018217581892082, -0.0014219136952652452, 1.0018217581892082, -0.0014219136952652452, 1.0018217581892082, 1.0018217581892082, 1.0018217581892082, -0.0014219136952652452, -0.0014219136952652452, -0.0014219136952652452, 1.0018217581892082, -0.0014219136952652452, -0.0014219136952652452, 1.0018217581892082, 1.0018217581892082, -0.0014219136952652452, -0.0014219136952652452, -0.0014219136952652452, -0.0014219136952652452, -0.0014219136952652452, -0.0014219136952652452, -0.0014219136952652452, 1.0018217581892082, -0.0014219136952652452, -0.0014219136952652452, -0.0014219136952652452, -0.0014219136952652452, 1.0018217581892082, 1.0018217581892082, -0.0014219136952652452, 1.0018217581892082, -0.0014219136952652452, -0.0014219136952652452, 1.0018217581892082, 1.0018217581892082, -0.0014219136952652452, -0.0014219136952652452, 1.0018217581892082, -0.0014219136952652452, -0.0014219136952652452, -0.0014219136952652452, 1.0018217581892082, 1.0018217581892082, 1.0018217581892082, -0.0014219136952652452, 1.0018217581892082, -0.0014219136952652452, -0.0014219136952652452, 1.0018217581892082, -0.0014219136952652452, -0.0014219136952652452, 1.0018217581892082, 1.0018217581892082, 1.0018217581892082, -0.0014219136952652452, 1.0018217581892082, 1.0018217581892082, 1.0018217581892082, -0.0014219136952652452, 1.0018217581892082, -0.0014219136952652452, 1.0018217581892082, -0.0014219136952652452, -0.0014219136952652452, -0.0014219136952652452, -0.0014219136952652452, -0.0014219136952652452, 1.0018217581892082, -0.0014219136952652452, -0.0014219136952652452, 1.0018217581892082, 1.0018217581892082, -0.0014219136952652452, -0.0014219136952652452, 1.0018217581892082, -0.0014219136952652452, 1.0018217581892082, 1.0018217581892082, 1.0018217581892082, -0.0014219136952652452, -0.0014219136952652452, 1.0018217581892082, 1.0018217581892082, 1.0018217581892082, -0.0014219136952652452, 1.0018217581892082, -0.0014219136952652452, 1.0018217581892082, 1.0018217581892082, -0.0014219136952652452, 1.0018217581892082, -0.0014219136952652452, -0.0014219136952652452, 1.0018217581892082, -0.0014219136952652452, -0.0014219136952652452, 1.0018217581892082, -0.0014219136952652452, -0.0014219136952652452, -0.0014219136952652452, -0.0014219136952652452, -0.0014219136952652452, -0.0014219136952652452, 1.0018217581892082, 1.0018217581892082, -0.0014219136952652452, 1.0018217581892082, -0.0014219136952652452, 1.0018217581892082, -0.0014219136952652452, 1.0018217581892082, -0.0014219136952652452, -0.0014219136952652452, -0.0014219136952652452, -0.0014219136952652452, -0.0014219136952652452, -0.0014219136952652452, -0.0014219136952652452, 1.0018217581892082, -0.0014219136952652452, 1.0018217581892082, 1.0018217581892082, 1.0018217581892082, -0.0014219136952652452, -0.0014219136952652452, 1.0018217581892082, -0.0014219136952652452, 1.0018217581892082, -0.0014219136952652452, 1.0018217581892082, -0.0014219136952652452, -0.0014219136952652452, 1.0018217581892082, -0.0014219136952652452, -0.0014219136952652452, -0.0014219136952652452, 1.0018217581892082, -0.0014219136952652452, 1.0018217581892082, -0.0014219136952652452, -0.0014219136952652452, 1.0018217581892082, -0.0014219136952652452, 1.0018217581892082, -0.0014219136952652452, -0.0014219136952652452, 1.0018217581892082, -0.0014219136952652452, -0.0014219136952652452, 1.0018217581892082, -0.0014219136952652452, -0.0014219136952652452, -0.0014219136952652452, 1.0018217581892082, 1.0018217581892082, -0.0014219136952652452, 1.0018217581892082, -0.0014219136952652452, 1.0018217581892082, -0.0014219136952652452, -0.0014219136952652452, -0.0014219136952652452, 1.0018217581892082, -0.0014219136952652452, -0.0014219136952652452, -0.0014219136952652452, -0.0014219136952652452, 1.0018217581892082, -0.0014219136952652452, -0.0014219136952652452, 1.0018217581892082, 1.0018217581892082, 1.0018217581892082, 1.0018217581892082, -0.0014219136952652452, -0.0014219136952652452, -0.0014219136952652452, -0.0014219136952652452, -0.0014219136952652452, -0.0014219136952652452, -0.0014219136952652452, -0.0014219136952652452, -0.0014219136952652452, 1.0018217581892082, -0.0014219136952652452, 1.0018217581892082, 1.0018217581892082, -0.0014219136952652452, 1.0018217581892082, -0.0014219136952652452, 1.0018217581892082, 1.0018217581892082, 1.0018217581892082, 1.0018217581892082, 1.0018217581892082, -0.0014219136952652452, 1.0018217581892082, -0.0014219136952652452, -0.0014219136952652452, -0.0014219136952652452, -0.0014219136952652452, -0.0014219136952652452, -0.0014219136952652452, -0.0014219136952652452, 1.0018217581892082, -0.0014219136952652452, -0.0014219136952652452, -0.0014219136952652452, 1.0018217581892082, -0.0014219136952652452, -0.0014219136952652452, 1.0018217581892082, -0.0014219136952652452, -0.0014219136952652452, -0.0014219136952652452, -0.0014219136952652452, -0.0014219136952652452, -0.0014219136952652452, 1.0018217581892082, -0.0014219136952652452, -0.0014219136952652452, -0.0014219136952652452, -0.0014219136952652452, 1.0018217581892082, -0.0014219136952652452, 1.0018217581892082, -0.0014219136952652452, -0.0014219136952652452, -0.0014219136952652452, -0.0014219136952652452, -0.0014219136952652452, -0.0014219136952652452, 1.0018217581892082, -0.0014219136952652452, -0.0014219136952652452, -0.0014219136952652452, 1.0018217581892082, -0.0014219136952652452, -0.0014219136952652452, -0.0014219136952652452, -0.0014219136952652452, -0.0014219136952652452, 1.0018217581892082, 1.0018217581892082, 1.0018217581892082, -0.0014219136952652452, -0.0014219136952652452, 1.0018217581892082, 1.0018217581892082, 1.0018217581892082, 1.0018217581892082, 1.0018217581892082, -0.0014219136952652452, -0.0014219136952652452, -0.0014219136952652452, -0.0014219136952652452, 1.0018217581892082, -0.0014219136952652452, 1.0018217581892082, 1.0018217581892082, 1.0018217581892082, 1.0018217581892082, 1.0018217581892082, -0.0014219136952652452, 1.0018217581892082, -0.0014219136952652452, 1.0018217581892082, 1.0018217581892082, -0.0014219136952652452, 1.0018217581892082, -0.0014219136952652452, -0.0014219136952652452, -0.0014219136952652452, -0.0014219136952652452, 1.0018217581892082, 1.0018217581892082, 1.0018217581892082, 1.0018217581892082, -0.0014219136952652452, -0.0014219136952652452, -0.0014219136952652452, 1.0018217581892082, -0.0014219136952652452, -0.0014219136952652452, -0.0014219136952652452, -0.0014219136952652452, -0.0014219136952652452, -0.0014219136952652452, -0.0014219136952652452, 1.0018217581892082, -0.0014219136952652452, 1.0018217581892082, -0.0014219136952652452, -0.0014219136952652452, 1.0018217581892082, -0.0014219136952652452, -0.0014219136952652452, -0.0014219136952652452, -0.0014219136952652452, 1.0018217581892082, 1.0018217581892082, -0.0014219136952652452, -0.0014219136952652452, 1.0018217581892082, -0.0014219136952652452, -0.0014219136952652452, -0.0014219136952652452, -0.0014219136952652452, -0.0014219136952652452, -0.0014219136952652452, -0.0014219136952652452, 1.0018217581892082, 1.0018217581892082, -0.0014219136952652452, -0.0014219136952652452, -0.0014219136952652452, -0.0014219136952652452, -0.0014219136952652452, -0.0014219136952652452, 1.0018217581892082, -0.0014219136952652452, 1.0018217581892082, -0.0014219136952652452, -0.0014219136952652452, -0.0014219136952652452, 1.0018217581892082, -0.0014219136952652452, -0.0014219136952652452, -0.0014219136952652452, -0.0014219136952652452, 1.0018217581892082, -0.0014219136952652452, 1.0018217581892082, -0.0014219136952652452, 1.0018217581892082, -0.0014219136952652452, -0.0014219136952652452, -0.0014219136952652452, 1.0018217581892082, 1.0018217581892082, -0.0014219136952652452, 1.0018217581892082, -0.0014219136952652452, -0.0014219136952652452, -0.0014219136952652452, 1.0018217581892082, 1.0018217581892082, -0.0014219136952652452, -0.0014219136952652452, -0.0014219136952652452, 1.0018217581892082, 1.0018217581892082, -0.0014219136952652452, -0.0014219136952652452, -0.0014219136952652452, 1.0018217581892082, 1.0018217581892082, -0.0014219136952652452, 1.0018217581892082, 1.0018217581892082, 1.0018217581892082, 1.0018217581892082, -0.0014219136952652452, -0.0014219136952652452, -0.0014219136952652452, 1.0018217581892082, 1.0018217581892082, -0.0014219136952652452, 1.0018217581892082, 1.0018217581892082, -0.0014219136952652452, -0.0014219136952652452, -0.0014219136952652452, -0.0014219136952652452, 1.0018217581892082, -0.0014219136952652452, -0.0014219136952652452, -0.0014219136952652452, -0.0014219136952652452, 1.0018217581892082, -0.0014219136952652452, -0.0014219136952652452, -0.0014219136952652452, 1.0018217581892082, 1.0018217581892082, -0.0014219136952652452, -0.0014219136952652452, 1.0018217581892082, -0.0014219136952652452, 1.0018217581892082, 1.0018217581892082, -0.0014219136952652452, -0.0014219136952652452, -0.0014219136952652452, -0.0014219136952652452, 1.0018217581892082, 1.0018217581892082, 1.0018217581892082, 1.0018217581892082, 1.0018217581892082, 1.0018217581892082, 1.0018217581892082, -0.0014219136952652452, -0.0014219136952652452, -0.0014219136952652452, 1.0018217581892082, 1.0018217581892082, -0.0014219136952652452, 1.0018217581892082, -0.0014219136952652452, -0.0014219136952652452, -0.0014219136952652452, 1.0018217581892082, -0.0014219136952652452, 1.0018217581892082, -0.0014219136952652452, 1.0018217581892082, -0.0014219136952652452, 1.0018217581892082, 1.0018217581892082, -0.0014219136952652452, 1.0018217581892082, -0.0014219136952652452, 1.0018217581892082, 1.0018217581892082, 1.0018217581892082, -0.0014219136952652452, -0.0014219136952652452, 1.0018217581892082, 1.0018217581892082, -0.0014219136952652452, -0.0014219136952652452, 1.0018217581892082, -0.0014219136952652452, 1.0018217581892082, 1.0018217581892082, -0.0014219136952652452, 1.0018217581892082, -0.0014219136952652452, 1.0018217581892082, 1.0018217581892082, -0.0014219136952652452, -0.0014219136952652452, -0.0014219136952652452, -0.0014219136952652452, -0.0014219136952652452, 1.0018217581892082, -0.0014219136952652452, 1.0018217581892082, -0.0014219136952652452, 1.0018217581892082, 1.0018217581892082, -0.0014219136952652452, -0.0014219136952652452, 1.0018217581892082, -0.0014219136952652452, -0.0014219136952652452, -0.0014219136952652452, 1.0018217581892082, -0.0014219136952652452, -0.0014219136952652452, 1.0018217581892082, -0.0014219136952652452, -0.0014219136952652452, -0.0014219136952652452, 1.0018217581892082, -0.0014219136952652452, -0.0014219136952652452, -0.0014219136952652452, -0.0014219136952652452, 1.0018217581892082, -0.0014219136952652452, 1.0018217581892082, -0.0014219136952652452, 1.0018217581892082, -0.0014219136952652452, -0.0014219136952652452, -0.0014219136952652452, -0.0014219136952652452, 1.0018217581892082, -0.0014219136952652452, -0.0014219136952652452, -0.0014219136952652452, 1.0018217581892082, 1.0018217581892082, 1.0018217581892082, -0.0014219136952652452, 1.0018217581892082, -0.0014219136952652452, 1.0018217581892082, -0.0014219136952652452, 1.0018217581892082, 1.0018217581892082, 1.0018217581892082, 1.0018217581892082, -0.0014219136952652452, 1.0018217581892082, -0.0014219136952652452, 1.0018217581892082, -0.0014219136952652452, 1.0018217581892082, -0.0014219136952652452, -0.0014219136952652452, 1.0018217581892082, 1.0018217581892082, -0.0014219136952652452, -0.0014219136952652452, -0.0014219136952652452, 1.0018217581892082, 1.0018217581892082, -0.0014219136952652452, 1.0018217581892082, 1.0018217581892082, -0.0014219136952652452, 1.0018217581892082, 1.0018217581892082, 1.0018217581892082, 1.0018217581892082, 1.0018217581892082, 1.0018217581892082, -0.0014219136952652452, 1.0018217581892082, -0.0014219136952652452, -0.0014219136952652452, -0.0014219136952652452, 1.0018217581892082, 1.0018217581892082, 1.0018217581892082, -0.0014219136952652452, -0.0014219136952652452, -0.0014219136952652452, 1.0018217581892082, -0.0014219136952652452, -0.0014219136952652452, -0.0014219136952652452, -0.0014219136952652452, 1.0018217581892082, -0.0014219136952652452, -0.0014219136952652452, -0.0014219136952652452, 1.0018217581892082, -0.0014219136952652452, 1.0018217581892082, 1.0018217581892082, -0.0014219136952652452, -0.0014219136952652452, -0.0014219136952652452, 1.0018217581892082, -0.0014219136952652452, -0.0014219136952652452, -0.0014219136952652452, 1.0018217581892082, 1.0018217581892082, -0.0014219136952652452, -0.0014219136952652452, 1.0018217581892082, -0.0014219136952652452, -0.0014219136952652452, 1.0018217581892082, -0.0014219136952652452, -0.0014219136952652452, -0.0014219136952652452, 1.0018217581892082, -0.0014219136952652452, -0.0014219136952652452, -0.0014219136952652452, 1.0018217581892082, -0.0014219136952652452, -0.0014219136952652452, -0.0014219136952652452, -0.0014219136952652452, 1.0018217581892082, -0.0014219136952652452, 1.0018217581892082, -0.0014219136952652452, -0.0014219136952652452, -0.0014219136952652452, -0.0014219136952652452, 1.0018217581892082, 1.0018217581892082, -0.0014219136952652452, -0.0014219136952652452, 1.0018217581892082, -0.0014219136952652452, 1.0018217581892082, 1.0018217581892082, 1.0018217581892082, 1.0018217581892082, -0.0014219136952652452, 1.0018217581892082, -0.0014219136952652452, -0.0014219136952652452, -0.0014219136952652452, -0.0014219136952652452, -0.0014219136952652452, 1.0018217581892082, -0.0014219136952652452, 1.0018217581892082, 1.0018217581892082, 1.0018217581892082, -0.0014219136952652452, -0.0014219136952652452, -0.0014219136952652452, -0.0014219136952652452, -0.0014219136952652452, -0.0014219136952652452, -0.0014219136952652452, -0.0014219136952652452, -0.0014219136952652452, -0.0014219136952652452, -0.0014219136952652452, -0.0014219136952652452, 1.0018217581892082, 1.0018217581892082, -0.0014219136952652452]\n"
          ]
        },
        {
          "output_type": "stream",
          "name": "stderr",
          "text": [
            "/usr/local/lib/python3.7/dist-packages/numpy/core/fromnumeric.py:3724: RuntimeWarning: Degrees of freedom <= 0 for slice\n",
            "  **kwargs)\n",
            "/usr/local/lib/python3.7/dist-packages/numpy/core/_methods.py:223: RuntimeWarning: invalid value encountered in true_divide\n",
            "  subok=False)\n",
            "/usr/local/lib/python3.7/dist-packages/numpy/core/_methods.py:254: RuntimeWarning: invalid value encountered in double_scalars\n",
            "  ret = ret.dtype.type(ret / rcount)\n"
          ]
        },
        {
          "output_type": "display_data",
          "data": {
            "text/plain": [
              "<Figure size 432x288 with 1 Axes>"
            ],
            "image/png": "[encoded data removed]"
          },
          "metadata": {
            "needs_background": "light"
          }
        }
      ],
      "source": [
        "\n",
        "cls = TreeRegressor(max_depth=1)\n",
        "cls.fit(x_dummy,y_dummy)\n",
        "y_predict=cls.predict(x_dummy)\n",
        "plt.scatter(x_dummy,y_predict)\n",
        "print(y_predict)"
      ]
    },
    {
      "cell_type": "code",
      "source": [
        "cls.draw_tree()"
      ],
      "metadata": {
        "id": "jaDUcgceG9uU",
        "colab": {
          "base_uri": "https://localhost:8080/",
          "height": 194
        },
        "outputId": "7ccb4eb9-a006-40dd-e513-35e24b0cc51c"
      },
      "execution_count": null,
      "outputs": [
        {
          "output_type": "execute_result",
          "data": {
            "text/plain": [
              "<graphviz.dot.Digraph at 0x7f16cf540bd0>"
            ],
            "image/svg+xml": "<?xml version=\"1.0\" encoding=\"UTF-8\" standalone=\"no\"?>\n<!DOCTYPE svg PUBLIC \"-//W3C//DTD SVG 1.1//EN\"\n \"http://www.w3.org/Graphics/SVG/1.1/DTD/svg11.dtd\">\n<!-- Generated by graphviz version 2.40.1 (20161225.0304)\n -->\n<!-- Title: %3 Pages: 1 -->\n<svg width=\"192pt\" height=\"131pt\"\n viewBox=\"0.00 0.00 191.54 131.00\" xmlns=\"http://www.w3.org/2000/svg\" xmlns:xlink=\"http://www.w3.org/1999/xlink\">\n<g id=\"graph0\" class=\"graph\" transform=\"scale(1 1) rotate(0) translate(4 127)\">\n<title>%3</title>\n<polygon fill=\"#ffffff\" stroke=\"transparent\" points=\"-4,4 -4,-127 187.5427,-127 187.5427,4 -4,4\"/>\n<!-- 0 -->\n<g id=\"node1\" class=\"node\">\n<title>0</title>\n<ellipse fill=\"#d3d3d3\" stroke=\"#000000\" cx=\"50.0456\" cy=\"-18\" rx=\"50.0912\" ry=\"18\"/>\n<text text-anchor=\"middle\" x=\"50.0456\" y=\"-14.3\" font-family=\"Times,serif\" font-size=\"14.00\" fill=\"#000000\">&#45;0.001422</text>\n</g>\n<!-- 1 -->\n<g id=\"node2\" class=\"node\">\n<title>1</title>\n<ellipse fill=\"#d3d3d3\" stroke=\"#000000\" cx=\"151.0456\" cy=\"-18\" rx=\"32.4942\" ry=\"18\"/>\n<text text-anchor=\"middle\" x=\"151.0456\" y=\"-14.3\" font-family=\"Times,serif\" font-size=\"14.00\" fill=\"#000000\">1.002</text>\n</g>\n<!-- 2 -->\n<g id=\"node3\" class=\"node\">\n<title>2</title>\n<path fill=\"#ffff00\" stroke=\"#000000\" d=\"M132.0456,-123C132.0456,-123 68.0456,-123 68.0456,-123 62.0456,-123 56.0456,-117 56.0456,-111 56.0456,-111 56.0456,-99 56.0456,-99 56.0456,-93 62.0456,-87 68.0456,-87 68.0456,-87 132.0456,-87 132.0456,-87 138.0456,-87 144.0456,-93 144.0456,-99 144.0456,-99 144.0456,-111 144.0456,-111 144.0456,-117 138.0456,-123 132.0456,-123\"/>\n<text text-anchor=\"middle\" x=\"100.0456\" y=\"-101.3\" font-family=\"Times,serif\" font-size=\"14.00\" fill=\"#000000\">F0 &gt; 1.001?</text>\n</g>\n<!-- 2&#45;&gt;0 -->\n<g id=\"edge1\" class=\"edge\">\n<title>2&#45;&gt;0</title>\n<path fill=\"none\" stroke=\"#000000\" d=\"M89.6855,-86.9735C82.6668,-74.7609 73.271,-58.4123 65.3887,-44.697\"/>\n<polygon fill=\"#000000\" stroke=\"#000000\" points=\"68.2387,-42.6318 60.2212,-35.7057 62.1696,-46.1199 68.2387,-42.6318\"/>\n<text text-anchor=\"middle\" x=\"93.0456\" y=\"-57.8\" font-family=\"Times,serif\" font-size=\"14.00\" fill=\"#000000\">False</text>\n</g>\n<!-- 2&#45;&gt;1 -->\n<g id=\"edge2\" class=\"edge\">\n<title>2&#45;&gt;1</title>\n<path fill=\"none\" stroke=\"#000000\" d=\"M110.6128,-86.9735C117.8193,-74.6801 127.4826,-58.1956 135.5551,-44.4249\"/>\n<polygon fill=\"#000000\" stroke=\"#000000\" points=\"138.8021,-45.8067 140.8399,-35.4097 132.7632,-42.2667 138.8021,-45.8067\"/>\n<text text-anchor=\"middle\" x=\"141.5456\" y=\"-57.8\" font-family=\"Times,serif\" font-size=\"14.00\" fill=\"#000000\">True</text>\n</g>\n</g>\n</svg>\n"
          },
          "metadata": {},
          "execution_count": 111
        }
      ]
    },
    {
      "cell_type": "markdown",
      "source": [
        "**COMMENT:** When we look at the data generation function it is possible to see that result is almost similar to a binary output eventhough it is not 0 and 1 exactly. For this data , a tree with depth 1 would be enough to represent."
      ],
      "metadata": {
        "id": "5Bqxx2AJ6Ku0"
      }
    },
    {
      "cell_type": "markdown",
      "source": [
        "STEP 3"
      ],
      "metadata": {
        "id": "8sfJQHmk8KqY"
      }
    },
    {
      "cell_type": "markdown",
      "source": [
        "**COMMENT:** As a depth of tree we want to choose a value between 0 and 12 which is 5 to avoid overfitting or underfitting. We used mean squared error to evaluate our model and the error we got is 0.290. "
      ],
      "metadata": {
        "id": "ZBuSkUdwFuqM"
      }
    },
    {
      "cell_type": "code",
      "source": [
        "cls2 = TreeRegressor(max_depth=5)\n",
        "cls2.fit(Xtrain, Ytrain)\n",
        "tmp = mean_squared_error(Ytest, cls2.predict(Xtest))\n",
        "print(tmp)\n"
      ],
      "metadata": {
        "colab": {
          "base_uri": "https://localhost:8080/"
        },
        "id": "_wMOetrdEjgE",
        "outputId": "69686fcc-bf10-46ce-cb3d-3e16be0f4b40"
      },
      "execution_count": null,
      "outputs": [
        {
          "metadata": {
            "tags": null
          },
          "name": "stderr",
          "output_type": "stream",
          "text": [
            "/usr/local/lib/python3.7/dist-packages/numpy/core/fromnumeric.py:3724: RuntimeWarning: Degrees of freedom <= 0 for slice\n",
            "  **kwargs)\n",
            "/usr/local/lib/python3.7/dist-packages/numpy/core/_methods.py:223: RuntimeWarning: invalid value encountered in true_divide\n",
            "  subok=False)\n",
            "/usr/local/lib/python3.7/dist-packages/numpy/core/_methods.py:254: RuntimeWarning: invalid value encountered in double_scalars\n",
            "  ret = ret.dtype.type(ret / rcount)\n"
          ]
        },
        {
          "output_type": "stream",
          "name": "stdout",
          "text": [
            "0.2908445777514485\n"
          ]
        }
      ]
    },
    {
      "cell_type": "markdown",
      "source": [
        "STEP 4"
      ],
      "metadata": {
        "id": "YRvLXnM0Es39"
      }
    },
    {
      "cell_type": "code",
      "execution_count": null,
      "metadata": {
        "colab": {
          "base_uri": "https://localhost:8080/"
        },
        "id": "AgIIKymWjZSV",
        "outputId": "73c3fd20-1f1f-48ac-d6bc-2ca538ee73c6"
      },
      "outputs": [
        {
          "output_type": "stream",
          "name": "stderr",
          "text": [
            "/usr/local/lib/python3.7/dist-packages/numpy/core/fromnumeric.py:3724: RuntimeWarning: Degrees of freedom <= 0 for slice\n",
            "  **kwargs)\n",
            "/usr/local/lib/python3.7/dist-packages/numpy/core/_methods.py:223: RuntimeWarning: invalid value encountered in true_divide\n",
            "  subok=False)\n",
            "/usr/local/lib/python3.7/dist-packages/numpy/core/_methods.py:254: RuntimeWarning: invalid value encountered in double_scalars\n",
            "  ret = ret.dtype.type(ret / rcount)\n",
            "/usr/local/lib/python3.7/dist-packages/numpy/core/fromnumeric.py:3724: RuntimeWarning: Degrees of freedom <= 0 for slice\n",
            "  **kwargs)\n",
            "/usr/local/lib/python3.7/dist-packages/numpy/core/_methods.py:223: RuntimeWarning: invalid value encountered in true_divide\n",
            "  subok=False)\n",
            "/usr/local/lib/python3.7/dist-packages/numpy/core/_methods.py:254: RuntimeWarning: invalid value encountered in double_scalars\n",
            "  ret = ret.dtype.type(ret / rcount)\n",
            "/usr/local/lib/python3.7/dist-packages/numpy/core/fromnumeric.py:3724: RuntimeWarning: Degrees of freedom <= 0 for slice\n",
            "  **kwargs)\n",
            "/usr/local/lib/python3.7/dist-packages/numpy/core/_methods.py:223: RuntimeWarning: invalid value encountered in true_divide\n",
            "  subok=False)\n",
            "/usr/local/lib/python3.7/dist-packages/numpy/core/_methods.py:254: RuntimeWarning: invalid value encountered in double_scalars\n",
            "  ret = ret.dtype.type(ret / rcount)\n",
            "/usr/local/lib/python3.7/dist-packages/numpy/core/fromnumeric.py:3724: RuntimeWarning: Degrees of freedom <= 0 for slice\n",
            "  **kwargs)\n",
            "/usr/local/lib/python3.7/dist-packages/numpy/core/_methods.py:223: RuntimeWarning: invalid value encountered in true_divide\n",
            "  subok=False)\n",
            "/usr/local/lib/python3.7/dist-packages/numpy/core/_methods.py:254: RuntimeWarning: invalid value encountered in double_scalars\n",
            "  ret = ret.dtype.type(ret / rcount)\n",
            "/usr/local/lib/python3.7/dist-packages/numpy/core/fromnumeric.py:3724: RuntimeWarning: Degrees of freedom <= 0 for slice\n",
            "  **kwargs)\n",
            "/usr/local/lib/python3.7/dist-packages/numpy/core/_methods.py:223: RuntimeWarning: invalid value encountered in true_divide\n",
            "  subok=False)\n",
            "/usr/local/lib/python3.7/dist-packages/numpy/core/_methods.py:254: RuntimeWarning: invalid value encountered in double_scalars\n",
            "  ret = ret.dtype.type(ret / rcount)\n",
            "/usr/local/lib/python3.7/dist-packages/numpy/core/fromnumeric.py:3724: RuntimeWarning: Degrees of freedom <= 0 for slice\n",
            "  **kwargs)\n",
            "/usr/local/lib/python3.7/dist-packages/numpy/core/_methods.py:223: RuntimeWarning: invalid value encountered in true_divide\n",
            "  subok=False)\n",
            "/usr/local/lib/python3.7/dist-packages/numpy/core/_methods.py:254: RuntimeWarning: invalid value encountered in double_scalars\n",
            "  ret = ret.dtype.type(ret / rcount)\n",
            "/usr/local/lib/python3.7/dist-packages/numpy/core/fromnumeric.py:3724: RuntimeWarning: Degrees of freedom <= 0 for slice\n",
            "  **kwargs)\n",
            "/usr/local/lib/python3.7/dist-packages/numpy/core/_methods.py:223: RuntimeWarning: invalid value encountered in true_divide\n",
            "  subok=False)\n",
            "/usr/local/lib/python3.7/dist-packages/numpy/core/_methods.py:254: RuntimeWarning: invalid value encountered in double_scalars\n",
            "  ret = ret.dtype.type(ret / rcount)\n",
            "/usr/local/lib/python3.7/dist-packages/numpy/core/fromnumeric.py:3724: RuntimeWarning: Degrees of freedom <= 0 for slice\n",
            "  **kwargs)\n",
            "/usr/local/lib/python3.7/dist-packages/numpy/core/_methods.py:223: RuntimeWarning: invalid value encountered in true_divide\n",
            "  subok=False)\n",
            "/usr/local/lib/python3.7/dist-packages/numpy/core/_methods.py:254: RuntimeWarning: invalid value encountered in double_scalars\n",
            "  ret = ret.dtype.type(ret / rcount)\n",
            "/usr/local/lib/python3.7/dist-packages/numpy/core/fromnumeric.py:3724: RuntimeWarning: Degrees of freedom <= 0 for slice\n",
            "  **kwargs)\n",
            "/usr/local/lib/python3.7/dist-packages/numpy/core/_methods.py:223: RuntimeWarning: invalid value encountered in true_divide\n",
            "  subok=False)\n",
            "/usr/local/lib/python3.7/dist-packages/numpy/core/_methods.py:254: RuntimeWarning: invalid value encountered in double_scalars\n",
            "  ret = ret.dtype.type(ret / rcount)\n",
            "/usr/local/lib/python3.7/dist-packages/numpy/core/fromnumeric.py:3724: RuntimeWarning: Degrees of freedom <= 0 for slice\n",
            "  **kwargs)\n",
            "/usr/local/lib/python3.7/dist-packages/numpy/core/_methods.py:223: RuntimeWarning: invalid value encountered in true_divide\n",
            "  subok=False)\n",
            "/usr/local/lib/python3.7/dist-packages/numpy/core/_methods.py:254: RuntimeWarning: invalid value encountered in double_scalars\n",
            "  ret = ret.dtype.type(ret / rcount)\n",
            "/usr/local/lib/python3.7/dist-packages/numpy/core/fromnumeric.py:3724: RuntimeWarning: Degrees of freedom <= 0 for slice\n",
            "  **kwargs)\n",
            "/usr/local/lib/python3.7/dist-packages/numpy/core/_methods.py:223: RuntimeWarning: invalid value encountered in true_divide\n",
            "  subok=False)\n",
            "/usr/local/lib/python3.7/dist-packages/numpy/core/_methods.py:254: RuntimeWarning: invalid value encountered in double_scalars\n",
            "  ret = ret.dtype.type(ret / rcount)\n"
          ]
        }
      ],
      "source": [
        "train_tmp = []\n",
        "test_tmp = []\n",
        "for depth in range(1,12):\n",
        "  cls2 = TreeRegressor(max_depth=depth)\n",
        "  cls2.fit(Xtrain, Ytrain)\n",
        "  tmp = mean_squared_error(Ytest, cls2.predict(Xtest))\n",
        "  tmp_train = mean_squared_error(Ytrain, cls2.predict(Xtrain))\n",
        "  test_tmp.append(tmp)\n",
        "  train_tmp.append(tmp_train)\n",
        "\n",
        "\n",
        "\n"
      ]
    },
    {
      "cell_type": "code",
      "source": [
        "\n",
        "plt.plot(train_tmp,label=\"train\")\n",
        "plt.plot(test_tmp,label=\"test\")\n",
        "plt.xlabel(\"no of depth\")\n",
        "plt.ylabel(\"mean squared error\")\n",
        "plt.legend(loc=\"upper left\")"
      ],
      "metadata": {
        "colab": {
          "base_uri": "https://localhost:8080/",
          "height": 294
        },
        "id": "XLUbWvamEPL9",
        "outputId": "00676303-2f1e-4e00-87ae-e7e1251f3cd2"
      },
      "execution_count": null,
      "outputs": [
        {
          "output_type": "execute_result",
          "data": {
            "text/plain": [
              "<matplotlib.legend.Legend at 0x7f16cf019110>"
            ]
          },
          "metadata": {},
          "execution_count": 108
        },
        {
          "output_type": "display_data",
          "data": {
            "text/plain": [
              "<Figure size 432x288 with 1 Axes>"
            ],
            "image/png": "[encoded data removed]"
          },
          "metadata": {
            "needs_background": "light"
          }
        }
      ]
    },
    {
      "cell_type": "code",
      "source": [
        "print( test_tmp)\n",
        "print( train_tmp)"
      ],
      "metadata": {
        "colab": {
          "base_uri": "https://localhost:8080/"
        },
        "id": "cjD0uOx9EUHN",
        "outputId": "8e83bca9-f515-4550-c56d-77bd2d638680"
      },
      "execution_count": null,
      "outputs": [
        {
          "output_type": "stream",
          "name": "stdout",
          "text": [
            "[0.34098250711388134, 0.3116427403885958, 0.30188395972140913, 0.2934119954081052, 0.2908445777514485, 0.28670417294957007, 0.287062754434163, 0.2869578391760956, 0.2897903642367582, 0.3003799027402393, 0.3061980930062314]\n",
            "[0.3263543480100574, 0.30042490282992007, 0.28927232915183554, 0.28075302267015384, 0.27391266262208824, 0.2664649987553864, 0.25880826848328425, 0.2501312961118763, 0.2398167715916042, 0.22914320485279663, 0.21826963276762515]\n"
          ]
        }
      ]
    },
    {
      "cell_type": "markdown",
      "source": [
        "**COMMENT:** If we look at the graph we can see that until the depth of 5 error for both train and test decreasing where as after the depth of 5 error for train decreasing while error for test increasing. Reason for this is when depth is high our model become biased towards our training data and it losses it generability due to this error in test test increases."
      ],
      "metadata": {
        "id": "BhKPzGLE66x5"
      }
    }
  ],
  "metadata": {
    "colab": {
      "collapsed_sections": [],
      "provenance": [],
      "include_colab_link": true
    },
    "kernelspec": {
      "display_name": "Python 3",
      "name": "python3"
    },
    "language_info": {
      "name": "python"
    }
  },
  "nbformat": 4,
  "nbformat_minor": 0
}